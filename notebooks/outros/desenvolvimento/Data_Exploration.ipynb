{
  "cells": [
    {
      "cell_type": "markdown",
      "metadata": {
        "id": "eOE_ozCNC2uj"
      },
      "source": [
        "## Bibliotecas\n",
        "\n"
      ]
    },
    {
      "cell_type": "code",
      "execution_count": null,
      "metadata": {
        "colab": {
          "base_uri": "https://localhost:8080/"
        },
        "id": "s0vit-8eBYrK",
        "outputId": "dde8dffa-7825-42e3-e3af-8000650315d3"
      },
      "outputs": [],
      "source": [
        "%pip install pandas\n",
        "%pip install plotly_express\n",
        "%pip install missingno\n",
        "%pip install scipy\n",
        "%pip install nbformat\n",
        "%pip install scikit-learn"
      ]
    },
    {
      "cell_type": "markdown",
      "metadata": {
        "id": "AflNoSYfDk5G"
      },
      "source": [
        "## Importação\n"
      ]
    },
    {
      "cell_type": "code",
      "execution_count": null,
      "metadata": {
        "id": "sc2ShVbnColt"
      },
      "outputs": [],
      "source": [
        "import pandas as pd\n",
        "import plotly_express as px\n",
        "import missingno as msno\n",
        "from scipy.stats import chi2_contingency\n",
        "from scipy.stats import stats\n",
        "import numpy as np\n",
        "import seaborn as sns\n",
        "import matplotlib.pyplot as plt"
      ]
    },
    {
      "cell_type": "markdown",
      "metadata": {
        "id": "Bbr5KBVaERq8"
      },
      "source": [
        "## Carregamento de dados\n"
      ]
    },
    {
      "cell_type": "code",
      "execution_count": null,
      "metadata": {
        "colab": {
          "base_uri": "https://localhost:8080/",
          "height": 808
        },
        "id": "l8b3qWipEfkM",
        "outputId": "acb64243-71fe-4e8d-a128-92d2b99868af"
      },
      "outputs": [],
      "source": [
        "df_1 = pd.read_csv(\"../../../documentos/outros/base_de_dados/base_inteli_2020_2021.csv\", sep = \";\")\n",
        "df_2 = pd.read_csv(\"../../../documentos/outros/base_de_dados/base_inteli_2022_2023.csv\", sep = \";\")\n",
        "df = pd.concat([df_1, df_2])\n",
        "\n",
        "df"
      ]
    },
    {
      "cell_type": "markdown",
      "metadata": {
        "id": "oUMktcRpF1As"
      },
      "source": [
        "## Exploração dos Dados"
      ]
    },
    {
      "cell_type": "markdown",
      "metadata": {
        "id": "giIoshbIGrDU"
      },
      "source": [
        "### Identificação das colunas numéricas e categóricas"
      ]
    },
    {
      "cell_type": "code",
      "execution_count": null,
      "metadata": {
        "colab": {
          "base_uri": "https://localhost:8080/"
        },
        "id": "ov_D2j9uG1nu",
        "outputId": "d5343e27-c4f7-4da2-8f12-f2bfa8246373"
      },
      "outputs": [],
      "source": [
        "# Identifica o tipo de dado de cada coluna\n",
        "df.dtypes"
      ]
    },
    {
      "cell_type": "markdown",
      "metadata": {
        "id": "jF0q9QUYldhE"
      },
      "source": [
        "Considerando a descrição da coluna, a análise do tipo de dado de cada\n",
        "uma delas e a definição de dados categóricos e numéricos, foi montada a seguinte tabela:"
      ]
    },
    {
      "cell_type": "markdown",
      "metadata": {
        "id": "LrsI2CryGbs0"
      },
      "source": [
        "| Coluna                        | Descrição                                                         | Tipo de dado     |\n",
        "|-------------------------------|-------------------------------------------------------------------|------------------|\n",
        "| date                        | Data da venda do produto                                           | Numérico      |\n",
        "| weekday_name                | Dia da semana em que ocorreu a venda do produto                   | Categórico       |\n",
        "| sku                         | Código do produto vendido                                         | Categórico       |\n",
        "| unit_price                  | Preço do produto vendido                                          | Numérico         |\n",
        "| mobly_item                  | Indicação se o item é entregue e vendido pela Mobly               | Categórico       |\n",
        "| shipment_type               | Modalidade de entrega do produto (se temos no estoque ou não)    | Categórico       |\n",
        "| anchor_category          | Categoria macro do produto                                        | Categórico       |\n",
        "| product_department       | Departamento do produto                                           | Categórico       |\n",
        "| product_category         | Categoria micro do produto                                        | Categórico       |\n",
        "| origin_country              | Origem do produto (nacional ou importado)                         | Categórico       |\n",
        "| process_costing             | Definição se a Mobly fornece a matéria-prima para produção do produto | Categórico       |\n",
        "| sku_color                   | Cor do produto                                                    | Categórico       |\n",
        "| sku_height                  | Altura do produto                                                 | Numérico         |\n",
        "| sku_width                   | Largura do produto                                                | Numérico         |\n",
        "| sku_length                  | Comprimento do produto                                            | Numérico         |\n",
        "| sku_weight                  | Peso do produto                                                   | Numérico         |\n",
        "| price_status                | Status do preço daquele produto em relação à concorrência no Google Shopping | Categórico       |\n",
        "| winning_price               | Preço do item loja que está ganhando no Google Shopping          | Numérico         |\n",
        "| revenue                     | Receita gerada pela venda do produto                              | Numérico         |\n",
        "| items_sold                  | Quantidade vendida do produto                                     | Numérico         |\n",
        "| avg_website_visits_last_week| Média diária de visitas do produto no site nos últimos 7 dias   | Numérico         |\n",
        "| supplier_delivery_time      | Tempo de entrega do fornecedor (em dias)                         | Numérico         |\n",
        "| stock_qty                   | Quantidade em estoque                                             | Numérico         |\n",
        "| flag_bundle                 | Indicação se o produto faz parte de um pacote/bundle             | Categórico       |\n",
        "| revenue_bundle              | Receita gerada pela venda do pacote/bundle                        | Numérico         |\n",
        "| items_sold_bundle           | Quantidade vendida do pacote/bundle                               | Numérico         |\n",
        "\n",
        "\n",
        "\n",
        "\n",
        "\n",
        "\n",
        "\n",
        "\n"
      ]
    },
    {
      "cell_type": "markdown",
      "metadata": {
        "id": "C-TI9PZdQWfs"
      },
      "source": [
        "### Estatística Descritiva\n"
      ]
    },
    {
      "cell_type": "code",
      "execution_count": null,
      "metadata": {
        "colab": {
          "base_uri": "https://localhost:8080/",
          "height": 0
        },
        "id": "IZTThG2cRHSW",
        "outputId": "169948e0-ae5b-468a-e3ae-3e5c6d84fe4a"
      },
      "outputs": [],
      "source": [
        "# Exibe um resumo estatístico das colunas numéricas.\n",
        "df.describe()"
      ]
    },
    {
      "cell_type": "markdown",
      "metadata": {
        "id": "WNJyPl1JabBi"
      },
      "source": [
        "### Tipos de variáveis\n"
      ]
    },
    {
      "cell_type": "markdown",
      "metadata": {
        "id": "c1y4yb11axIs"
      },
      "source": [
        "#### Variáveis nominais\n",
        "\n"
      ]
    },
    {
      "cell_type": "markdown",
      "metadata": {
        "id": "sIG8u5iIh8Ge"
      },
      "source": [
        "`sku`,`sku_color`, `sales_type`, `mobly_item`, `shipment_type`, `anchor_category`, `product_department`, `product_category`, `origin_country`, `process_costing`, `flag_bundle`"
      ]
    },
    {
      "cell_type": "markdown",
      "metadata": {
        "id": "tRyFOKaLd4XD"
      },
      "source": [
        "#### Variáveis Ordinais\n"
      ]
    },
    {
      "cell_type": "markdown",
      "metadata": {
        "id": "kK4vZnS-goN4"
      },
      "source": [
        "`date`, `weekday_name`, `supplier_delivery_time`"
      ]
    },
    {
      "cell_type": "markdown",
      "metadata": {
        "id": "d2P8zu2DgkND"
      },
      "source": [
        "#### Variáveis intervalares\n"
      ]
    },
    {
      "cell_type": "markdown",
      "metadata": {
        "id": "JlCzykAPiAZ4"
      },
      "source": [
        "`unit_price`, `winning_price`, `avg_website_visits_last_week`, `sku_height`, `sku_width`, `sku_lenght`, `sku_weight`, `revenue`, `items_sold`, `stock_qty`, `revenue_bundle`, `items_sold_bundle`"
      ]
    },
    {
      "cell_type": "markdown",
      "metadata": {
        "id": "1v-xF3B6n3sa"
      },
      "source": [
        "### Análise das correlações"
      ]
    },
    {
      "cell_type": "markdown",
      "metadata": {
        "id": "OBw6YPkEiHyd"
      },
      "source": [
        "Como a coluna \"avg_website_visits_last_week\" é exponencial é necessário aplicar o log sobre ela para então deixar a relação linear e poder fazer a análise das correlações.\n"
      ]
    },
    {
      "cell_type": "code",
      "execution_count": null,
      "metadata": {
        "id": "39-FoQNDgmrd"
      },
      "outputs": [],
      "source": [
        "# Aplica o log na coluna \"avg_website_visits_last_week\"\n",
        "df[\"log_avg_website_visits_last_week\"] = np.log( np.array(df[\"avg_website_visits_last_week\"] + 1) )"
      ]
    },
    {
      "cell_type": "markdown",
      "metadata": {
        "id": "hFYnAkjzixwt"
      },
      "source": [
        "Feito isso, é montada a matriz de correlação, em que é possível analisar o nível de impacto entre uma variável e outra. Tal matriz é composta por valores de -1 a 1 em que:\n",
        "- Quanto mais próximo de -1, mais existe uma relação inversamente proporcional entre as variáveis\n",
        "- Quanto mais próximo de 1 mais existe uma relação diretamente proporcional entre as variáveis\n",
        "- Quanto mais próximo de 0 menor o nível de influência entre as variáveis\n"
      ]
    },
    {
      "cell_type": "code",
      "execution_count": null,
      "metadata": {
        "colab": {
          "base_uri": "https://localhost:8080/",
          "height": 853
        },
        "id": "QRDUezrKo5uu",
        "outputId": "7eb49fea-69f4-424a-d760-198abc8b22b0"
      },
      "outputs": [],
      "source": [
        "# Cria e exibe a matriz de correlação das colunas\n",
        "correlation_matrix = df.corr(numeric_only=True)\n",
        "plt.figure(figsize=(8, 6))\n",
        "sns.heatmap(correlation_matrix, annot=True, cmap='coolwarm', fmt=\".2f\")\n",
        "plt.title('Matriz de Correlação')\n",
        "plt.show()"
      ]
    },
    {
      "cell_type": "markdown",
      "metadata": {
        "id": "wBy55IsInqDf"
      },
      "source": [
        "De acordo com a matriz é possível perceber que:\n",
        "- Itens com maior relação diretamente proporcional são: revenue e items_sold, sku_lenght e sku_weight, avg_website_visits_last_week e items_sold, avg_website_visits_last_week e revenue.\n",
        "\n",
        "- Itens com maior relação inversamente proporcional são: sku_lenght e supplier_delivery_time, unit_price e items_sold, sku_width e stock_qty\n"
      ]
    },
    {
      "cell_type": "markdown",
      "metadata": {
        "id": "ju9OasM0UFrx"
      },
      "source": [
        "### Gráficos"
      ]
    },
    {
      "cell_type": "markdown",
      "metadata": {
        "id": "VKevMphPyhkU"
      },
      "source": [
        "#### Gráfico 1 - Quantidade de itens vendidos por macro categoria"
      ]
    },
    {
      "cell_type": "code",
      "execution_count": null,
      "metadata": {
        "colab": {
          "base_uri": "https://localhost:8080/",
          "height": 542
        },
        "id": "JSA0Aq1ZUQHa",
        "outputId": "f8fdd4a1-b364-43f6-cb2c-6912cdfe8921"
      },
      "outputs": [],
      "source": [
        "# Cria um histograma relacionando itens vendidos e macro categoria\n",
        "# Configura a coluna 'anchor_category' como eixo x e a coluna 'items_sold' como eixo y\n",
        "cat_macro = px.histogram(df, x=\"anchor_category\", y=\"items_sold\", title= \"Itens vendidos por macro categoria\").update_xaxes(title_text='Macro Categoria').update_yaxes(title_text='Itens Vendidos').update_xaxes(title_text='Macro Categoria').update_yaxes(title_text='Itens Vendidos')\n",
        "\n",
        "cat_macro.show() # Exibe o histograma"
      ]
    },
    {
      "cell_type": "markdown",
      "metadata": {
        "id": "2KFipZJYy2eh"
      },
      "source": [
        "**Conclusão:** As áreas com mais vendas são sofás, cadeiras de escritório e closets"
      ]
    },
    {
      "cell_type": "markdown",
      "metadata": {
        "id": "TM9DZrEEyrbT"
      },
      "source": [
        "#### Gráfico 2 - Quantidade de itens vendidos por micro categoria"
      ]
    },
    {
      "cell_type": "code",
      "execution_count": null,
      "metadata": {
        "colab": {
          "base_uri": "https://localhost:8080/",
          "height": 542
        },
        "id": "lttXFI9nUJBP",
        "outputId": "047d7978-4b88-4c1a-b342-44862a8d9f84"
      },
      "outputs": [],
      "source": [
        "# Cria um histograma relacionando itens vendidos e micro categoria\n",
        "# Configura a coluna 'product_category' como eixo x e a coluna 'items_sold' como eixo y\n",
        "cat_micro = px.histogram(df, x = \"product_category\", y = \"items_sold\", title= \"Itens vendidos por micro categoria\").update_xaxes(title_text='Micro Categoria').update_yaxes(title_text='Itens Vendidos')\n",
        "\n",
        "cat_micro.show() # Exibe o histograma"
      ]
    },
    {
      "cell_type": "markdown",
      "metadata": {
        "id": "PJNjEr_ezbhY"
      },
      "source": [
        "**Conclusão:** As áreas que acumulam mais venda são sala de estar, quarto e escritório"
      ]
    },
    {
      "cell_type": "markdown",
      "metadata": {
        "id": "g4HAYcSOzxhr"
      },
      "source": [
        "#### Gráfico 3- quantidade de itens vendidos por dia da semana"
      ]
    },
    {
      "cell_type": "code",
      "execution_count": null,
      "metadata": {
        "colab": {
          "base_uri": "https://localhost:8080/",
          "height": 542
        },
        "id": "IIR8NdAXUiqw",
        "outputId": "82ad653c-0e1f-437c-fb0e-a5e9a69f3f31"
      },
      "outputs": [],
      "source": [
        "# Cria um histograma relacionando itens vendido e dia da semana\n",
        "# Configura a coluna 'weekday_name' como eixo x e a coluna 'items_sold' como eixo y\n",
        "week = px.histogram(df, x=\"weekday_name\", y=\"items_sold\", title= \"Itens vendidos por dia da semana\").update_xaxes(title_text='Dia da Semana').update_yaxes(title_text='Itens Vendidos')\n",
        "\n",
        "week.show() # Exibe o histograma"
      ]
    },
    {
      "cell_type": "markdown",
      "metadata": {
        "id": "plujVbD8z8v0"
      },
      "source": [
        "**Conclusão:** As vendas se mantém regulares durante todos os dias da semana, havendo algumas variancias não significativas\n"
      ]
    },
    {
      "cell_type": "markdown",
      "metadata": {
        "id": "40rqUpH90Hsx"
      },
      "source": [
        "#### Gráfico 4 - Mapa de calor de itens vendidos por dia e mês"
      ]
    },
    {
      "cell_type": "code",
      "execution_count": null,
      "metadata": {
        "colab": {
          "base_uri": "https://localhost:8080/",
          "height": 542
        },
        "id": "_9qXPoaONu4c",
        "outputId": "9577e883-61fb-46a8-df01-591ced888343"
      },
      "outputs": [],
      "source": [
        "# Cria uma cópia do DataFrame original para trabalhar com ele e transforma a coluna 'date' para DateTime\n",
        "df_day = df\n",
        "df_day['date'] = pd.to_datetime(df_day['date'], format='%Y-%m-%d')\n",
        "df_day['month'] = df_day['date'].dt.month\n",
        "df_day['day'] = df_day['date'].dt.day\n",
        "df_day['year'] = df_day['date'].dt.year\n",
        "\n",
        "# Cria um pivot table que calcula a média dos valores da coluna 'items_sold' com base nos valores das colunas 'month' e 'day'\n",
        "df_day_heatmap = df_day.pivot_table(values='items_sold', index='month', columns='day', aggfunc='mean')\n",
        "\n",
        "# Cria um heatmap com os valores da pivot table 'df_day_heatmap' e configura rótulos e títulos adequados\n",
        "color = \"deep\"\n",
        "heatmap_sold = px.imshow(df_day_heatmap,\n",
        "                labels=dict(x=\"Dia\", y=\"Mês\", color=\"Média de itens vendidos\"),\n",
        "                x=df_day_heatmap.columns,\n",
        "                y=df_day_heatmap.index,\n",
        "                color_continuous_scale = color).update_layout(title=\"Mapa de Calor da Média de Itens Vendidos por Dia e Mês\", xaxis_side='bottom')\n",
        "heatmap_sold.show() # Exibe o heatmap"
      ]
    },
    {
      "cell_type": "markdown",
      "metadata": {
        "id": "eMX1joGR0Set"
      },
      "source": [
        "**Conclusão:** os últimos dias do mês de novembro apresentam maior número de vendas, já os últimos dias do mês de dezembro e os primeiros dias do mês de janeiro apresentam uma baixa nas vendas. Além disso, é possível perceber que durante os seis primeiros meses do meio para o fim do mês ocorre uma leve queda nas vendas também.\n",
        "\n",
        "\n"
      ]
    },
    {
      "cell_type": "markdown",
      "metadata": {
        "id": "oLOQNuYEa2k4"
      },
      "source": [
        "#### Gráfico 5 - Receita ao longo do tempo"
      ]
    },
    {
      "cell_type": "code",
      "execution_count": null,
      "metadata": {
        "colab": {
          "base_uri": "https://localhost:8080/",
          "height": 542
        },
        "id": "FEagsgVcd3pE",
        "outputId": "c2e4435c-235f-4457-fa27-efe99371d9df"
      },
      "outputs": [],
      "source": [
        "# Cria o gráfico de linha relacionando a receita ao longo do tempo\n",
        "# Configura a coluna 'date' como eixo x e a coluna 'revenue' como eixo y\n",
        "revenue_over_time = px.line(df, x='date', y='revenue', title='Receita ao Longo do Tempo').update_xaxes(title_text='Tempo').update_yaxes(title_text='Receita')\n",
        "\n",
        "revenue_over_time.show() # Exibe o gráfico de linha"
      ]
    },
    {
      "cell_type": "markdown",
      "metadata": {
        "id": "BmgiskxgcYsL"
      },
      "source": [
        "**Conclusão:** é possível perceber que durante o fim de novembro de todos os três anos há um grande aumento de receita, enquanto que nos meses de dezembro e janeiro existe uma tendência de queda na receita\n"
      ]
    },
    {
      "cell_type": "markdown",
      "metadata": {
        "id": "9lgBzqk6dH0Y"
      },
      "source": [
        "#### Gráfico 6 - Quantidade de produtos vendidos por peso"
      ]
    },
    {
      "cell_type": "code",
      "execution_count": null,
      "metadata": {
        "colab": {
          "base_uri": "https://localhost:8080/",
          "height": 542
        },
        "id": "HNEfR7ycleyy",
        "outputId": "749b0cb0-a245-442f-f977-5537ffce4eda"
      },
      "outputs": [],
      "source": [
        "# Cria um gráfico de dispersão relacionando peso do produto com o número de vendas\n",
        "# Configura a coluna 'sku_weight' como eixo x e a coluna 'items_sold' como eixo y\n",
        "weight_item= px.scatter(df, x='sku_weight', y='items_sold', title='Quantidade Vendida por peso').update_xaxes(title_text='Peso do Produto').update_yaxes(title_text='Quantidade Vendida')\n",
        "\n",
        "weight_item.show() # Exibe o gráfico de dispersão"
      ]
    },
    {
      "cell_type": "markdown",
      "metadata": {
        "id": "78flciAqeCO9"
      },
      "source": [
        "**Conclusão:** Produtos mais leves apresentam maior quantidade de vendas\n"
      ]
    },
    {
      "cell_type": "markdown",
      "metadata": {
        "id": "72UiW6UParTO"
      },
      "source": [
        "### Hipóteses"
      ]
    },
    {
      "cell_type": "markdown",
      "metadata": {
        "id": "GeyC9-2wh_kl"
      },
      "source": [
        "#### Gráfico 2 - Quantidade de itens vendidos por micro categoria"
      ]
    },
    {
      "cell_type": "code",
      "execution_count": null,
      "metadata": {
        "colab": {
          "base_uri": "https://localhost:8080/",
          "height": 542
        },
        "id": "x0w6FWDPi1Fg",
        "outputId": "f185b076-c000-4ad3-d1ec-4e3a08410788"
      },
      "outputs": [],
      "source": [
        "# Cria um histograma relacionando itens vendidos e micro categoria\n",
        "# Configura a coluna 'product_category' como eixo x e a coluna 'items_sold' como eixo y\n",
        "cat_micro = px.histogram(df, x = \"product_category\", y = \"items_sold\", title= \"Itens vendidos por micro categoria\").update_xaxes(title_text='Micro Categoria').update_yaxes(title_text='Itens Vendidos')\n",
        "\n",
        "cat_micro.show() # Exibe o histograma"
      ]
    },
    {
      "cell_type": "markdown",
      "metadata": {
        "id": "Yx6vfTILipTu"
      },
      "source": [
        "Nesse gráfico, utilizamos a diferenciação por barras verticais, divididas por categoria do produto. Os gráficos de barras verticais são especialmente eficazes para comparar valores entre várias categorias ou grupos. Os valores são organizados de forma linear ao longo do eixo horizontal, tornando mais intuitiva a comparação entre as barras adjacentes.\n",
        "\n",
        "**Premissa:** Os produtos da categoria \"Sala de Estar\" são os que apresentam mais vendas (800 mil).\n",
        "\n",
        "**Hipótese:** A sala de estar é uma parte fundamental de qualquer casa ou apartamento. É o espaço onde as pessoas geralmente se reúnem para relaxar, assistir TV, conversar com a família e receber visitas. Portanto, os móveis e acessórios para a sala de estar são considerados essenciais para a maioria das pessoas, o que cria uma demanda constante por esses produtos. Além disso, é possível perceber no Gráfico 1 - Quantidade de itens vendidos por macro categoria que os sofás também são os que apresentam mais vendas, o que pode contribuir para a colocação da micro categoria Sala de Estar."
      ]
    },
    {
      "cell_type": "markdown",
      "metadata": {
        "id": "W9hMnRt2byHv"
      },
      "source": [
        "#### Gráfico 4 - Mapa de calor de itens vendidos por dia e mês"
      ]
    },
    {
      "cell_type": "code",
      "execution_count": null,
      "metadata": {
        "colab": {
          "base_uri": "https://localhost:8080/",
          "height": 542
        },
        "id": "hYIS-4CTdZLr",
        "outputId": "4638f9a8-e156-468c-cd02-2f02dff9a1b8"
      },
      "outputs": [],
      "source": [
        "# Cria um pivot table que calcula a média dos valores da coluna 'items_sold' com base nos valores das colunas 'month' e 'day'\n",
        "df_day_heatmap = df_day.pivot_table(values='items_sold', index='month', columns='day', aggfunc='mean')\n",
        "\n",
        "# Cria um heatmap com os valores da pivot table 'df_day_heatmap' e configura rótulos e títulos adequados\n",
        "color = \"deep\"\n",
        "heatmap_sold = px.imshow(df_day_heatmap,\n",
        "                labels=dict(x=\"Dia\", y=\"Mês\", color=\"Média de itens vendidos\"),\n",
        "                x=df_day_heatmap.columns,\n",
        "                y=df_day_heatmap.index,\n",
        "                color_continuous_scale = color).update_layout(title=\"Mapa de Calor da Média de Itens Vendidos por Dia e Mês\", xaxis_side='bottom')\n",
        "heatmap_sold.show() # Exibe o heatmap"
      ]
    },
    {
      "cell_type": "markdown",
      "metadata": {
        "id": "wFj4KKnUavBS"
      },
      "source": [
        "\n",
        "\n",
        "Para esse gráfico, pensamos em um mapa de calor por deixar evidente e destacado em cores os períodos em que houve uma maior incidência de vendas, facilitando a visualização. Cada coluna representa um dia e cada linha representa um mês.\n",
        "\n",
        "**Premissa:** Com base na análise do gráfico de calor, é evidente que as vendas da Mobly mantêm uma certa constância ao longo do ano, com exceção de um aumento significativo no final do mês de novembro.\n",
        "\n",
        "**Hipótese:** O aumento acentuado nas vendas no final de novembro, conforme observado no gráfico de calor, pode ser atribuído à participação da Mobly na Black Friday. A Black Friday é um evento de compras amplamente reconhecido, caracterizado por descontos significativos e promoções especiais oferecidas por várias empresas.\n",
        "\n",
        "Essa hipótese sugere que a Mobly aproveita a Black Friday como uma oportunidade estratégica para impulsionar suas vendas. Durante esse período, a empresa pode adotar uma estratégia agressiva de marketing, oferecendo descontos substanciais em seus produtos ou promovendo ofertas exclusivas para atrair um grande volume de compradores. Esse aumento nas atividades promocionais e nas ofertas especiais leva a um aumento nas vendas, que é claramente refletido no gráfico de calor.\n",
        "\n",
        "A constância nas vendas ao longo do ano, com exceção desse pico em novembro, indica que a Mobly provavelmente planeja cuidadosamente suas operações e estratégias de vendas para manter um equilíbrio entre a estabilidade de receita durante o ano e a maximização das vendas durante eventos como a Black Friday. Portanto, a hipótese enfatiza a importância estratégica da Black Friday como um período de aumento significativo nas vendas, graças às suas ofertas especiais e promoções. Um indício da veracidade dessa suposição, é que é um evento sazonal, ou seja, é perceptível em todos os quatro anos da base de dados (2020-2023)."
      ]
    },
    {
      "cell_type": "markdown",
      "metadata": {
        "id": "z2pdCgeetRUi"
      },
      "source": [
        "#### Gráfico 6 - Quantidade vendida por peso"
      ]
    },
    {
      "cell_type": "code",
      "execution_count": null,
      "metadata": {
        "colab": {
          "base_uri": "https://localhost:8080/",
          "height": 542
        },
        "id": "Wt-SU8b5Vk14",
        "outputId": "62cd3eb7-89c5-4fc7-f84e-fb7e2ffb9a86"
      },
      "outputs": [],
      "source": [
        "# Cria um gráfico de dispersão relacionando peso do produto com o número de vendas\n",
        "# Configura a coluna 'sku_weight' como eixo x e a coluna 'items_sold' como eixo y\n",
        "weight_item= px.scatter(df_day, x='sku_weight', y='items_sold', title='Quantidade Vendida por peso').update_xaxes(title_text='Peso do Produto').update_yaxes(title_text='Quantidade Vendida')\n",
        "\n",
        "weight_item.show() # Exibe o gráfico de dispersão"
      ]
    },
    {
      "cell_type": "markdown",
      "metadata": {
        "id": "0RJhwNZcWBqP"
      },
      "source": [
        "Neste gráfico tivemos o objetivo de transmitir de forma visual a relação do peso dos produtos, com seu volume de vendas. Optamos por um gráfico de dispersão (Scatter Plot), que utiliza pontos para apresentar as vendas\n",
        "\n",
        "**Premissa:** Produtos mais leves são mais vendidos.\n",
        "\n",
        "**Hipótese:** A relação entre o peso de um produto e suas vendas é inversamente proporcional, indicando que produtos mais leves tendem a ser mais vendidos do que produtos mais pesados, consumidores geralmente preferem produtos que sejam mais fáceis de manusear, transportar e armazenar. Produtos mais leves podem oferecer maior conveniência e praticidade.Além disso, estes produtos muitas vezes são acompanhados de preços, e custo de entrega mais baixos. Por exemplo, o custo de entrega de uma luminária geralmente é mais baixo que o custo de entrega de um armário. Além disso, a instalação de um produto leve costuma ser muito mais simples e prática do que a de um produto mais pesado.\n",
        "\n",
        "Ressalta-se que na apresentação de validação com os parceiros ao final da sprint 2, foi pontuado que essa relação entre menores pesos apresentarem mais vendas não é causal, ou seja, não são os menores pesos que influenciam diretamente na hora da compra. Foi pontuado que isso acontece por, geralmente, os consumidores optarem por levar mais unidades de produtos mais baratos e, também, mais leves, como por exemplo um kit de cadeiras apresenta mais saídas de um produto em uma única compra do que a compra de uma unidade de sofá."
      ]
    },
    {
      "cell_type": "markdown",
      "metadata": {
        "id": "xRVX1KJ6JJf7"
      },
      "source": [
        "### Tratamento de _values missing_"
      ]
    },
    {
      "cell_type": "markdown",
      "metadata": {
        "id": "BliBsaTftKXR"
      },
      "source": [
        "Por meio do código abaixo é possível ter ciência de quais colunas possuem dados nulos:"
      ]
    },
    {
      "cell_type": "code",
      "execution_count": null,
      "metadata": {
        "colab": {
          "base_uri": "https://localhost:8080/"
        },
        "id": "ZAuUckHpJzO5",
        "outputId": "88b8251f-3047-4ca1-a153-3ab3ded48efa"
      },
      "outputs": [],
      "source": [
        "# Mostra quais tabelas possuem valores nulos\n",
        "df_day.isnull().sum()"
      ]
    },
    {
      "cell_type": "markdown",
      "metadata": {
        "id": "LocbWFBQtRIh"
      },
      "source": [
        "A partir dessa identificação, nós optamos por remover as linhas nulas das tabelas: 'sku_height', 'sku_width', 'sku_length' e 'sku_weight'."
      ]
    },
    {
      "cell_type": "code",
      "execution_count": null,
      "metadata": {
        "id": "wLe1b4eXr3TW"
      },
      "outputs": [],
      "source": [
        "## Lista de colunas de onde retiraremos as linhas nulas.\n",
        "columns_to_verify = ['sku_height', 'sku_width', 'sku_length', 'sku_weight']\n",
        "\n",
        "## Remove as linhas nulas apenas nas colunas especificadas\n",
        "df_filtred = df_day.dropna(subset=columns_to_verify)"
      ]
    },
    {
      "cell_type": "code",
      "execution_count": null,
      "metadata": {
        "colab": {
          "base_uri": "https://localhost:8080/"
        },
        "id": "5O1V4nH1ssHp",
        "outputId": "99f83b39-ab99-4b10-b023-3ac14ba89574"
      },
      "outputs": [],
      "source": [
        "## Verifica se os dados nulos foram removidos.\n",
        "df_filtred.isnull().sum()"
      ]
    },
    {
      "cell_type": "markdown",
      "metadata": {
        "id": "pp0jRSUNSWn5"
      },
      "source": [
        "### Limpeza de Dados"
      ]
    },
    {
      "cell_type": "markdown",
      "metadata": {
        "id": "xNX_9OYCSkYT"
      },
      "source": [
        "#### Remoção da coluna mobly_item"
      ]
    },
    {
      "cell_type": "markdown",
      "metadata": {
        "id": "cA_Yo0BMSpQw"
      },
      "source": [
        "Optamos por excluir a coluna \"mobly_item\" devido a sua insignificância para o modelo, uma vez que não há alguma informação que possa ser aproveitada pelo modelo preditivo. Sendo assim, o histograma abaixo consegue evidenciar tal situação:"
      ]
    },
    {
      "cell_type": "code",
      "execution_count": null,
      "metadata": {
        "colab": {
          "base_uri": "https://localhost:8080/",
          "height": 430
        },
        "id": "Nc9-EEG7S3H7",
        "outputId": "a8888acd-09c0-4685-f066-f5a23f782811"
      },
      "outputs": [],
      "source": [
        "# Hitograma que evidencia as informações da coluna 'mobly_item'\n",
        "plt.hist(df_day['mobly_item'], bins='auto')\n",
        "plt.show()"
      ]
    },
    {
      "cell_type": "markdown",
      "metadata": {},
      "source": [
        "Sendo assim, nós optamos por excluir tal coluna:"
      ]
    },
    {
      "cell_type": "code",
      "execution_count": null,
      "metadata": {},
      "outputs": [],
      "source": [
        "# Exclui a coluna \"mobly_item\"\n",
        "df_no_mobly_item = df_filtred.drop([\"mobly_item\"], axis=1)"
      ]
    },
    {
      "cell_type": "markdown",
      "metadata": {
        "id": "H-6AN_Y-e62q"
      },
      "source": [
        "#### Remoção das colunas flag_bundle, revenue_bundle, items_sold_bundle"
      ]
    },
    {
      "cell_type": "markdown",
      "metadata": {
        "id": "stDT2-lxe9Zm"
      },
      "source": [
        "Optamos por excluir as colunas `flag_bundle`, `revenue_bundle`, `items_sold_bundle` devido a sua complexidade para o modelo, uma vez que os podutos presentes na base de dados são cadastrados como individuais, algo mais simples para o aprendizado do modelo. Sendo assim, abaixo será realizada a exclusão dessas colunas:"
      ]
    },
    {
      "cell_type": "code",
      "execution_count": null,
      "metadata": {
        "id": "NTGvMQdde-qn"
      },
      "outputs": [],
      "source": [
        "# Exclui as colunas \"flag_bundle\", \"revenue_bundle\", \"items_sold_bundle\"\n",
        "df_no_bundles = df_no_mobly_item.drop([\"flag_bundle\", \"revenue_bundle\", \"items_sold_bundle\"], axis=1)"
      ]
    },
    {
      "cell_type": "code",
      "execution_count": null,
      "metadata": {
        "colab": {
          "base_uri": "https://localhost:8080/",
          "height": 617
        },
        "id": "pcqUqwvYfDS_",
        "outputId": "c97fbe2e-26dc-413a-9b2b-6dceae1f081a"
      },
      "outputs": [],
      "source": [
        "# Verifica o novo dataframe\n",
        "df_no_bundles"
      ]
    },
    {
      "cell_type": "markdown",
      "metadata": {},
      "source": [
        "#### Remoção da coluna supplier_delivery_time"
      ]
    },
    {
      "cell_type": "markdown",
      "metadata": {},
      "source": [
        "Optamos por excluir a coluna \"supplier_delivery_time\" devido a validação realizada no final da sprint 2, uma vez que o parceiro apontou que para a aprendizagem do modelo, tal coluna não terá tantas informações necessárias, dado que poucos fornecedores tem um prazo menor do que quatro dias. Sendo assim, abaixo há o código que realiza tal deleção:"
      ]
    },
    {
      "cell_type": "code",
      "execution_count": null,
      "metadata": {},
      "outputs": [],
      "source": [
        "# Exclui a coluna \"supplier_delivery_time\"\n",
        "df_no_supplier_delivery_time = df_no_bundles.drop([\"supplier_delivery_time\"], axis=1)"
      ]
    },
    {
      "cell_type": "code",
      "execution_count": null,
      "metadata": {},
      "outputs": [],
      "source": [
        "# Verifica o novo dataframe\n",
        "df_no_supplier_delivery_time"
      ]
    },
    {
      "cell_type": "markdown",
      "metadata": {},
      "source": [
        "#### Remoção das colunas sku_length, sku_height, sku_width e sku_weight"
      ]
    },
    {
      "cell_type": "markdown",
      "metadata": {},
      "source": [
        "Optamos por realizar a exclusão de tais colunas devido a sua insignificância para o modelo. Sendo assim, abaixo há o código que realiza a eliminação de tais colunas:"
      ]
    },
    {
      "cell_type": "code",
      "execution_count": null,
      "metadata": {},
      "outputs": [],
      "source": [
        "# Exclui as colunas \"sku_length\", \"sku_height\", \"sku_width\", \"sku_weight\"\n",
        "df_no_characteristics = df_no_supplier_delivery_time.drop([\"sku_length\", \"sku_height\", \"sku_width\", \"sku_weight\"], axis=1)"
      ]
    },
    {
      "cell_type": "markdown",
      "metadata": {},
      "source": [
        "# Verificando o novo dataframe"
      ]
    },
    {
      "cell_type": "code",
      "execution_count": null,
      "metadata": {},
      "outputs": [],
      "source": [
        "# Exibe o dataframe\n",
        "df_no_characteristics"
      ]
    },
    {
      "cell_type": "code",
      "execution_count": null,
      "metadata": {},
      "outputs": [],
      "source": [
        "# Baixa o dataframe na pasta do notebook atual\n",
        "df_no_characteristics.to_csv('mobly_data_no_codification.csv', index=False)"
      ]
    },
    {
      "cell_type": "markdown",
      "metadata": {
        "id": "Zzja-ubyfKlW"
      },
      "source": [
        "### Outlier e Normalização das variáveis numéricas"
      ]
    },
    {
      "cell_type": "markdown",
      "metadata": {
        "id": "7xq3etp5fOUG"
      },
      "source": [
        "O grupo optou por dois métodos de identificação de outliers:\n",
        "\n",
        "> O método do z-score foi escolhido pelo grupo devido a sua assertividade com dados que possuem um comportamento de distribuição normal ou aproximadamente normal, uma vez que iremos normalizar todos os dados possíveis.\n",
        "\n",
        "\n",
        "\n",
        "> Já o método de bloxpot foi escolhido devido a sua visualização mais clara dos outliers, além de que ele pode ter uma assertividade um pouco maior do que o método do z-score em determinados dados.\n",
        "\n",
        "Assim, esses dois métodos serão utilizados para que possamos entender melhor os outliers, além de que fornece uma possibilidade de comparação entre os outliers identificados.\n",
        "\n"
      ]
    },
    {
      "cell_type": "markdown",
      "metadata": {
        "id": "4OGphch6fUGH"
      },
      "source": [
        "#### Verificando outlier e normalizando dados de unit_price"
      ]
    },
    {
      "cell_type": "code",
      "execution_count": null,
      "metadata": {
        "colab": {
          "base_uri": "https://localhost:8080/"
        },
        "id": "DQicT8qbfM0x",
        "outputId": "a43bcf25-0381-4c7c-f508-8d8c8d8cde1a"
      },
      "outputs": [],
      "source": [
        "# Verifica a quantidade de registros no dataframe\n",
        "df_no_characteristics.shape"
      ]
    },
    {
      "cell_type": "markdown",
      "metadata": {
        "id": "x8MlddTXfctv"
      },
      "source": [
        "Antes de identificar o outlier da coluna \"unit_price\" é necessário verificar se os dados possui uma distribuição normal ou assimétrica. Dessa forma, tal análise está sendo realizada por meio do histograma abaixo:"
      ]
    },
    {
      "cell_type": "code",
      "execution_count": null,
      "metadata": {
        "colab": {
          "base_uri": "https://localhost:8080/",
          "height": 430
        },
        "id": "g3SPUnUNfePh",
        "outputId": "ed74b6e5-2ccf-4e20-b823-b48650291268"
      },
      "outputs": [],
      "source": [
        "# Exibe um histograma que evidencia o comportamento dos dados\n",
        "plt.hist(df_no_characteristics['unit_price'], bins='auto')\n",
        "plt.show()"
      ]
    },
    {
      "cell_type": "markdown",
      "metadata": {
        "id": "eNTlqAEUlWuh"
      },
      "source": [
        "Por meio do gráfico acima é possível concluir que os dados da coluna unit_price possui o comportamento exponencial. Dessa forma, é necessário normalizar os dados para que os dados assuma um comportamento linear:"
      ]
    },
    {
      "cell_type": "code",
      "execution_count": null,
      "metadata": {
        "colab": {
          "base_uri": "https://localhost:8080/"
        },
        "id": "Bdg_XBU8jlh1",
        "outputId": "6f7e7e90-33a0-4e56-e56d-fe59a71a654c"
      },
      "outputs": [],
      "source": [
        "# Cria uma nova coluna apenas com os dados de 'unit_price' normalizados a partir de log\n",
        "df_no_characteristics['log_unit_price'] = np.log(df_no_characteristics['unit_price'] + 1)\n",
        "df_no_characteristics['log_unit_price']"
      ]
    },
    {
      "cell_type": "code",
      "execution_count": null,
      "metadata": {
        "colab": {
          "base_uri": "https://localhost:8080/",
          "height": 435
        },
        "id": "dtanqGD9jJdP",
        "outputId": "71b8f639-a61f-40d0-d9c8-0e6748325a67"
      },
      "outputs": [],
      "source": [
        "# Cria um histograma que evidencia a normalização dos dados de 'unit_price'\n",
        "plt.hist(df_no_characteristics['log_unit_price'], bins='auto')\n",
        "plt.show()"
      ]
    },
    {
      "cell_type": "markdown",
      "metadata": {
        "id": "AFDEb1aTlv5E"
      },
      "source": [
        "Em comparação com o gráfico anterior, os dados da coluna \"unit_price\" foram normalizados, apresentando uma distribuição próxima da normalidade. Sendo assim, é possível identificar os outliers dessa coluna por meio do método do z-score e do boxplot:\n",
        "\n"
      ]
    },
    {
      "cell_type": "code",
      "execution_count": null,
      "metadata": {
        "colab": {
          "base_uri": "https://localhost:8080/"
        },
        "id": "XtQRcbMFjQVt",
        "outputId": "01eae1ba-6a24-4729-943b-7e8194a1f4f5"
      },
      "outputs": [],
      "source": [
        "# Armazena o z-score de cada valor da coluna\n",
        "z_scores = np.abs(stats.zscore(df_no_characteristics['log_unit_price']))\n",
        "print(z_scores)\n",
        "\n",
        "# Cria um novo dataframe somente com os dados correspondentes ao z-score\n",
        "df_outliers = df_no_characteristics[(z_scores > 3)]\n",
        "df_outliers['log_unit_price']"
      ]
    },
    {
      "cell_type": "code",
      "execution_count": null,
      "metadata": {
        "colab": {
          "base_uri": "https://localhost:8080/",
          "height": 467
        },
        "id": "vBFdwIarjjDk",
        "outputId": "506fc2a5-db67-4006-96b0-80ce270d578d"
      },
      "outputs": [],
      "source": [
        "# Exibe o Bloxpot que evidencia os outliers da coluna de 'unit_price' com dados normalizados\n",
        "sns.boxplot(x=df_no_characteristics['log_unit_price'])"
      ]
    },
    {
      "cell_type": "markdown",
      "metadata": {
        "id": "xtV1uxMWrk0X"
      },
      "source": [
        "O gráfico acima e o método z-score evidenciam diversos outliers relacionados ao preço unitário dos produtos da Mobly. Porém, como se trata de preço unitário, o tratamento dessas anomalias precisam ser realizados com cautela, dado que tal informação é muito relevante para o modelo preditivo. Sendo assim, em um primeiro momento, optamos por não tratar esses outliers devido a sua importância."
      ]
    },
    {
      "cell_type": "markdown",
      "metadata": {
        "id": "MQm58Ildew-j"
      },
      "source": [
        "#### Verificando outliers e normalizando dados de revenue\n"
      ]
    },
    {
      "cell_type": "markdown",
      "metadata": {
        "id": "4DxqItzifUpa"
      },
      "source": [
        "Antes de identificar o outlier da coluna \"revenue\" é necessário verificar se os dados possui uma distribuição normal ou assimétrica. Dessa forma, tal análise está sendo realizada por meio do histograma abaixo:"
      ]
    },
    {
      "cell_type": "code",
      "execution_count": null,
      "metadata": {
        "colab": {
          "base_uri": "https://localhost:8080/",
          "height": 542
        },
        "id": "XkgCURXUfQoQ",
        "outputId": "dad8c580-6781-43a3-974a-c0ffccd82440"
      },
      "outputs": [],
      "source": [
        "# Cria e exibe um histograma que evidencia o comportamento dos dados da coluna 'revenue'\n",
        "revenue_distribution_histogram = px.histogram(df_no_characteristics, df_no_characteristics['revenue'], nbins = 50)\n",
        "revenue_distribution_histogram.show()"
      ]
    },
    {
      "cell_type": "markdown",
      "metadata": {
        "id": "eid0SPC650KN"
      },
      "source": [
        "Por meio do gráfico acima é possível concluir que os dados da coluna \"revenue\" possui uma distribuição assimétrica. Dessa forma, é necessário normalizar os dados para que os dados assuma uma distribuição normal ou próxima da normalidade:"
      ]
    },
    {
      "cell_type": "code",
      "execution_count": null,
      "metadata": {
        "colab": {
          "base_uri": "https://localhost:8080/"
        },
        "id": "7UlgPfdjg42Q",
        "outputId": "e8423601-29e2-48f2-85e0-56402f0f3ba3"
      },
      "outputs": [],
      "source": [
        "# Cria uma nova coluna apenas com os dados de 'revenue' normalizados a partir de log\n",
        "df_no_characteristics['log_revenue'] = np.log(df_no_characteristics['revenue'] + 1)\n",
        "df_no_characteristics['log_revenue']"
      ]
    },
    {
      "cell_type": "code",
      "execution_count": null,
      "metadata": {
        "colab": {
          "base_uri": "https://localhost:8080/",
          "height": 430
        },
        "id": "BMieuFI9y7iF",
        "outputId": "b168a8f5-d70f-46ba-a722-d1843660ff15"
      },
      "outputs": [],
      "source": [
        "# Cria e exibe um histograma que evidencia a normalização dos dados de 'revenue'\n",
        "plt.hist(df_no_characteristics['log_revenue'], bins='auto')\n",
        "plt.show()"
      ]
    },
    {
      "cell_type": "markdown",
      "metadata": {
        "id": "JYr7oMqK9Jkx"
      },
      "source": [
        "Em comparação com o gráfico anterior, os dados da coluna \"revenue\" apresentam uma distribuição próxima da normalidade. Sendo assim, é possível identificar os outliers dessa coluna por meio do método do z-score e do boxplot:\n",
        "\n"
      ]
    },
    {
      "cell_type": "code",
      "execution_count": null,
      "metadata": {
        "colab": {
          "base_uri": "https://localhost:8080/"
        },
        "id": "Vug-R4ka93NL",
        "outputId": "4fd9f4e3-4ad3-4d41-a704-67089fc72229"
      },
      "outputs": [],
      "source": [
        "# Cria a coluna \"log_revenue\"\n",
        "log_revenue = df_no_characteristics['log_revenue']\n",
        "\n",
        "# Calcula a média dos dados\n",
        "mean = log_revenue.mean()\n",
        "\n",
        "# Calcula o desvio-padrão\n",
        "standard_deviation = log_revenue.std()\n",
        "\n",
        "# Calcula o z-score\n",
        "z_scores = (log_revenue - mean) / standard_deviation\n",
        "z_scores = np.abs(z_scores)\n",
        "\n",
        "# Cria um novo dataframe somente com os dados correspondentes ao z-score\n",
        "df_outliers = df_no_characteristics[(z_scores > 3)]\n",
        "df_outliers[\"log_revenue\"]"
      ]
    },
    {
      "cell_type": "markdown",
      "metadata": {
        "id": "ohnVXQnSRW_D"
      },
      "source": [
        "\n",
        "\n",
        "> Foi utilizado o método acima para calcular os outliers da coluna \"revenue\" porque o método que estava sendo utilizado antes, o qual está evidenciado logo abaixo, estava retornando \"NaN\" para os valores da coluna normalizados:\n",
        "\n"
      ]
    },
    {
      "cell_type": "code",
      "execution_count": null,
      "metadata": {
        "colab": {
          "base_uri": "https://localhost:8080/"
        },
        "id": "jlE8EHi3RFmy",
        "outputId": "6c263881-c7a4-49a6-a948-26f2ced3730b"
      },
      "outputs": [],
      "source": [
        "# Armazena o z-score de cada valor da coluna\n",
        "z_scores = np.abs(stats.zscore(df_no_characteristics['log_revenue']))\n",
        "\n",
        "print(z_scores)\n",
        "\n",
        "# Cria um novo dataframe somente com os dados correspondentes ao z-score\n",
        "df_outliers = df_no_characteristics[(z_scores > 3)]\n",
        "df_outliers['log_revenue']"
      ]
    },
    {
      "cell_type": "code",
      "execution_count": null,
      "metadata": {
        "colab": {
          "base_uri": "https://localhost:8080/",
          "height": 467
        },
        "id": "iC_cU4hV-B9z",
        "outputId": "f7843d49-7ee8-4426-9634-1db468def798"
      },
      "outputs": [],
      "source": [
        "# Exibe um Bloxpot que evidencia os outliers da coluna de 'revenue' com dados normalizados\n",
        "sns.boxplot(x=df_no_characteristics['log_revenue'])"
      ]
    },
    {
      "cell_type": "markdown",
      "metadata": {
        "id": "TGixY3Pbhmy4"
      },
      "source": [
        "O bloxpot acima evidencia que a coluna \"log_revenue\" não possui outliers, fazendo com que não seja necessário, em um primeiro momento, o tratamento de outliers de tal coluna."
      ]
    },
    {
      "cell_type": "markdown",
      "metadata": {
        "id": "D1mIsS4hm8m-"
      },
      "source": [
        "#### Verificando outliers com os dados já normalizados de avg_website_visits_last_week"
      ]
    },
    {
      "cell_type": "markdown",
      "metadata": {
        "id": "63dmxg6qnMg5"
      },
      "source": [
        "Antes de identificar o outlier da coluna \"avg_website_visits_last_week\" é necessário verificar se os dados possui uma distribuição normal ou assimétrica. Dessa forma, tal análise está sendo realizada por meio do histograma abaixo:"
      ]
    },
    {
      "cell_type": "code",
      "execution_count": null,
      "metadata": {
        "colab": {
          "base_uri": "https://localhost:8080/",
          "height": 433
        },
        "id": "dzVo6qIjnHdj",
        "outputId": "2c1191b6-c769-4046-bf65-1075773ef8ea"
      },
      "outputs": [],
      "source": [
        "# Cria e exibe um histograma que evidencia o comportamento dos dados da coluna 'avg_website_visits_last_week'\n",
        "plt.hist(df_no_characteristics['avg_website_visits_last_week'], bins='auto')\n",
        "plt.show()"
      ]
    },
    {
      "cell_type": "markdown",
      "metadata": {
        "id": "cDkmDMfDeiXD"
      },
      "source": [
        "Por meio do gráfico acima é possível concluir que os dados da coluna \"avg_website_visits_last_week\" possui uma distribuição assimétrica. Dessa forma, no tópico de \"Análise das Correlações\", os dados dessa coluna já foram normalizados, algo que pode ser verificado no gráfico abaixo:"
      ]
    },
    {
      "cell_type": "code",
      "execution_count": null,
      "metadata": {
        "colab": {
          "base_uri": "https://localhost:8080/",
          "height": 430
        },
        "id": "v_SomYCkon16",
        "outputId": "2c76d0e4-bf79-45a1-d190-422374e69b4f"
      },
      "outputs": [],
      "source": [
        "# Cria e exibe um histograma que evidencia a normalização dos dados de 'avg_website_visits_last_week'\n",
        "plt.hist(df_no_characteristics['log_avg_website_visits_last_week'], bins='auto')\n",
        "plt.show()"
      ]
    },
    {
      "cell_type": "markdown",
      "metadata": {
        "id": "6nv0XCaTedVN"
      },
      "source": [
        "Em comparação com o gráfico anterior, os dados da coluna \"avg_website_visits_last_week\" foram normalizados, apresentando uma distribuição próxima da normalidade. Sendo assim, por meio desse comportamento, é possível identificar os outliers dessa coluna por meio do método do z-score e do boxplot:\n",
        "\n"
      ]
    },
    {
      "cell_type": "code",
      "execution_count": null,
      "metadata": {
        "colab": {
          "base_uri": "https://localhost:8080/"
        },
        "id": "8gdt3QmOYfkx",
        "outputId": "ee2c51c0-cb2a-4a54-fd64-3aadf13739b2"
      },
      "outputs": [],
      "source": [
        "# Armazena o z-score de cada valor da coluna\n",
        "z_scores = np.abs(stats.zscore(df_no_characteristics['log_avg_website_visits_last_week']))\n",
        "\n",
        "print(z_scores)\n",
        "\n",
        "# Cria um novo dataframe somente com os dados correspondentes ao z-score\n",
        "df_outliers = df_no_characteristics[(z_scores < -3) | (z_scores > 3)]\n",
        "df_outliers['log_avg_website_visits_last_week']"
      ]
    },
    {
      "cell_type": "code",
      "execution_count": null,
      "metadata": {
        "colab": {
          "base_uri": "https://localhost:8080/",
          "height": 467
        },
        "id": "7BH8RWzud76v",
        "outputId": "8baac5e0-6a9e-4817-a435-ebe330865952"
      },
      "outputs": [],
      "source": [
        "# Exibe um Bloxpot que evidencia os outliers da coluna de 'avg_website_visits_last_week' com dados normalizados\n",
        "sns.boxplot(x=df_no_characteristics['log_avg_website_visits_last_week'])"
      ]
    },
    {
      "cell_type": "markdown",
      "metadata": {
        "id": "N1ymnCpCmTVU"
      },
      "source": [
        "Tanto o gráfico acima quanto o método do z-score evidenciam que há diversos outliers. Assim, optamos por entender melhor o comportamento dos outliers à esquerda, os quais foram evidenciados pelo bloxpot:"
      ]
    },
    {
      "cell_type": "code",
      "execution_count": null,
      "metadata": {
        "colab": {
          "base_uri": "https://localhost:8080/",
          "height": 617
        },
        "id": "Rl2mMHNFTm23",
        "outputId": "b0432b6c-5f2c-42de-80c6-b767973e61d5"
      },
      "outputs": [],
      "source": [
        "# Verifica características dos produtos que contém nenhuma visita nos últimos 7 dias\n",
        "df_no_bundles[(df_no_characteristics['log_avg_website_visits_last_week'] == 0) & (df_no_characteristics['items_sold'] == 0)].head(100)"
      ]
    },
    {
      "cell_type": "markdown",
      "metadata": {
        "id": "OG5XKIyqjJS6"
      },
      "source": [
        "#### Verificando outliers de stock_qty"
      ]
    },
    {
      "cell_type": "markdown",
      "metadata": {
        "id": "FYbRdygdjhyD"
      },
      "source": [
        "Antes de identificar o outlier da coluna \"stock_qty\" é necessário verificar se os dados possui uma distribuição normal ou assimétrica. Dessa forma, tal análise está sendo realizada por meio do histograma abaixo:"
      ]
    },
    {
      "cell_type": "code",
      "execution_count": null,
      "metadata": {
        "colab": {
          "base_uri": "https://localhost:8080/",
          "height": 542
        },
        "id": "J7ZDfoH4fvNE",
        "outputId": "242781ef-3495-4796-fb6c-0cc838b64c4c"
      },
      "outputs": [],
      "source": [
        "# Cria e exibe um histograma que evidencia o comportamento dos dados da coluna 'stock_qty'\n",
        "stock_distribution_histogram = px.histogram(df_no_characteristics, df_no_characteristics['stock_qty'], nbins = 50)\n",
        "stock_distribution_histogram.show()"
      ]
    },
    {
      "cell_type": "markdown",
      "metadata": {
        "id": "fsWphOUBj7je"
      },
      "source": [
        "Por meio do gráfico acima é possível concluir que os dados da coluna \"stock_qty\" possui uma distribuição assimétrica. Dessa forma, é necessário normalizar os dados para que os dados assuma uma distribuição normal:"
      ]
    },
    {
      "cell_type": "code",
      "execution_count": null,
      "metadata": {
        "colab": {
          "base_uri": "https://localhost:8080/"
        },
        "id": "01J5w-SlkHE8",
        "outputId": "ca531abf-d20e-4866-8815-e6f4e699006b"
      },
      "outputs": [],
      "source": [
        "# Cria uma nova coluna apenas com os dados de 'stock_qty' normalizados a partir de log\n",
        "df_no_characteristics['log_stock'] = np.log(df_no_characteristics['stock_qty'] + 1)\n",
        "df_no_characteristics['log_stock']"
      ]
    },
    {
      "cell_type": "code",
      "execution_count": null,
      "metadata": {
        "colab": {
          "base_uri": "https://localhost:8080/",
          "height": 542
        },
        "id": "ckL3noRckOq6",
        "outputId": "ef72215f-16c1-406e-8628-6bbea08adaf1"
      },
      "outputs": [],
      "source": [
        "# Cria e exibe um histograma que evidencia a normalização dos dados de 'stock_qty'\n",
        "distribution_histogram_log_stock = px.histogram(df_no_characteristics, df_no_characteristics['log_stock'], nbins = 50)\n",
        "distribution_histogram_log_stock.show()"
      ]
    },
    {
      "cell_type": "markdown",
      "metadata": {
        "id": "9nXN94YQk8lB"
      },
      "source": [
        "Em comparação com o gráfico anterior, os dados da coluna \"stock_qty\" foram normalizados, apresentando uma distribuição próxima da normalidade. Sendo assim, por meio desse comportamento, é possível identificar os outliers dessa coluna por meio do método do z-score:\n"
      ]
    },
    {
      "cell_type": "code",
      "execution_count": null,
      "metadata": {
        "colab": {
          "base_uri": "https://localhost:8080/"
        },
        "id": "PxHXfCSrkXbe",
        "outputId": "250340ef-d89d-44ed-ef83-9314438394e6"
      },
      "outputs": [],
      "source": [
        "# Armazena o z-score de cada valor da coluna\n",
        "z_scores = np.abs(stats.zscore(df_no_characteristics['log_stock']))\n",
        "\n",
        "# Cria um novo dataframe somente com os dados correspondentes ao z-score\n",
        "df_outliers = df_no_characteristics[(z_scores > 3)]\n",
        "df_outliers['log_stock']"
      ]
    },
    {
      "cell_type": "code",
      "execution_count": null,
      "metadata": {
        "colab": {
          "base_uri": "https://localhost:8080/",
          "height": 467
        },
        "id": "aepSRowkkbX5",
        "outputId": "3e2415db-baeb-477c-faba-b9cd76e96c13"
      },
      "outputs": [],
      "source": [
        "# Exibe um Bloxpot que evidencia os outliers da coluna de 'stock_qty' com dados normalizados\n",
        "sns.boxplot(x=df_no_characteristics['log_stock'])"
      ]
    },
    {
      "cell_type": "markdown",
      "metadata": {
        "id": "QdC6Gc50itek"
      },
      "source": [
        "Tanto o bloxpot quanto o método do z-score evidenciam que não há outliers na coluna \"log_stock\", fazendo com que não seja necessário o tratamento desses outliers."
      ]
    },
    {
      "cell_type": "markdown",
      "metadata": {
        "id": "k5Z77c66gzlq"
      },
      "source": [
        "#### Verificando outliers e normalizando dados de items_sold"
      ]
    },
    {
      "cell_type": "markdown",
      "metadata": {
        "id": "HmVWDzuEhB3f"
      },
      "source": [
        "Antes de identificar o outlier da coluna \"items_sold\" é necessário verificar se os dados possui uma distribuição normal ou assimétrica. Dessa forma, tal análise está sendo realizada por meio do histograma abaixo:"
      ]
    },
    {
      "cell_type": "code",
      "execution_count": null,
      "metadata": {
        "colab": {
          "base_uri": "https://localhost:8080/",
          "height": 542
        },
        "id": "psgSg8DghFMS",
        "outputId": "4a44a621-57e9-4c99-f3bc-c16c1d5140bc"
      },
      "outputs": [],
      "source": [
        "# Cria e exibe um histograma que evidencia o comportamento dos dados da coluna 'items_sold'\n",
        "items_sold_distribution_histogram = px.histogram(df_no_characteristics, df_no_characteristics['items_sold'], nbins = 50)\n",
        "items_sold_distribution_histogram.show()"
      ]
    },
    {
      "cell_type": "markdown",
      "metadata": {
        "id": "_0gM1Rk5jhM4"
      },
      "source": [
        "Por meio do gráfico acima é possível concluir que os dados da coluna \"items_sold\" possui uma distribuição assimétrica. Dessa forma, é necessário normalizar os dados para que os dados assuma uma distribuição normal:"
      ]
    },
    {
      "cell_type": "code",
      "execution_count": null,
      "metadata": {
        "colab": {
          "base_uri": "https://localhost:8080/"
        },
        "id": "UuzOrejohktm",
        "outputId": "2c641f48-cea5-4805-fa97-87cbf57fb952"
      },
      "outputs": [],
      "source": [
        "# Cria uma nova coluna apenas com os dados de 'items_sold' normalizados a partir de log\n",
        "df_no_characteristics['log_items_sold'] = np.log(df_no_characteristics['items_sold'] + 1)\n",
        "df_no_characteristics['log_items_sold']"
      ]
    },
    {
      "cell_type": "code",
      "execution_count": null,
      "metadata": {
        "colab": {
          "base_uri": "https://localhost:8080/",
          "height": 542
        },
        "id": "DYg0ryvehXWH",
        "outputId": "09fe14cc-89d8-4419-d44c-a856337e8d0f"
      },
      "outputs": [],
      "source": [
        "# Cria e exibe um histograma que evidencia a normalização dos dados de 'items_sold'\n",
        "distribution_histogram_log_items_sold = px.histogram(df_no_characteristics, np.log(df_no_characteristics['items_sold'] + 1), nbins = 50)\n",
        "distribution_histogram_log_items_sold.show()"
      ]
    },
    {
      "cell_type": "markdown",
      "metadata": {
        "id": "E4GvrMmWjj10"
      },
      "source": [
        "Em comparação com o gráfico anterior, os dados da coluna \"items_sold\" foram normalizados, apresentando uma distribuição próxima da normalidade. Sendo assim, por meio desse comportamento, é possível identificar os outliers dessa coluna por meio do método do z-score e do boxplot:\n"
      ]
    },
    {
      "cell_type": "code",
      "execution_count": null,
      "metadata": {
        "colab": {
          "base_uri": "https://localhost:8080/"
        },
        "id": "EV5WOyuAhgmS",
        "outputId": "a0315a35-3cd3-4a70-e90a-05a0b989d7cd"
      },
      "outputs": [],
      "source": [
        "# Armazena o z-score de cada valor da coluna\n",
        "z_scores = np.abs(stats.zscore(df_no_characteristics['log_items_sold']))\n",
        "print(z_scores)\n",
        "\n",
        "# Cria um novo dataframe somente com os dados correspondentes ao z-score\n",
        "df_outliers = df_no_characteristics[(z_scores > 3)]\n",
        "df_outliers['log_items_sold']"
      ]
    },
    {
      "cell_type": "code",
      "execution_count": null,
      "metadata": {
        "colab": {
          "base_uri": "https://localhost:8080/",
          "height": 467
        },
        "id": "Ow6M_FRNhvt3",
        "outputId": "17db7d73-feaa-4c0b-b4a2-b488ce2c88af"
      },
      "outputs": [],
      "source": [
        "# Exibe um Bloxpot que evidencia os outliers da coluna de 'items_sold' com dados normalizados\n",
        "sns.boxplot(x=df_no_characteristics['log_items_sold'])"
      ]
    },
    {
      "cell_type": "markdown",
      "metadata": {
        "id": "YuUUrRhIjrps"
      },
      "source": [
        "O gráfico acima e o método do z-score evidenciam que há diversos outliers relacionados à quantidade de produtos vendidos da Mobly. Porém, o boxplot evidencia há um outiler mais destoante entre os demais, o qual é maior que 6. Dessa forma, buscamos entender um pouco melhor sobre as características desses produtos que tiveram mais itens vendidos:"
      ]
    },
    {
      "cell_type": "code",
      "execution_count": null,
      "metadata": {
        "colab": {
          "base_uri": "https://localhost:8080/",
          "height": 196
        },
        "id": "5y7p8X9ph1f2",
        "outputId": "cd391ce5-6cca-4496-f7c3-86c10efbe5a0"
      },
      "outputs": [],
      "source": [
        "# Acessa os produtos que correspondem aos outliers mais destoantes\n",
        "df_no_characteristics[(df_no_characteristics['log_items_sold'] > 6)]"
      ]
    },
    {
      "cell_type": "markdown",
      "metadata": {
        "id": "R1TmVX7XjQge"
      },
      "source": [
        "Portanto, por meio do entendimento dessas características, optamos por não tratarmos esses outliers nesse primeiro momento, haja vista que são produtos que possuem uma alta quantidade vendida, um preço mais acessível e o seu pico de venda é durante o período da blackfriday, conforme demonstra a tabela acima. Sendo assim, o modelo conseguirá entender com exatidão a quantidade de itens vendidos de tais produtos, fazendo com que o estoque esteja sempre abastecido corretamente."
      ]
    },
    {
      "cell_type": "markdown",
      "metadata": {
        "id": "4qOPBZj_qWBx"
      },
      "source": [
        "#### Normalização de dados das colunas relacionadas às características dos produtos:\n",
        "* sku_height\n",
        "* sku_width\n",
        "* sku_length\n",
        "* sku_weight\n"
      ]
    },
    {
      "cell_type": "markdown",
      "metadata": {
        "id": "jNX9_OEmYGkZ"
      },
      "source": [
        "Como é possível observar na tabela acima, os dados das colunas relacionadas às características dos produtos possuem uma normalização, ou seja, estão na mesma escala."
      ]
    },
    {
      "cell_type": "markdown",
      "metadata": {
        "id": "sDnyI_WhYmbb"
      },
      "source": [
        "### Codificação das variáveis categóricas"
      ]
    },
    {
      "cell_type": "code",
      "execution_count": null,
      "metadata": {
        "colab": {
          "base_uri": "https://localhost:8080/",
          "height": 313
        },
        "id": "e306-Ne8Yq79",
        "outputId": "de88a004-be94-4722-a17d-18766e13ca6e"
      },
      "outputs": [],
      "source": [
        "# Captura as variáveis categóricas\n",
        "categorical_variables = ['weekday_name', 'sku', 'shipment_type', 'origin_country', 'process_costing', 'sku_color', 'price_status', 'product_category']\n",
        "categorical_variables_df = df_no_characteristics[categorical_variables]\n",
        "categorical_variables_df.head(5)"
      ]
    },
    {
      "cell_type": "markdown",
      "metadata": {
        "id": "NHnkZLf0hQWH"
      },
      "source": [
        "Como há diversos tipos de variáveis categóricas, será utilizada duas formas de codificar tais variáveis:\n",
        "* 1°: Utilizando o `LabelEncoder` do `sklearn`\n",
        "* 2°: Utilizando o `map` do `Pandas`"
      ]
    },
    {
      "cell_type": "code",
      "execution_count": null,
      "metadata": {
        "id": "HLkW7lLbg6CU"
      },
      "outputs": [],
      "source": [
        "# ImportaLabelEncoder\n",
        "from sklearn.preprocessing import LabelEncoder\n",
        "le = LabelEncoder()"
      ]
    },
    {
      "cell_type": "markdown",
      "metadata": {
        "id": "YD_SxRkXh56G"
      },
      "source": [
        "#### Codificação da variável categórica ordinal \"weekday_name\""
      ]
    },
    {
      "cell_type": "markdown",
      "metadata": {
        "id": "c8QG0QPoyBdu"
      },
      "source": [
        "A \"weekday_name\" possui diferentes dados, uma vez que possui os nomes dos dias da semana. Dessa forma, será utilizado o `LabelEncoder` para codificar as variáveis:"
      ]
    },
    {
      "cell_type": "code",
      "execution_count": null,
      "metadata": {
        "colab": {
          "base_uri": "https://localhost:8080/",
          "height": 342
        },
        "id": "IEdkEhb3g9aK",
        "outputId": "ebeb7028-4643-4703-acb4-8098ecbd3a54"
      },
      "outputs": [],
      "source": [
        "# Codifica a coluna 'weekday_name' utilizando o LabelEncoder\n",
        "df_no_characteristics['weekday_name'] = le.fit_transform(df_no_characteristics['weekday_name'])\n",
        "df_no_characteristics.head(5)"
      ]
    },
    {
      "cell_type": "markdown",
      "metadata": {
        "id": "f1SnvgmCinIa"
      },
      "source": [
        "#### Codificação da variável categórica nominal \"shipment_type\""
      ]
    },
    {
      "cell_type": "markdown",
      "metadata": {
        "id": "_A_zTjUzjKaH"
      },
      "source": [
        "A \"shipment_type\" possui dois tipos de dados: `crossdocking` e `próprio`. Sendo assim, é possível utilizar a função `map` do Pandas para codificar as variáveis:"
      ]
    },
    {
      "cell_type": "code",
      "execution_count": null,
      "metadata": {
        "id": "872FFFLgq3pR"
      },
      "outputs": [],
      "source": [
        "# Codifica a coluna 'shipment_type' utilizando map\n",
        "df_no_characteristics['shipment_type'] = df_no_characteristics['shipment_type'].map({'crossdocking': 0, 'próprio': 1})"
      ]
    },
    {
      "cell_type": "code",
      "execution_count": null,
      "metadata": {
        "colab": {
          "base_uri": "https://localhost:8080/"
        },
        "id": "roGTl-qttjXZ",
        "outputId": "ee68de18-f4db-48b1-e4ba-f18f99bcfacb"
      },
      "outputs": [],
      "source": [
        "# Verifica a codificação\n",
        "df_no_characteristics['shipment_type']"
      ]
    },
    {
      "cell_type": "markdown",
      "metadata": {
        "id": "v_NcR6h4upwz"
      },
      "source": [
        "#### Codificação da variável categórica nominal \"origin_country\"\n"
      ]
    },
    {
      "cell_type": "markdown",
      "metadata": {
        "id": "94Kr797Tu1DG"
      },
      "source": [
        "A \"origin_country\" possui dois tipos de dados: `Nacional` e `Importado`. Sendo assim, é possível utilizar a função `map` do Pandas para codificar as variáveis:"
      ]
    },
    {
      "cell_type": "code",
      "execution_count": null,
      "metadata": {
        "id": "UTm-OuHvu9C2"
      },
      "outputs": [],
      "source": [
        "# Codifica a coluna 'origin_country' utilizando map\n",
        "df_no_characteristics['origin_country'] = df_no_characteristics['origin_country'].map({'Nacional': 0, 'Importado': 1})"
      ]
    },
    {
      "cell_type": "code",
      "execution_count": null,
      "metadata": {
        "colab": {
          "base_uri": "https://localhost:8080/"
        },
        "id": "vfhzBwjAvIot",
        "outputId": "457f5006-141c-4e53-a3d0-df34596a654a"
      },
      "outputs": [],
      "source": [
        "# Verifica a codificação\n",
        "df_no_characteristics['origin_country']"
      ]
    },
    {
      "cell_type": "markdown",
      "metadata": {
        "id": "jsJGqp4dxNrl"
      },
      "source": [
        "#### Codificação da variável categórica nominal \"process_costing\"\n"
      ]
    },
    {
      "cell_type": "markdown",
      "metadata": {
        "id": "_6JoIwiBxUNS"
      },
      "source": [
        "A \"process_costing\" possui dois tipos de dados: `yes` e `no`. Sendo assim, é possível utilizar a função `map` do Pandas para codificar as variáveis:"
      ]
    },
    {
      "cell_type": "code",
      "execution_count": null,
      "metadata": {
        "id": "1do9j43AxSV_"
      },
      "outputs": [],
      "source": [
        "# Codifica a coluna 'process_costing' utilizando map\n",
        "df_no_characteristics['process_costing'] = df_no_characteristics['process_costing'].map({'yes': 0, 'no': 1})"
      ]
    },
    {
      "cell_type": "code",
      "execution_count": null,
      "metadata": {
        "colab": {
          "base_uri": "https://localhost:8080/"
        },
        "id": "YtEOTsSsxpqi",
        "outputId": "decb9235-57e2-4c50-e99a-b934f1db5fd0"
      },
      "outputs": [],
      "source": [
        "# Verifica a codificação\n",
        "df_no_characteristics['process_costing']"
      ]
    },
    {
      "cell_type": "markdown",
      "metadata": {
        "id": "6pBuuJt8x24w"
      },
      "source": [
        "#### Codificação da variável categórica nominal \"sku_color\"\n"
      ]
    },
    {
      "cell_type": "markdown",
      "metadata": {
        "id": "OF3AxbueyOHp"
      },
      "source": [
        "A \"sku_color\" possui diferentes dados, uma vez que possui os nomes de várias cores. Dessa forma, será utilizado o `LabelEncoder` para codificar as variáveis:"
      ]
    },
    {
      "cell_type": "code",
      "execution_count": null,
      "metadata": {
        "colab": {
          "base_uri": "https://localhost:8080/",
          "height": 342
        },
        "id": "cgaHP4EzyUqt",
        "outputId": "3b7e1972-f98c-4bf4-d1f2-c27f28f2a6a8"
      },
      "outputs": [],
      "source": [
        "# Codifica a coluna 'sku_color' utilizando o LabelEncoder\n",
        "df_no_characteristics['sku_color'] = le.fit_transform(df_no_characteristics['sku_color'])\n",
        "df_no_characteristics.head(5)"
      ]
    },
    {
      "cell_type": "markdown",
      "metadata": {
        "id": "ppq2Va75D3vS"
      },
      "source": [
        "#### Codificação da variável categórica nominal \"anchor_category\"\n"
      ]
    },
    {
      "cell_type": "markdown",
      "metadata": {
        "id": "lkeNj7aGEAMu"
      },
      "source": [
        "A coluna \"anchor_category\" possui diferentes dados, uma vez que possui os nomes de várias cores. Dessa forma, será utilizado o `LabelEncoder` para codificar as variáveis:"
      ]
    },
    {
      "cell_type": "code",
      "execution_count": null,
      "metadata": {
        "colab": {
          "base_uri": "https://localhost:8080/",
          "height": 342
        },
        "id": "HflCmIb2EH6M",
        "outputId": "29e58640-d833-4de2-c5ad-44aa0069c4d3"
      },
      "outputs": [],
      "source": [
        "# Codifica a coluna 'anchor_category' utilizando o LabelEncoder\n",
        "df_no_characteristics['anchor_category'] = le.fit_transform(df_no_characteristics['anchor_category'])\n",
        "df_no_characteristics.head(5)"
      ]
    },
    {
      "cell_type": "markdown",
      "metadata": {
        "id": "8x2kIQnuF1EO"
      },
      "source": [
        "#### Codificação da variável categórica nominal \"product_category\"\n"
      ]
    },
    {
      "cell_type": "markdown",
      "metadata": {
        "id": "p1BeUv28F4TF"
      },
      "source": [
        "A coluna \"product_category\" possui diferentes dados, uma vez que possui os nomes de várias cores. Dessa forma, será utilizado o `LabelEncoder` para codificar as variáveis:"
      ]
    },
    {
      "cell_type": "code",
      "execution_count": null,
      "metadata": {
        "colab": {
          "base_uri": "https://localhost:8080/",
          "height": 342
        },
        "id": "Z_nv3MDVF34I",
        "outputId": "adeb6767-bf06-424d-c484-fb9687c1343e"
      },
      "outputs": [],
      "source": [
        "# Codifica a coluna 'product_category' utilizando o LabelEncoder\n",
        "df_no_characteristics['product_category'] = le.fit_transform(df_no_characteristics['product_category'])\n",
        "df_no_characteristics.head(5)"
      ]
    },
    {
      "cell_type": "markdown",
      "metadata": {
        "id": "1O8x0kcJlDhx"
      },
      "source": [
        "#### Codificação da variável categórica nominal \"sku\"\n"
      ]
    },
    {
      "cell_type": "markdown",
      "metadata": {
        "id": "3aBTJeDplKEh"
      },
      "source": [
        "A coluna \"sku\" possui diferentes dados, uma vez que possui os nomes de várias cores. Dessa forma, será utilizado o `LabelEncoder` para codificar as variáveis:"
      ]
    },
    {
      "cell_type": "code",
      "execution_count": null,
      "metadata": {
        "colab": {
          "base_uri": "https://localhost:8080/",
          "height": 342
        },
        "id": "zg34h_eYlNlP",
        "outputId": "7cb6a8be-a309-45c2-fbb7-a842e831f9bb"
      },
      "outputs": [],
      "source": [
        "# Codifica a coluna 'sku' utilizando o LabelEncoder\n",
        "df_no_characteristics['sku'] = le.fit_transform(df_no_characteristics['sku'])\n",
        "df_no_characteristics.head(5)"
      ]
    },
    {
      "cell_type": "markdown",
      "metadata": {},
      "source": [
        "#### Codificação da variável categórica nominal \"product_department\""
      ]
    },
    {
      "cell_type": "markdown",
      "metadata": {},
      "source": [
        "A coluna \"product_department\" possui diferentes dados, uma vez que possui os nomes de várias cores. Dessa forma, será utilizado o `LabelEncoder` para codificar as variáveis:"
      ]
    },
    {
      "cell_type": "code",
      "execution_count": null,
      "metadata": {},
      "outputs": [],
      "source": [
        "# Codifica a coluna 'product_department' utilizando o LabelEncoder\n",
        "df_no_characteristics['product_department'] = le.fit_transform(df_no_characteristics['product_department'])\n",
        "df_no_characteristics.head(5)"
      ]
    },
    {
      "cell_type": "markdown",
      "metadata": {},
      "source": [
        "#### Codificação da variável categórica nominal \"price_staus\""
      ]
    },
    {
      "cell_type": "markdown",
      "metadata": {},
      "source": [
        "A coluna \"price_status\" possui diferentes dados, uma vez que possui os nomes de várias cores. Dessa forma, será utilizado o `LabelEncoder` para codificar as variáveis:"
      ]
    },
    {
      "cell_type": "code",
      "execution_count": null,
      "metadata": {},
      "outputs": [],
      "source": [
        "# Codifica a coluna 'product_department' utilizando o LabelEncoder\n",
        "df_no_characteristics['price_status'] = le.fit_transform(df_no_characteristics['price_status'])\n",
        "df_no_characteristics.head(5)"
      ]
    },
    {
      "cell_type": "code",
      "execution_count": null,
      "metadata": {},
      "outputs": [],
      "source": [
        "# Exibe o dataframe\n",
        "df_no_characteristics"
      ]
    },
    {
      "cell_type": "markdown",
      "metadata": {},
      "source": [
        "# Baixando o dataset "
      ]
    },
    {
      "cell_type": "code",
      "execution_count": null,
      "metadata": {},
      "outputs": [],
      "source": [
        "# Baixa o dataframe na pasta do notebook atual\n",
        "df_no_characteristics.to_csv('mobly_data.csv', index=False)"
      ]
    }
  ],
  "metadata": {
    "colab": {
      "collapsed_sections": [
        "C-TI9PZdQWfs",
        "WNJyPl1JabBi",
        "c1y4yb11axIs",
        "tRyFOKaLd4XD",
        "d2P8zu2DgkND"
      ],
      "provenance": [],
      "toc_visible": true
    },
    "kernelspec": {
      "display_name": "Python 3",
      "name": "python3"
    },
    "language_info": {
      "codemirror_mode": {
        "name": "ipython",
        "version": 3
      },
      "file_extension": ".py",
      "mimetype": "text/x-python",
      "name": "python",
      "nbconvert_exporter": "python",
      "pygments_lexer": "ipython3",
      "version": "3.11.4"
    }
  },
  "nbformat": 4,
  "nbformat_minor": 0
}
