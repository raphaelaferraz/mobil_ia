{
	"cells": [
		{
			"cell_type": "markdown",
			"metadata": {
				"id": "nVd_HqqplaQP"
			},
			"source": [
				"## Bibliotecas\n"
			]
		},
		{
			"cell_type": "code",
			"execution_count": 1,
			"metadata": {
				"colab": {
					"base_uri": "https://localhost:8080/"
				},
				"id": "4pM96Vw7jYmG",
				"outputId": "a675e53e-9c90-419d-dc6f-bd9c5a5fa5e2"
			},
			"outputs": [
				{
					"name": "stdout",
					"output_type": "stream",
					"text": [
						"Requirement already satisfied: pandas in c:\\users\\inteli\\appdata\\local\\programs\\python\\python311\\lib\\site-packages (2.0.2)Note: you may need to restart the kernel to use updated packages.\n",
						"\n",
						"Requirement already satisfied: python-dateutil>=2.8.2 in c:\\users\\inteli\\appdata\\local\\programs\\python\\python311\\lib\\site-packages (from pandas) (2.8.2)\n",
						"Requirement already satisfied: pytz>=2020.1 in c:\\users\\inteli\\appdata\\local\\programs\\python\\python311\\lib\\site-packages (from pandas) (2023.3)\n",
						"Requirement already satisfied: tzdata>=2022.1 in c:\\users\\inteli\\appdata\\local\\programs\\python\\python311\\lib\\site-packages (from pandas) (2023.3)\n",
						"Requirement already satisfied: numpy>=1.21.0 in c:\\users\\inteli\\appdata\\local\\programs\\python\\python311\\lib\\site-packages (from pandas) (1.26.0)\n",
						"Requirement already satisfied: six>=1.5 in c:\\users\\inteli\\appdata\\local\\programs\\python\\python311\\lib\\site-packages (from python-dateutil>=2.8.2->pandas) (1.16.0)\n"
					]
				},
				{
					"name": "stderr",
					"output_type": "stream",
					"text": [
						"\n",
						"[notice] A new release of pip is available: 23.1.2 -> 23.2.1\n",
						"[notice] To update, run: python.exe -m pip install --upgrade pip\n"
					]
				},
				{
					"name": "stdout",
					"output_type": "stream",
					"text": [
						"Requirement already satisfied: plotly_express in c:\\users\\inteli\\appdata\\local\\programs\\python\\python311\\lib\\site-packages (0.4.1)\n",
						"Requirement already satisfied: pandas>=0.20.0 in c:\\users\\inteli\\appdata\\local\\programs\\python\\python311\\lib\\site-packages (from plotly_express) (2.0.2)\n",
						"Requirement already satisfied: plotly>=4.1.0 in c:\\users\\inteli\\appdata\\local\\programs\\python\\python311\\lib\\site-packages (from plotly_express) (5.16.1)\n",
						"Requirement already satisfied: statsmodels>=0.9.0 in c:\\users\\inteli\\appdata\\local\\programs\\python\\python311\\lib\\site-packages (from plotly_express) (0.14.0)\n",
						"Requirement already satisfied: scipy>=0.18 in c:\\users\\inteli\\appdata\\local\\programs\\python\\python311\\lib\\site-packages (from plotly_express) (1.11.2)\n",
						"Requirement already satisfied: patsy>=0.5 in c:\\users\\inteli\\appdata\\local\\programs\\python\\python311\\lib\\site-packages (from plotly_express) (0.5.3)\n",
						"Requirement already satisfied: numpy>=1.11 in c:\\users\\inteli\\appdata\\local\\programs\\python\\python311\\lib\\site-packages (from plotly_express) (1.26.0)\n",
						"Requirement already satisfied: python-dateutil>=2.8.2 in c:\\users\\inteli\\appdata\\local\\programs\\python\\python311\\lib\\site-packages (from pandas>=0.20.0->plotly_express) (2.8.2)\n",
						"Requirement already satisfied: pytz>=2020.1 in c:\\users\\inteli\\appdata\\local\\programs\\python\\python311\\lib\\site-packages (from pandas>=0.20.0->plotly_express) (2023.3)\n",
						"Requirement already satisfied: tzdata>=2022.1 in c:\\users\\inteli\\appdata\\local\\programs\\python\\python311\\lib\\site-packages (from pandas>=0.20.0->plotly_express) (2023.3)\n",
						"Requirement already satisfied: six in c:\\users\\inteli\\appdata\\local\\programs\\python\\python311\\lib\\site-packages (from patsy>=0.5->plotly_express) (1.16.0)\n",
						"Requirement already satisfied: tenacity>=6.2.0 in c:\\users\\inteli\\appdata\\local\\programs\\python\\python311\\lib\\site-packages (from plotly>=4.1.0->plotly_express) (8.2.3)\n",
						"Requirement already satisfied: packaging in c:\\users\\inteli\\appdata\\roaming\\python\\python311\\site-packages (from plotly>=4.1.0->plotly_express) (23.1)\n",
						"Note: you may need to restart the kernel to use updated packages.\n"
					]
				},
				{
					"name": "stderr",
					"output_type": "stream",
					"text": [
						"\n",
						"[notice] A new release of pip is available: 23.1.2 -> 23.2.1\n",
						"[notice] To update, run: python.exe -m pip install --upgrade pip\n"
					]
				},
				{
					"name": "stdout",
					"output_type": "stream",
					"text": [
						"Requirement already satisfied: missingno in c:\\users\\inteli\\appdata\\local\\programs\\python\\python311\\lib\\site-packages (0.5.2)\n",
						"Requirement already satisfied: numpy in c:\\users\\inteli\\appdata\\local\\programs\\python\\python311\\lib\\site-packages (from missingno) (1.26.0)\n",
						"Requirement already satisfied: matplotlib in c:\\users\\inteli\\appdata\\local\\programs\\python\\python311\\lib\\site-packages (from missingno) (3.7.2)\n",
						"Requirement already satisfied: scipy in c:\\users\\inteli\\appdata\\local\\programs\\python\\python311\\lib\\site-packages (from missingno) (1.11.2)\n",
						"Requirement already satisfied: seaborn in c:\\users\\inteli\\appdata\\local\\programs\\python\\python311\\lib\\site-packages (from missingno) (0.12.2)\n",
						"Requirement already satisfied: contourpy>=1.0.1 in c:\\users\\inteli\\appdata\\local\\programs\\python\\python311\\lib\\site-packages (from matplotlib->missingno) (1.1.0)\n",
						"Requirement already satisfied: cycler>=0.10 in c:\\users\\inteli\\appdata\\local\\programs\\python\\python311\\lib\\site-packages (from matplotlib->missingno) (0.11.0)\n",
						"Requirement already satisfied: fonttools>=4.22.0 in c:\\users\\inteli\\appdata\\local\\programs\\python\\python311\\lib\\site-packages (from matplotlib->missingno) (4.42.1)\n",
						"Requirement already satisfied: kiwisolver>=1.0.1 in c:\\users\\inteli\\appdata\\local\\programs\\python\\python311\\lib\\site-packages (from matplotlib->missingno) (1.4.4)\n",
						"Requirement already satisfied: packaging>=20.0 in c:\\users\\inteli\\appdata\\roaming\\python\\python311\\site-packages (from matplotlib->missingno) (23.1)\n",
						"Requirement already satisfied: pillow>=6.2.0 in c:\\users\\inteli\\appdata\\local\\programs\\python\\python311\\lib\\site-packages (from matplotlib->missingno) (10.0.0)\n",
						"Requirement already satisfied: pyparsing<3.1,>=2.3.1 in c:\\users\\inteli\\appdata\\local\\programs\\python\\python311\\lib\\site-packages (from matplotlib->missingno) (3.0.9)\n",
						"Requirement already satisfied: python-dateutil>=2.7 in c:\\users\\inteli\\appdata\\local\\programs\\python\\python311\\lib\\site-packages (from matplotlib->missingno) (2.8.2)\n",
						"Requirement already satisfied: pandas>=0.25 in c:\\users\\inteli\\appdata\\local\\programs\\python\\python311\\lib\\site-packages (from seaborn->missingno) (2.0.2)\n",
						"Requirement already satisfied: pytz>=2020.1 in c:\\users\\inteli\\appdata\\local\\programs\\python\\python311\\lib\\site-packages (from pandas>=0.25->seaborn->missingno) (2023.3)\n",
						"Requirement already satisfied: tzdata>=2022.1 in c:\\users\\inteli\\appdata\\local\\programs\\python\\python311\\lib\\site-packages (from pandas>=0.25->seaborn->missingno) (2023.3)\n",
						"Requirement already satisfied: six>=1.5 in c:\\users\\inteli\\appdata\\local\\programs\\python\\python311\\lib\\site-packages (from python-dateutil>=2.7->matplotlib->missingno) (1.16.0)\n",
						"Note: you may need to restart the kernel to use updated packages.\n"
					]
				},
				{
					"name": "stderr",
					"output_type": "stream",
					"text": [
						"\n",
						"[notice] A new release of pip is available: 23.1.2 -> 23.2.1\n",
						"[notice] To update, run: python.exe -m pip install --upgrade pip\n"
					]
				},
				{
					"name": "stdout",
					"output_type": "stream",
					"text": [
						"Requirement already satisfied: scipy in c:\\users\\inteli\\appdata\\local\\programs\\python\\python311\\lib\\site-packages (1.11.2)\n",
						"Requirement already satisfied: numpy<1.28.0,>=1.21.6 in c:\\users\\inteli\\appdata\\local\\programs\\python\\python311\\lib\\site-packages (from scipy) (1.26.0)\n",
						"Note: you may need to restart the kernel to use updated packages.\n"
					]
				},
				{
					"name": "stderr",
					"output_type": "stream",
					"text": [
						"\n",
						"[notice] A new release of pip is available: 23.1.2 -> 23.2.1\n",
						"[notice] To update, run: python.exe -m pip install --upgrade pip\n"
					]
				},
				{
					"name": "stdout",
					"output_type": "stream",
					"text": [
						"Requirement already satisfied: scikit-learn in c:\\users\\inteli\\appdata\\local\\programs\\python\\python311\\lib\\site-packages (1.3.1)\n",
						"Requirement already satisfied: numpy<2.0,>=1.17.3 in c:\\users\\inteli\\appdata\\local\\programs\\python\\python311\\lib\\site-packages (from scikit-learn) (1.26.0)\n",
						"Requirement already satisfied: scipy>=1.5.0 in c:\\users\\inteli\\appdata\\local\\programs\\python\\python311\\lib\\site-packages (from scikit-learn) (1.11.2)\n",
						"Requirement already satisfied: joblib>=1.1.1 in c:\\users\\inteli\\appdata\\local\\programs\\python\\python311\\lib\\site-packages (from scikit-learn) (1.3.2)\n",
						"Requirement already satisfied: threadpoolctl>=2.0.0 in c:\\users\\inteli\\appdata\\local\\programs\\python\\python311\\lib\\site-packages (from scikit-learn) (3.2.0)\n",
						"Note: you may need to restart the kernel to use updated packages.\n"
					]
				},
				{
					"name": "stderr",
					"output_type": "stream",
					"text": [
						"\n",
						"[notice] A new release of pip is available: 23.1.2 -> 23.2.1\n",
						"[notice] To update, run: python.exe -m pip install --upgrade pip\n"
					]
				},
				{
					"name": "stdout",
					"output_type": "stream",
					"text": [
						"Requirement already satisfied: prophet in c:\\users\\inteli\\appdata\\local\\programs\\python\\python311\\lib\\site-packages (1.1.4)\n",
						"Requirement already satisfied: cmdstanpy>=1.0.4 in c:\\users\\inteli\\appdata\\local\\programs\\python\\python311\\lib\\site-packages (from prophet) (1.1.0)\n",
						"Requirement already satisfied: numpy>=1.15.4 in c:\\users\\inteli\\appdata\\local\\programs\\python\\python311\\lib\\site-packages (from prophet) (1.26.0)\n",
						"Requirement already satisfied: matplotlib>=2.0.0 in c:\\users\\inteli\\appdata\\local\\programs\\python\\python311\\lib\\site-packages (from prophet) (3.7.2)\n",
						"Requirement already satisfied: pandas>=1.0.4 in c:\\users\\inteli\\appdata\\local\\programs\\python\\python311\\lib\\site-packages (from prophet) (2.0.2)\n",
						"Requirement already satisfied: LunarCalendar>=0.0.9 in c:\\users\\inteli\\appdata\\local\\programs\\python\\python311\\lib\\site-packages (from prophet) (0.0.9)\n",
						"Requirement already satisfied: convertdate>=2.1.2 in c:\\users\\inteli\\appdata\\local\\programs\\python\\python311\\lib\\site-packages (from prophet) (2.4.0)\n",
						"Requirement already satisfied: holidays>=0.25 in c:\\users\\inteli\\appdata\\local\\programs\\python\\python311\\lib\\site-packages (from prophet) (0.32)\n",
						"Requirement already satisfied: python-dateutil>=2.8.0 in c:\\users\\inteli\\appdata\\local\\programs\\python\\python311\\lib\\site-packages (from prophet) (2.8.2)\n",
						"Requirement already satisfied: tqdm>=4.36.1 in c:\\users\\inteli\\appdata\\local\\programs\\python\\python311\\lib\\site-packages (from prophet) (4.66.1)\n",
						"Requirement already satisfied: importlib-resources in c:\\users\\inteli\\appdata\\local\\programs\\python\\python311\\lib\\site-packages (from prophet) (6.0.1)\n",
						"Requirement already satisfied: pymeeus<=1,>=0.3.13 in c:\\users\\inteli\\appdata\\local\\programs\\python\\python311\\lib\\site-packages (from convertdate>=2.1.2->prophet) (0.5.12)\n",
						"Requirement already satisfied: ephem>=3.7.5.3 in c:\\users\\inteli\\appdata\\local\\programs\\python\\python311\\lib\\site-packages (from LunarCalendar>=0.0.9->prophet) (4.1.4)\n",
						"Requirement already satisfied: pytz in c:\\users\\inteli\\appdata\\local\\programs\\python\\python311\\lib\\site-packages (from LunarCalendar>=0.0.9->prophet) (2023.3)\n",
						"Requirement already satisfied: contourpy>=1.0.1 in c:\\users\\inteli\\appdata\\local\\programs\\python\\python311\\lib\\site-packages (from matplotlib>=2.0.0->prophet) (1.1.0)\n",
						"Requirement already satisfied: cycler>=0.10 in c:\\users\\inteli\\appdata\\local\\programs\\python\\python311\\lib\\site-packages (from matplotlib>=2.0.0->prophet) (0.11.0)\n",
						"Requirement already satisfied: fonttools>=4.22.0 in c:\\users\\inteli\\appdata\\local\\programs\\python\\python311\\lib\\site-packages (from matplotlib>=2.0.0->prophet) (4.42.1)\n",
						"Requirement already satisfied: kiwisolver>=1.0.1 in c:\\users\\inteli\\appdata\\local\\programs\\python\\python311\\lib\\site-packages (from matplotlib>=2.0.0->prophet) (1.4.4)\n",
						"Requirement already satisfied: packaging>=20.0 in c:\\users\\inteli\\appdata\\roaming\\python\\python311\\site-packages (from matplotlib>=2.0.0->prophet) (23.1)\n",
						"Requirement already satisfied: pillow>=6.2.0 in c:\\users\\inteli\\appdata\\local\\programs\\python\\python311\\lib\\site-packages (from matplotlib>=2.0.0->prophet) (10.0.0)\n",
						"Requirement already satisfied: pyparsing<3.1,>=2.3.1 in c:\\users\\inteli\\appdata\\local\\programs\\python\\python311\\lib\\site-packages (from matplotlib>=2.0.0->prophet) (3.0.9)\n",
						"Requirement already satisfied: tzdata>=2022.1 in c:\\users\\inteli\\appdata\\local\\programs\\python\\python311\\lib\\site-packages (from pandas>=1.0.4->prophet) (2023.3)\n",
						"Requirement already satisfied: six>=1.5 in c:\\users\\inteli\\appdata\\local\\programs\\python\\python311\\lib\\site-packages (from python-dateutil>=2.8.0->prophet) (1.16.0)\n",
						"Requirement already satisfied: colorama in c:\\users\\inteli\\appdata\\roaming\\python\\python311\\site-packages (from tqdm>=4.36.1->prophet) (0.4.6)\n",
						"Note: you may need to restart the kernel to use updated packages.\n"
					]
				},
				{
					"name": "stderr",
					"output_type": "stream",
					"text": [
						"\n",
						"[notice] A new release of pip is available: 23.1.2 -> 23.2.1\n",
						"[notice] To update, run: python.exe -m pip install --upgrade pip\n"
					]
				}
			],
			"source": [
				"%pip install pandas\n",
				"%pip install plotly_express\n",
				"%pip install missingno\n",
				"%pip install scipy\n",
				"%pip install scikit-learn\n",
				"%pip install prophet "
			]
		},
		{
			"cell_type": "markdown",
			"metadata": {
				"id": "8oW9Rvvvlguf"
			},
			"source": [
				"## Importações"
			]
		},
		{
			"cell_type": "code",
			"execution_count": 2,
			"metadata": {
				"id": "kes7rvcUln92"
			},
			"outputs": [
				{
					"name": "stderr",
					"output_type": "stream",
					"text": [
						"c:\\Users\\Inteli\\AppData\\Local\\Programs\\Python\\Python311\\Lib\\site-packages\\tqdm\\auto.py:21: TqdmWarning: IProgress not found. Please update jupyter and ipywidgets. See https://ipywidgets.readthedocs.io/en/stable/user_install.html\n",
						"  from .autonotebook import tqdm as notebook_tqdm\n"
					]
				}
			],
			"source": [
				"from math import sqrt\n",
				"import pandas as pd\n",
				"import plotly_express as px\n",
				"from sklearn.linear_model import LinearRegression\n",
				"import numpy as np\n",
				"from sklearn.model_selection import train_test_split\n",
				"from sklearn.ensemble import RandomForestRegressor\n",
				"from sklearn.metrics import mean_squared_error, mean_absolute_error, r2_score\n",
				"from datetime import datetime, timedelta\n",
				"from sklearn.preprocessing import LabelEncoder\n",
				"from sklearn.tree import DecisionTreeRegressor\n",
				"from prophet import Prophet\n",
				"from sklearn.preprocessing import StandardScaler\n",
				"import seaborn as sns\n",
				"import matplotlib.pyplot as plt"
			]
		},
		{
			"cell_type": "markdown",
			"metadata": {
				"id": "BIdUuRBLl2ID"
			},
			"source": [
				"## Carregamento de dados\n"
			]
		},
		{
			"cell_type": "code",
			"execution_count": 3,
			"metadata": {
				"colab": {
					"base_uri": "https://localhost:8080/",
					"height": 634
				},
				"id": "sVeuUCE8l7cl",
				"outputId": "fed60f80-444d-49ed-e78d-64ac464d1c2e"
			},
			"outputs": [
				{
					"data": {
						"text/html": [
							"<div>\n",
							"<style scoped>\n",
							"    .dataframe tbody tr th:only-of-type {\n",
							"        vertical-align: middle;\n",
							"    }\n",
							"\n",
							"    .dataframe tbody tr th {\n",
							"        vertical-align: top;\n",
							"    }\n",
							"\n",
							"    .dataframe thead th {\n",
							"        text-align: right;\n",
							"    }\n",
							"</style>\n",
							"<table border=\"1\" class=\"dataframe\">\n",
							"  <thead>\n",
							"    <tr style=\"text-align: right;\">\n",
							"      <th></th>\n",
							"      <th>date</th>\n",
							"      <th>weekday_name</th>\n",
							"      <th>sku</th>\n",
							"      <th>unit_price</th>\n",
							"      <th>shipment_type</th>\n",
							"      <th>anchor_category</th>\n",
							"      <th>product_department</th>\n",
							"      <th>product_category</th>\n",
							"      <th>origin_country</th>\n",
							"      <th>process_costing</th>\n",
							"      <th>...</th>\n",
							"      <th>avg_website_visits_last_week</th>\n",
							"      <th>stock_qty</th>\n",
							"      <th>log_avg_website_visits_last_week</th>\n",
							"      <th>month</th>\n",
							"      <th>day</th>\n",
							"      <th>year</th>\n",
							"      <th>log_unit_price</th>\n",
							"      <th>log_revenue</th>\n",
							"      <th>log_stock</th>\n",
							"      <th>log_items_sold</th>\n",
							"    </tr>\n",
							"  </thead>\n",
							"  <tbody>\n",
							"    <tr>\n",
							"      <th>0</th>\n",
							"      <td>2020-01-01</td>\n",
							"      <td>6</td>\n",
							"      <td>549</td>\n",
							"      <td>1099.99</td>\n",
							"      <td>0</td>\n",
							"      <td>24</td>\n",
							"      <td>3</td>\n",
							"      <td>11</td>\n",
							"      <td>0</td>\n",
							"      <td>0</td>\n",
							"      <td>...</td>\n",
							"      <td>17.285714</td>\n",
							"      <td>0</td>\n",
							"      <td>2.906120</td>\n",
							"      <td>1</td>\n",
							"      <td>1</td>\n",
							"      <td>2020</td>\n",
							"      <td>7.003965</td>\n",
							"      <td>0.000000</td>\n",
							"      <td>0.000000</td>\n",
							"      <td>0.000000</td>\n",
							"    </tr>\n",
							"    <tr>\n",
							"      <th>1</th>\n",
							"      <td>2020-01-01</td>\n",
							"      <td>6</td>\n",
							"      <td>669</td>\n",
							"      <td>413.99</td>\n",
							"      <td>0</td>\n",
							"      <td>13</td>\n",
							"      <td>4</td>\n",
							"      <td>9</td>\n",
							"      <td>0</td>\n",
							"      <td>1</td>\n",
							"      <td>...</td>\n",
							"      <td>48.857143</td>\n",
							"      <td>56</td>\n",
							"      <td>3.909162</td>\n",
							"      <td>1</td>\n",
							"      <td>1</td>\n",
							"      <td>2020</td>\n",
							"      <td>6.028254</td>\n",
							"      <td>0.000000</td>\n",
							"      <td>4.043051</td>\n",
							"      <td>0.000000</td>\n",
							"    </tr>\n",
							"    <tr>\n",
							"      <th>2</th>\n",
							"      <td>2020-01-01</td>\n",
							"      <td>6</td>\n",
							"      <td>745</td>\n",
							"      <td>949.99</td>\n",
							"      <td>0</td>\n",
							"      <td>10</td>\n",
							"      <td>4</td>\n",
							"      <td>12</td>\n",
							"      <td>0</td>\n",
							"      <td>1</td>\n",
							"      <td>...</td>\n",
							"      <td>22.714286</td>\n",
							"      <td>0</td>\n",
							"      <td>3.166078</td>\n",
							"      <td>1</td>\n",
							"      <td>1</td>\n",
							"      <td>2020</td>\n",
							"      <td>6.857504</td>\n",
							"      <td>6.889612</td>\n",
							"      <td>0.000000</td>\n",
							"      <td>0.693147</td>\n",
							"    </tr>\n",
							"    <tr>\n",
							"      <th>3</th>\n",
							"      <td>2020-01-01</td>\n",
							"      <td>6</td>\n",
							"      <td>129</td>\n",
							"      <td>2949.99</td>\n",
							"      <td>0</td>\n",
							"      <td>24</td>\n",
							"      <td>4</td>\n",
							"      <td>11</td>\n",
							"      <td>0</td>\n",
							"      <td>1</td>\n",
							"      <td>...</td>\n",
							"      <td>2.800000</td>\n",
							"      <td>0</td>\n",
							"      <td>1.335001</td>\n",
							"      <td>1</td>\n",
							"      <td>1</td>\n",
							"      <td>2020</td>\n",
							"      <td>7.989896</td>\n",
							"      <td>0.000000</td>\n",
							"      <td>0.000000</td>\n",
							"      <td>0.000000</td>\n",
							"    </tr>\n",
							"    <tr>\n",
							"      <th>4</th>\n",
							"      <td>2020-01-01</td>\n",
							"      <td>6</td>\n",
							"      <td>697</td>\n",
							"      <td>657.99</td>\n",
							"      <td>0</td>\n",
							"      <td>17</td>\n",
							"      <td>4</td>\n",
							"      <td>9</td>\n",
							"      <td>0</td>\n",
							"      <td>1</td>\n",
							"      <td>...</td>\n",
							"      <td>0.000000</td>\n",
							"      <td>0</td>\n",
							"      <td>0.000000</td>\n",
							"      <td>1</td>\n",
							"      <td>1</td>\n",
							"      <td>2020</td>\n",
							"      <td>6.490708</td>\n",
							"      <td>0.000000</td>\n",
							"      <td>0.000000</td>\n",
							"      <td>0.000000</td>\n",
							"    </tr>\n",
							"    <tr>\n",
							"      <th>...</th>\n",
							"      <td>...</td>\n",
							"      <td>...</td>\n",
							"      <td>...</td>\n",
							"      <td>...</td>\n",
							"      <td>...</td>\n",
							"      <td>...</td>\n",
							"      <td>...</td>\n",
							"      <td>...</td>\n",
							"      <td>...</td>\n",
							"      <td>...</td>\n",
							"      <td>...</td>\n",
							"      <td>...</td>\n",
							"      <td>...</td>\n",
							"      <td>...</td>\n",
							"      <td>...</td>\n",
							"      <td>...</td>\n",
							"      <td>...</td>\n",
							"      <td>...</td>\n",
							"      <td>...</td>\n",
							"      <td>...</td>\n",
							"      <td>...</td>\n",
							"    </tr>\n",
							"    <tr>\n",
							"      <th>780105</th>\n",
							"      <td>2023-07-03</td>\n",
							"      <td>1</td>\n",
							"      <td>48</td>\n",
							"      <td>504.88</td>\n",
							"      <td>0</td>\n",
							"      <td>2</td>\n",
							"      <td>4</td>\n",
							"      <td>9</td>\n",
							"      <td>0</td>\n",
							"      <td>1</td>\n",
							"      <td>...</td>\n",
							"      <td>41.000000</td>\n",
							"      <td>61</td>\n",
							"      <td>3.737670</td>\n",
							"      <td>7</td>\n",
							"      <td>3</td>\n",
							"      <td>2023</td>\n",
							"      <td>6.226299</td>\n",
							"      <td>0.000000</td>\n",
							"      <td>4.127134</td>\n",
							"      <td>0.000000</td>\n",
							"    </tr>\n",
							"    <tr>\n",
							"      <th>780106</th>\n",
							"      <td>2023-07-03</td>\n",
							"      <td>1</td>\n",
							"      <td>182</td>\n",
							"      <td>1717.95</td>\n",
							"      <td>0</td>\n",
							"      <td>23</td>\n",
							"      <td>4</td>\n",
							"      <td>11</td>\n",
							"      <td>0</td>\n",
							"      <td>1</td>\n",
							"      <td>...</td>\n",
							"      <td>154.142857</td>\n",
							"      <td>1</td>\n",
							"      <td>5.044346</td>\n",
							"      <td>7</td>\n",
							"      <td>3</td>\n",
							"      <td>2023</td>\n",
							"      <td>7.449469</td>\n",
							"      <td>0.000000</td>\n",
							"      <td>0.693147</td>\n",
							"      <td>0.000000</td>\n",
							"    </tr>\n",
							"    <tr>\n",
							"      <th>780107</th>\n",
							"      <td>2023-07-03</td>\n",
							"      <td>1</td>\n",
							"      <td>109</td>\n",
							"      <td>1659.88</td>\n",
							"      <td>0</td>\n",
							"      <td>5</td>\n",
							"      <td>4</td>\n",
							"      <td>9</td>\n",
							"      <td>0</td>\n",
							"      <td>1</td>\n",
							"      <td>...</td>\n",
							"      <td>138.000000</td>\n",
							"      <td>16</td>\n",
							"      <td>4.934474</td>\n",
							"      <td>7</td>\n",
							"      <td>3</td>\n",
							"      <td>2023</td>\n",
							"      <td>7.415103</td>\n",
							"      <td>0.000000</td>\n",
							"      <td>2.833213</td>\n",
							"      <td>0.000000</td>\n",
							"    </tr>\n",
							"    <tr>\n",
							"      <th>780108</th>\n",
							"      <td>2023-07-03</td>\n",
							"      <td>1</td>\n",
							"      <td>184</td>\n",
							"      <td>909.96</td>\n",
							"      <td>0</td>\n",
							"      <td>9</td>\n",
							"      <td>4</td>\n",
							"      <td>12</td>\n",
							"      <td>0</td>\n",
							"      <td>1</td>\n",
							"      <td>...</td>\n",
							"      <td>32.714286</td>\n",
							"      <td>20</td>\n",
							"      <td>3.517922</td>\n",
							"      <td>7</td>\n",
							"      <td>3</td>\n",
							"      <td>2023</td>\n",
							"      <td>6.814499</td>\n",
							"      <td>0.000000</td>\n",
							"      <td>3.044522</td>\n",
							"      <td>0.000000</td>\n",
							"    </tr>\n",
							"    <tr>\n",
							"      <th>780109</th>\n",
							"      <td>2023-07-03</td>\n",
							"      <td>1</td>\n",
							"      <td>446</td>\n",
							"      <td>619.98</td>\n",
							"      <td>1</td>\n",
							"      <td>1</td>\n",
							"      <td>3</td>\n",
							"      <td>12</td>\n",
							"      <td>1</td>\n",
							"      <td>1</td>\n",
							"      <td>...</td>\n",
							"      <td>19.000000</td>\n",
							"      <td>136</td>\n",
							"      <td>2.995732</td>\n",
							"      <td>7</td>\n",
							"      <td>3</td>\n",
							"      <td>2023</td>\n",
							"      <td>6.431299</td>\n",
							"      <td>0.000000</td>\n",
							"      <td>4.919981</td>\n",
							"      <td>0.000000</td>\n",
							"    </tr>\n",
							"  </tbody>\n",
							"</table>\n",
							"<p>780110 rows × 25 columns</p>\n",
							"</div>"
						],
						"text/plain": [
							"              date  weekday_name  sku  unit_price  shipment_type  \\\n",
							"0       2020-01-01             6  549     1099.99              0   \n",
							"1       2020-01-01             6  669      413.99              0   \n",
							"2       2020-01-01             6  745      949.99              0   \n",
							"3       2020-01-01             6  129     2949.99              0   \n",
							"4       2020-01-01             6  697      657.99              0   \n",
							"...            ...           ...  ...         ...            ...   \n",
							"780105  2023-07-03             1   48      504.88              0   \n",
							"780106  2023-07-03             1  182     1717.95              0   \n",
							"780107  2023-07-03             1  109     1659.88              0   \n",
							"780108  2023-07-03             1  184      909.96              0   \n",
							"780109  2023-07-03             1  446      619.98              1   \n",
							"\n",
							"        anchor_category  product_department  product_category  origin_country  \\\n",
							"0                    24                   3                11               0   \n",
							"1                    13                   4                 9               0   \n",
							"2                    10                   4                12               0   \n",
							"3                    24                   4                11               0   \n",
							"4                    17                   4                 9               0   \n",
							"...                 ...                 ...               ...             ...   \n",
							"780105                2                   4                 9               0   \n",
							"780106               23                   4                11               0   \n",
							"780107                5                   4                 9               0   \n",
							"780108                9                   4                12               0   \n",
							"780109                1                   3                12               1   \n",
							"\n",
							"        process_costing  ...  avg_website_visits_last_week  stock_qty  \\\n",
							"0                     0  ...                     17.285714          0   \n",
							"1                     1  ...                     48.857143         56   \n",
							"2                     1  ...                     22.714286          0   \n",
							"3                     1  ...                      2.800000          0   \n",
							"4                     1  ...                      0.000000          0   \n",
							"...                 ...  ...                           ...        ...   \n",
							"780105                1  ...                     41.000000         61   \n",
							"780106                1  ...                    154.142857          1   \n",
							"780107                1  ...                    138.000000         16   \n",
							"780108                1  ...                     32.714286         20   \n",
							"780109                1  ...                     19.000000        136   \n",
							"\n",
							"        log_avg_website_visits_last_week  month  day  year  log_unit_price  \\\n",
							"0                               2.906120      1    1  2020        7.003965   \n",
							"1                               3.909162      1    1  2020        6.028254   \n",
							"2                               3.166078      1    1  2020        6.857504   \n",
							"3                               1.335001      1    1  2020        7.989896   \n",
							"4                               0.000000      1    1  2020        6.490708   \n",
							"...                                  ...    ...  ...   ...             ...   \n",
							"780105                          3.737670      7    3  2023        6.226299   \n",
							"780106                          5.044346      7    3  2023        7.449469   \n",
							"780107                          4.934474      7    3  2023        7.415103   \n",
							"780108                          3.517922      7    3  2023        6.814499   \n",
							"780109                          2.995732      7    3  2023        6.431299   \n",
							"\n",
							"        log_revenue  log_stock  log_items_sold  \n",
							"0          0.000000   0.000000        0.000000  \n",
							"1          0.000000   4.043051        0.000000  \n",
							"2          6.889612   0.000000        0.693147  \n",
							"3          0.000000   0.000000        0.000000  \n",
							"4          0.000000   0.000000        0.000000  \n",
							"...             ...        ...             ...  \n",
							"780105     0.000000   4.127134        0.000000  \n",
							"780106     0.000000   0.693147        0.000000  \n",
							"780107     0.000000   2.833213        0.000000  \n",
							"780108     0.000000   3.044522        0.000000  \n",
							"780109     0.000000   4.919981        0.000000  \n",
							"\n",
							"[780110 rows x 25 columns]"
						]
					},
					"execution_count": 3,
					"metadata": {},
					"output_type": "execute_result"
				}
			],
			"source": [
				"# Importa os dados da Mobly\n",
				"df = pd.read_csv(\"../documentos/outros/base_de_dados/mobly_data.csv\", sep = \",\")\n",
				"df"
			]
		},
		{
			"cell_type": "markdown",
			"metadata": {
				"id": "HejJtYmfdQ2S"
			},
			"source": [
				"## Escolha e manipulação das features"
			]
		},
		{
			"cell_type": "markdown",
			"metadata": {
				"id": "_f5Uru2gipWv"
			},
			"source": [
				"No momento de escolha das features, o grupo optou por dividir entre features internas (que já fazem parte do dataframe) e features externas (que estão relacionadas com dados  exteriores e que serão implementados dentro do dataframe).\n",
				"\n",
				"Em relação as features internas, decidmos manter todas as colunas apresentadas no dataframe acima, visto que no notebook anterior (\"Data_Exploration\") retiramos todas as features que julgamos não necessárias para o treinamento e estruturação do modelo preditivo.\n",
				"Tais colunas foram retiradas porque: eram relacionadas com carcterísticas dos produtos (como tamanho e peso) e entendemos que não exibe uma influência significativa no número de vendas; apresentava apenas um atributo (coluna mobly_item); sua significância para o modelo foi refutada pelo grupo e pelo parceiro, como no caso da coluna supplier_delivery_time e as colunas relacionadas a vendas em bandos.\n",
				"\n",
				"Em relação as features externas, o grupo otou por adicionar: taxa do dólar e empregabilidade. Tal escolha foi feita considerando o pedido do parceiro em relação a adição dessas variáveis, levando em conta que influenciam no poder de compra dos clientes e, portanto, na quantidade de itens vendidos, sendo importante incorporar com as outras variáveis existentes para um melhor desempenho do modelo.\n",
				"\n",
				"Para tanto, foram feitas as mudanças a seguir:\n"
			]
		},
		{
			"cell_type": "code",
			"execution_count": 4,
			"metadata": {},
			"outputs": [],
			"source": [
				"df['date'] = pd.to_datetime(df['date'])"
			]
		},
		{
			"cell_type": "code",
			"execution_count": 5,
			"metadata": {},
			"outputs": [
				{
					"data": {
						"application/vnd.plotly.v1+json": {
							"config": {
								"plotlyServerURL": "https://plot.ly"
							},
							"data": [
								{
									"coloraxis": "coloraxis",
									"hovertemplate": "Dia: %{x}<br>Mês: %{y}<br>Média de itens vendidos: %{z}<extra></extra>",
									"name": "0",
									"type": "heatmap",
									"x": [
										1,
										2,
										3,
										4,
										5,
										6,
										7,
										8,
										9,
										10,
										11,
										12,
										13,
										14,
										15,
										16,
										17,
										18,
										19,
										20,
										21,
										22,
										23,
										24,
										25,
										26,
										27,
										28,
										29,
										30,
										31
									],
									"xaxis": "x",
									"y": [
										1,
										2,
										3,
										4,
										5,
										6,
										7,
										8,
										9,
										10,
										11,
										12
									],
									"yaxis": "y",
									"z": [
										[
											0.7858070099524016,
											2.0475984422327995,
											2.7442665512765037,
											2.8965815664214625,
											2.8126352228472524,
											3.754529767040552,
											3.840223944875108,
											3.324859974149074,
											3.123010752688172,
											2.8917060593038246,
											2.936398796733992,
											3.115268817204301,
											2.9669811320754715,
											2.990141448778397,
											2.8324046292327476,
											2.93101970865467,
											2.684661525278492,
											2.9211991434689506,
											2.6295503211991433,
											2.568677792041078,
											2.6174582798459562,
											2.467948717948718,
											2.516226741670273,
											2.5130208333333335,
											2.5425347222222223,
											2.3252136752136754,
											2.488034188034188,
											2.5046968403074295,
											2.450980392156863,
											2.5151256923732426,
											2.5914893617021275
										],
										[
											2.66468085106383,
											2.6404255319148935,
											2.7802385008517887,
											2.8143100511073254,
											2.770345121431615,
											2.7304088586030666,
											2.7520169851380043,
											2.8220050977060325,
											2.8104325699745547,
											2.6575692963752666,
											2.600852878464819,
											2.5426257459505544,
											2.645311837081035,
											2.456512515910055,
											2.594571670907549,
											2.437473505722764,
											2.6598898771706905,
											2.449851883199323,
											2.1845112145577654,
											2.4276649746192893,
											2.261200338123415,
											2.4361792054099745,
											2.400084495141529,
											2.275570583262891,
											2.2562367864693447,
											2.263002114164905,
											2.4513536379018612,
											2.6799154334038056,
											2.6538461538461537,
											null,
											null
										],
										[
											2.5249155405405403,
											2.6673710904480137,
											2.752956081081081,
											2.623310810810811,
											2.703204047217538,
											2.7026116259477675,
											2.7842393594605985,
											2.6384680134680134,
											2.742220353238015,
											2.7473728457335014,
											2.801093355761144,
											2.7593235039028623,
											2.632911392405063,
											2.8007566204287517,
											3.347771236333053,
											2.949558638083228,
											2.7831932773109243,
											2.604621848739496,
											2.438993710691824,
											2.4050209205020923,
											2.3485355648535564,
											2.5133891213389123,
											2.375732217573222,
											2.309364548494983,
											2.391304347826087,
											2.358308915864378,
											2.2552301255230125,
											2.288702928870293,
											2.4146443514644353,
											2.565927166178317,
											2.4323984930933444
										],
										[
											2.3740585774058576,
											2.4774436090225564,
											2.3181818181818183,
											2.238949124270225,
											2.384487072560467,
											2.584480600750939,
											2.4503338898163607,
											2.5217391304347827,
											2.1823873121869783,
											2.4322634431012924,
											2.52418682235196,
											2.5724396336386346,
											2.688953488372093,
											2.4804655029093934,
											2.519134775374376,
											2.5106029106029104,
											2.253017062005826,
											2.4178110694964627,
											2.503540191586839,
											2.289572081429165,
											2.544624325446243,
											2.5230577482343164,
											2.2987120897382636,
											2.191621733720448,
											2.3566984653670677,
											2.382828701783492,
											2.4074688796680497,
											2.4512144915603127,
											2.4501845018450186,
											2.3318312167144613,
											null
										],
										[
											2.276935682097501,
											2.446311475409836,
											2.4313243132431324,
											2.5506355063550634,
											2.4944649446494465,
											2.5166051660516606,
											2.5342353423534236,
											2.544821940237413,
											2.5116564417177916,
											2.7241520228851654,
											3.0147118921127913,
											2.8609975470155358,
											2.645016339869281,
											2.409313725490196,
											2.6364749082007344,
											2.6521915584415585,
											2.71875,
											2.7150974025974026,
											2.4933008526187574,
											2.4985789687373123,
											2.434659090909091,
											2.5044642857142856,
											2.5665044606650445,
											2.4333198216457235,
											2.5523114355231145,
											2.5884022708840226,
											2.5182333873581846,
											2.49006890960681,
											2.4872727272727273,
											2.5429608713190803,
											2.4556451612903225
										],
										[
											2.444085587404118,
											2.4424242424242424,
											2.5698707592891763,
											2.423790322580645,
											2.519438877755511,
											2.621006389776358,
											2.3608782435129743,
											2.7678500199441562,
											2.852191235059761,
											2.596260938743039,
											2.3896825396825396,
											2.3523809523809525,
											2.7225959635931933,
											2.7639383155397392,
											2.734782608695652,
											2.863582443653618,
											2.7651245551601424,
											2.516805061289047,
											2.5689996045867933,
											2.453934361407671,
											2.6836091410559497,
											2.6543307086614174,
											2.5745182854895794,
											2.4886006289308176,
											2.2852652259332022,
											2.292434339474716,
											2.379013312451057,
											2.4220830070477684,
											2.572154868987094,
											2.6017180788754395,
											null
										],
										[
											2.2951971885982037,
											2.378652123100896,
											1.9295445698715454,
											2.901721265963354,
											3.160734149054505,
											3.4449388209121246,
											3.223888888888889,
											2.935,
											2.9839156960621187,
											2.8473917869034406,
											2.932297447280799,
											3.3216860787576263,
											3.43261231281198,
											3.454997239094423,
											3.2163355408388523,
											2.998896247240618,
											2.9216335540838854,
											2.9536423841059603,
											3.0953168044077133,
											3.0837465564738293,
											3.0358126721763083,
											2.7257709251101323,
											2.676940011007155,
											2.437293729372937,
											2.6523652365236523,
											2.880572372041827,
											3.030820033021464,
											2.8389224848818033,
											2.8437327443401434,
											2.7790055248618786,
											2.5845303867403313
										],
										[
											2.6942604856512142,
											2.8792057363485934,
											2.9911748483177054,
											3.0848952590959207,
											2.902869757174393,
											2.957505518763797,
											2.639669421487603,
											2.729120879120879,
											3.0186813186813186,
											3.5405701754385963,
											3.1726027397260275,
											3.1768893756845564,
											2.887609649122807,
											2.6173245614035086,
											3.0060340098738343,
											3.283049917718047,
											3.147558968732858,
											3.1672149122807016,
											2.79013698630137,
											2.719518862766539,
											2.6043715846994537,
											2.5330420535226654,
											2.8913755458515285,
											2.841703056768559,
											2.849808847624249,
											2.5570726379027855,
											2.328782086291644,
											2.332968835429196,
											2.4390377255330784,
											2.649371927908247,
											2.8717248908296944
										],
										[
											2.912663755458515,
											2.756004366812227,
											2.7418122270742358,
											2.6877729257641922,
											2.653551912568306,
											2.738394320043692,
											2.9098853085745495,
											2.991261605679956,
											2.7755324959038776,
											2.7777170944838887,
											2.7081967213114755,
											2.759562841530055,
											2.9152542372881354,
											3.0590486604702023,
											3.0579551667577913,
											3.329141607435757,
											2.921781640412819,
											2.75054704595186,
											2.6806998359759433,
											2.855112083105522,
											3.072677595628415,
											2.9912568306010927,
											3.0185589519650655,
											2.7595837897042714,
											2.6164383561643834,
											2.626849315068493,
											2.9112814895947428,
											3.013143483023001,
											3.092004381161008,
											2.830777656078861,
											null
										],
										[
											2.6840087623220152,
											2.3032117583015785,
											2.7518878101402375,
											2.8913513513513514,
											3.0043243243243243,
											2.957837837837838,
											2.722011898323418,
											2.547863710113575,
											2.463665943600868,
											2.6670281995661607,
											2.708627238198589,
											2.5713510580575147,
											2.7929539295392956,
											2.707317073170732,
											2.727913279132791,
											2.554412560909583,
											2.495392953929539,
											2.704004329004329,
											2.9686147186147185,
											2.747436589314625,
											2.4859913793103448,
											2.308728448275862,
											2.2289870689655173,
											2.4749596122778676,
											2.456603773584906,
											2.4745034889962425,
											2.45996775926921,
											2.3855227882037533,
											2.2983395822174613,
											1.9662560257096946,
											2.2883075280298986
										],
										[
											2.4599786552828173,
											2.8112903225806454,
											2.725806451612903,
											2.899462365591398,
											2.822838847385272,
											2.699360341151386,
											2.8305807139051677,
											3.265849760255727,
											3.2855620671283963,
											3.3803942461374534,
											3.4470216130732734,
											3.2081138040042148,
											2.8956246705324196,
											2.979516806722689,
											3.0352446081009994,
											3.384412848867825,
											3.435194942044257,
											3.232790331056227,
											3.138801261829653,
											3.0312997347480106,
											3.40560549973559,
											3.5002638522427443,
											4.106583072100314,
											4.086134453781512,
											7.655941878567722,
											10.594608605495075,
											10.92263759086189,
											6.302180685358255,
											5.997397188964081,
											5.347554630593132,
											null
										],
										[
											4.126496616345653,
											3.388253638253638,
											3.399168399168399,
											3.203328133125325,
											3.0889235569422775,
											3.3352420614263405,
											3.019781363872983,
											3.5057232049947973,
											3.0824261275272162,
											2.9595854922279794,
											2.734229576008273,
											2.591731266149871,
											2.6323681489141677,
											2.71900826446281,
											2.4917355371900825,
											2.1824289405684754,
											2.106295149638803,
											1.934816347646146,
											1.9596899224806201,
											1.8903259182617693,
											1.9674081738230729,
											1.7015002586652872,
											1.3877973112719753,
											0.827817993795243,
											0.6911157024793388,
											1.5516528925619835,
											1.7696280991735538,
											1.8837809917355373,
											1.7066115702479339,
											1.5834625322997415,
											0.7767441860465116
										]
									]
								}
							],
							"layout": {
								"coloraxis": {
									"colorbar": {
										"title": {
											"text": "Média de itens vendidos"
										}
									},
									"colorscale": [
										[
											0,
											"rgb(253, 253, 204)"
										],
										[
											0.09090909090909091,
											"rgb(206, 236, 179)"
										],
										[
											0.18181818181818182,
											"rgb(156, 219, 165)"
										],
										[
											0.2727272727272727,
											"rgb(111, 201, 163)"
										],
										[
											0.36363636363636365,
											"rgb(86, 177, 163)"
										],
										[
											0.45454545454545453,
											"rgb(76, 153, 160)"
										],
										[
											0.5454545454545454,
											"rgb(68, 130, 155)"
										],
										[
											0.6363636363636364,
											"rgb(62, 108, 150)"
										],
										[
											0.7272727272727273,
											"rgb(62, 82, 143)"
										],
										[
											0.8181818181818182,
											"rgb(64, 60, 115)"
										],
										[
											0.9090909090909091,
											"rgb(54, 43, 77)"
										],
										[
											1,
											"rgb(39, 26, 44)"
										]
									]
								},
								"margin": {
									"t": 60
								},
								"template": {
									"data": {
										"bar": [
											{
												"error_x": {
													"color": "#2a3f5f"
												},
												"error_y": {
													"color": "#2a3f5f"
												},
												"marker": {
													"line": {
														"color": "#E5ECF6",
														"width": 0.5
													},
													"pattern": {
														"fillmode": "overlay",
														"size": 10,
														"solidity": 0.2
													}
												},
												"type": "bar"
											}
										],
										"barpolar": [
											{
												"marker": {
													"line": {
														"color": "#E5ECF6",
														"width": 0.5
													},
													"pattern": {
														"fillmode": "overlay",
														"size": 10,
														"solidity": 0.2
													}
												},
												"type": "barpolar"
											}
										],
										"carpet": [
											{
												"aaxis": {
													"endlinecolor": "#2a3f5f",
													"gridcolor": "white",
													"linecolor": "white",
													"minorgridcolor": "white",
													"startlinecolor": "#2a3f5f"
												},
												"baxis": {
													"endlinecolor": "#2a3f5f",
													"gridcolor": "white",
													"linecolor": "white",
													"minorgridcolor": "white",
													"startlinecolor": "#2a3f5f"
												},
												"type": "carpet"
											}
										],
										"choropleth": [
											{
												"colorbar": {
													"outlinewidth": 0,
													"ticks": ""
												},
												"type": "choropleth"
											}
										],
										"contour": [
											{
												"colorbar": {
													"outlinewidth": 0,
													"ticks": ""
												},
												"colorscale": [
													[
														0,
														"#0d0887"
													],
													[
														0.1111111111111111,
														"#46039f"
													],
													[
														0.2222222222222222,
														"#7201a8"
													],
													[
														0.3333333333333333,
														"#9c179e"
													],
													[
														0.4444444444444444,
														"#bd3786"
													],
													[
														0.5555555555555556,
														"#d8576b"
													],
													[
														0.6666666666666666,
														"#ed7953"
													],
													[
														0.7777777777777778,
														"#fb9f3a"
													],
													[
														0.8888888888888888,
														"#fdca26"
													],
													[
														1,
														"#f0f921"
													]
												],
												"type": "contour"
											}
										],
										"contourcarpet": [
											{
												"colorbar": {
													"outlinewidth": 0,
													"ticks": ""
												},
												"type": "contourcarpet"
											}
										],
										"heatmap": [
											{
												"colorbar": {
													"outlinewidth": 0,
													"ticks": ""
												},
												"colorscale": [
													[
														0,
														"#0d0887"
													],
													[
														0.1111111111111111,
														"#46039f"
													],
													[
														0.2222222222222222,
														"#7201a8"
													],
													[
														0.3333333333333333,
														"#9c179e"
													],
													[
														0.4444444444444444,
														"#bd3786"
													],
													[
														0.5555555555555556,
														"#d8576b"
													],
													[
														0.6666666666666666,
														"#ed7953"
													],
													[
														0.7777777777777778,
														"#fb9f3a"
													],
													[
														0.8888888888888888,
														"#fdca26"
													],
													[
														1,
														"#f0f921"
													]
												],
												"type": "heatmap"
											}
										],
										"heatmapgl": [
											{
												"colorbar": {
													"outlinewidth": 0,
													"ticks": ""
												},
												"colorscale": [
													[
														0,
														"#0d0887"
													],
													[
														0.1111111111111111,
														"#46039f"
													],
													[
														0.2222222222222222,
														"#7201a8"
													],
													[
														0.3333333333333333,
														"#9c179e"
													],
													[
														0.4444444444444444,
														"#bd3786"
													],
													[
														0.5555555555555556,
														"#d8576b"
													],
													[
														0.6666666666666666,
														"#ed7953"
													],
													[
														0.7777777777777778,
														"#fb9f3a"
													],
													[
														0.8888888888888888,
														"#fdca26"
													],
													[
														1,
														"#f0f921"
													]
												],
												"type": "heatmapgl"
											}
										],
										"histogram": [
											{
												"marker": {
													"pattern": {
														"fillmode": "overlay",
														"size": 10,
														"solidity": 0.2
													}
												},
												"type": "histogram"
											}
										],
										"histogram2d": [
											{
												"colorbar": {
													"outlinewidth": 0,
													"ticks": ""
												},
												"colorscale": [
													[
														0,
														"#0d0887"
													],
													[
														0.1111111111111111,
														"#46039f"
													],
													[
														0.2222222222222222,
														"#7201a8"
													],
													[
														0.3333333333333333,
														"#9c179e"
													],
													[
														0.4444444444444444,
														"#bd3786"
													],
													[
														0.5555555555555556,
														"#d8576b"
													],
													[
														0.6666666666666666,
														"#ed7953"
													],
													[
														0.7777777777777778,
														"#fb9f3a"
													],
													[
														0.8888888888888888,
														"#fdca26"
													],
													[
														1,
														"#f0f921"
													]
												],
												"type": "histogram2d"
											}
										],
										"histogram2dcontour": [
											{
												"colorbar": {
													"outlinewidth": 0,
													"ticks": ""
												},
												"colorscale": [
													[
														0,
														"#0d0887"
													],
													[
														0.1111111111111111,
														"#46039f"
													],
													[
														0.2222222222222222,
														"#7201a8"
													],
													[
														0.3333333333333333,
														"#9c179e"
													],
													[
														0.4444444444444444,
														"#bd3786"
													],
													[
														0.5555555555555556,
														"#d8576b"
													],
													[
														0.6666666666666666,
														"#ed7953"
													],
													[
														0.7777777777777778,
														"#fb9f3a"
													],
													[
														0.8888888888888888,
														"#fdca26"
													],
													[
														1,
														"#f0f921"
													]
												],
												"type": "histogram2dcontour"
											}
										],
										"mesh3d": [
											{
												"colorbar": {
													"outlinewidth": 0,
													"ticks": ""
												},
												"type": "mesh3d"
											}
										],
										"parcoords": [
											{
												"line": {
													"colorbar": {
														"outlinewidth": 0,
														"ticks": ""
													}
												},
												"type": "parcoords"
											}
										],
										"pie": [
											{
												"automargin": true,
												"type": "pie"
											}
										],
										"scatter": [
											{
												"fillpattern": {
													"fillmode": "overlay",
													"size": 10,
													"solidity": 0.2
												},
												"type": "scatter"
											}
										],
										"scatter3d": [
											{
												"line": {
													"colorbar": {
														"outlinewidth": 0,
														"ticks": ""
													}
												},
												"marker": {
													"colorbar": {
														"outlinewidth": 0,
														"ticks": ""
													}
												},
												"type": "scatter3d"
											}
										],
										"scattercarpet": [
											{
												"marker": {
													"colorbar": {
														"outlinewidth": 0,
														"ticks": ""
													}
												},
												"type": "scattercarpet"
											}
										],
										"scattergeo": [
											{
												"marker": {
													"colorbar": {
														"outlinewidth": 0,
														"ticks": ""
													}
												},
												"type": "scattergeo"
											}
										],
										"scattergl": [
											{
												"marker": {
													"colorbar": {
														"outlinewidth": 0,
														"ticks": ""
													}
												},
												"type": "scattergl"
											}
										],
										"scattermapbox": [
											{
												"marker": {
													"colorbar": {
														"outlinewidth": 0,
														"ticks": ""
													}
												},
												"type": "scattermapbox"
											}
										],
										"scatterpolar": [
											{
												"marker": {
													"colorbar": {
														"outlinewidth": 0,
														"ticks": ""
													}
												},
												"type": "scatterpolar"
											}
										],
										"scatterpolargl": [
											{
												"marker": {
													"colorbar": {
														"outlinewidth": 0,
														"ticks": ""
													}
												},
												"type": "scatterpolargl"
											}
										],
										"scatterternary": [
											{
												"marker": {
													"colorbar": {
														"outlinewidth": 0,
														"ticks": ""
													}
												},
												"type": "scatterternary"
											}
										],
										"surface": [
											{
												"colorbar": {
													"outlinewidth": 0,
													"ticks": ""
												},
												"colorscale": [
													[
														0,
														"#0d0887"
													],
													[
														0.1111111111111111,
														"#46039f"
													],
													[
														0.2222222222222222,
														"#7201a8"
													],
													[
														0.3333333333333333,
														"#9c179e"
													],
													[
														0.4444444444444444,
														"#bd3786"
													],
													[
														0.5555555555555556,
														"#d8576b"
													],
													[
														0.6666666666666666,
														"#ed7953"
													],
													[
														0.7777777777777778,
														"#fb9f3a"
													],
													[
														0.8888888888888888,
														"#fdca26"
													],
													[
														1,
														"#f0f921"
													]
												],
												"type": "surface"
											}
										],
										"table": [
											{
												"cells": {
													"fill": {
														"color": "#EBF0F8"
													},
													"line": {
														"color": "white"
													}
												},
												"header": {
													"fill": {
														"color": "#C8D4E3"
													},
													"line": {
														"color": "white"
													}
												},
												"type": "table"
											}
										]
									},
									"layout": {
										"annotationdefaults": {
											"arrowcolor": "#2a3f5f",
											"arrowhead": 0,
											"arrowwidth": 1
										},
										"autotypenumbers": "strict",
										"coloraxis": {
											"colorbar": {
												"outlinewidth": 0,
												"ticks": ""
											}
										},
										"colorscale": {
											"diverging": [
												[
													0,
													"#8e0152"
												],
												[
													0.1,
													"#c51b7d"
												],
												[
													0.2,
													"#de77ae"
												],
												[
													0.3,
													"#f1b6da"
												],
												[
													0.4,
													"#fde0ef"
												],
												[
													0.5,
													"#f7f7f7"
												],
												[
													0.6,
													"#e6f5d0"
												],
												[
													0.7,
													"#b8e186"
												],
												[
													0.8,
													"#7fbc41"
												],
												[
													0.9,
													"#4d9221"
												],
												[
													1,
													"#276419"
												]
											],
											"sequential": [
												[
													0,
													"#0d0887"
												],
												[
													0.1111111111111111,
													"#46039f"
												],
												[
													0.2222222222222222,
													"#7201a8"
												],
												[
													0.3333333333333333,
													"#9c179e"
												],
												[
													0.4444444444444444,
													"#bd3786"
												],
												[
													0.5555555555555556,
													"#d8576b"
												],
												[
													0.6666666666666666,
													"#ed7953"
												],
												[
													0.7777777777777778,
													"#fb9f3a"
												],
												[
													0.8888888888888888,
													"#fdca26"
												],
												[
													1,
													"#f0f921"
												]
											],
											"sequentialminus": [
												[
													0,
													"#0d0887"
												],
												[
													0.1111111111111111,
													"#46039f"
												],
												[
													0.2222222222222222,
													"#7201a8"
												],
												[
													0.3333333333333333,
													"#9c179e"
												],
												[
													0.4444444444444444,
													"#bd3786"
												],
												[
													0.5555555555555556,
													"#d8576b"
												],
												[
													0.6666666666666666,
													"#ed7953"
												],
												[
													0.7777777777777778,
													"#fb9f3a"
												],
												[
													0.8888888888888888,
													"#fdca26"
												],
												[
													1,
													"#f0f921"
												]
											]
										},
										"colorway": [
											"#636efa",
											"#EF553B",
											"#00cc96",
											"#ab63fa",
											"#FFA15A",
											"#19d3f3",
											"#FF6692",
											"#B6E880",
											"#FF97FF",
											"#FECB52"
										],
										"font": {
											"color": "#2a3f5f"
										},
										"geo": {
											"bgcolor": "white",
											"lakecolor": "white",
											"landcolor": "#E5ECF6",
											"showlakes": true,
											"showland": true,
											"subunitcolor": "white"
										},
										"hoverlabel": {
											"align": "left"
										},
										"hovermode": "closest",
										"mapbox": {
											"style": "light"
										},
										"paper_bgcolor": "white",
										"plot_bgcolor": "#E5ECF6",
										"polar": {
											"angularaxis": {
												"gridcolor": "white",
												"linecolor": "white",
												"ticks": ""
											},
											"bgcolor": "#E5ECF6",
											"radialaxis": {
												"gridcolor": "white",
												"linecolor": "white",
												"ticks": ""
											}
										},
										"scene": {
											"xaxis": {
												"backgroundcolor": "#E5ECF6",
												"gridcolor": "white",
												"gridwidth": 2,
												"linecolor": "white",
												"showbackground": true,
												"ticks": "",
												"zerolinecolor": "white"
											},
											"yaxis": {
												"backgroundcolor": "#E5ECF6",
												"gridcolor": "white",
												"gridwidth": 2,
												"linecolor": "white",
												"showbackground": true,
												"ticks": "",
												"zerolinecolor": "white"
											},
											"zaxis": {
												"backgroundcolor": "#E5ECF6",
												"gridcolor": "white",
												"gridwidth": 2,
												"linecolor": "white",
												"showbackground": true,
												"ticks": "",
												"zerolinecolor": "white"
											}
										},
										"shapedefaults": {
											"line": {
												"color": "#2a3f5f"
											}
										},
										"ternary": {
											"aaxis": {
												"gridcolor": "white",
												"linecolor": "white",
												"ticks": ""
											},
											"baxis": {
												"gridcolor": "white",
												"linecolor": "white",
												"ticks": ""
											},
											"bgcolor": "#E5ECF6",
											"caxis": {
												"gridcolor": "white",
												"linecolor": "white",
												"ticks": ""
											}
										},
										"title": {
											"x": 0.05
										},
										"xaxis": {
											"automargin": true,
											"gridcolor": "white",
											"linecolor": "white",
											"ticks": "",
											"title": {
												"standoff": 15
											},
											"zerolinecolor": "white",
											"zerolinewidth": 2
										},
										"yaxis": {
											"automargin": true,
											"gridcolor": "white",
											"linecolor": "white",
											"ticks": "",
											"title": {
												"standoff": 15
											},
											"zerolinecolor": "white",
											"zerolinewidth": 2
										}
									}
								},
								"title": {
									"text": "Mapa de Calor da Média de Itens Vendidos por Dia e Mês"
								},
								"xaxis": {
									"anchor": "y",
									"constrain": "domain",
									"domain": [
										0,
										1
									],
									"scaleanchor": "y",
									"side": "bottom",
									"title": {
										"text": "Dia"
									}
								},
								"yaxis": {
									"anchor": "x",
									"autorange": "reversed",
									"constrain": "domain",
									"domain": [
										0,
										1
									],
									"title": {
										"text": "Mês"
									}
								}
							}
						}
					},
					"metadata": {},
					"output_type": "display_data"
				}
			],
			"source": [
				"# Cria uma cópia do DataFrame original para trabalhar com ele e transforma a coluna 'date' para DateTime\n",
				"df_day = df\n",
				"df_day['date'] = pd.to_datetime(df_day['date'], format='%Y-%m-%d')\n",
				"df_day['month'] = df_day['date'].dt.month\n",
				"df_day['day'] = df_day['date'].dt.day\n",
				"df_day['year'] = df_day['date'].dt.year\n",
				"\n",
				"# Cria um pivot table que calcula a média dos valores da coluna 'items_sold' com base nos valores das colunas 'month' e 'day'\n",
				"df_day_heatmap = df_day.pivot_table(values='items_sold', index='month', columns='day', aggfunc='mean')\n",
				"\n",
				"# Cria um heatmap com os valores da pivot table 'df_day_heatmap' e configura rótulos e títulos adequados\n",
				"color = \"deep\"\n",
				"heatmap_sold = px.imshow(df_day_heatmap,\n",
				"                labels=dict(x=\"Dia\", y=\"Mês\", color=\"Média de itens vendidos\"),\n",
				"                x=df_day_heatmap.columns,\n",
				"                y=df_day_heatmap.index,\n",
				"                color_continuous_scale = color).update_layout(title=\"Mapa de Calor da Média de Itens Vendidos por Dia e Mês\", xaxis_side='bottom')\n",
				"heatmap_sold.show() # Exibe o heatmap"
			]
		},
		{
			"cell_type": "markdown",
			"metadata": {
				"id": "jGMaB7F3rn0Q"
			},
			"source": [
				"### Dados sobre a cotação do dolar(em reais) e da empregabilidade (em porcentagem)"
			]
		},
		{
			"cell_type": "code",
			"execution_count": 6,
			"metadata": {
				"colab": {
					"base_uri": "https://localhost:8080/",
					"height": 1000
				},
				"id": "pER81bwIdZuL",
				"outputId": "9c7c020e-7e05-4814-f0dd-c10915729c95"
			},
			"outputs": [
				{
					"data": {
						"text/html": [
							"<div>\n",
							"<style scoped>\n",
							"    .dataframe tbody tr th:only-of-type {\n",
							"        vertical-align: middle;\n",
							"    }\n",
							"\n",
							"    .dataframe tbody tr th {\n",
							"        vertical-align: top;\n",
							"    }\n",
							"\n",
							"    .dataframe thead th {\n",
							"        text-align: right;\n",
							"    }\n",
							"</style>\n",
							"<table border=\"1\" class=\"dataframe\">\n",
							"  <thead>\n",
							"    <tr style=\"text-align: right;\">\n",
							"      <th></th>\n",
							"      <th>year_dollar</th>\n",
							"      <th>month_dollar</th>\n",
							"      <th>value_dollar</th>\n",
							"    </tr>\n",
							"  </thead>\n",
							"  <tbody>\n",
							"    <tr>\n",
							"      <th>0</th>\n",
							"      <td>2020</td>\n",
							"      <td>1</td>\n",
							"      <td>4.0949</td>\n",
							"    </tr>\n",
							"    <tr>\n",
							"      <th>1</th>\n",
							"      <td>2020</td>\n",
							"      <td>2</td>\n",
							"      <td>4.1622</td>\n",
							"    </tr>\n",
							"    <tr>\n",
							"      <th>2</th>\n",
							"      <td>2020</td>\n",
							"      <td>3</td>\n",
							"      <td>4.3163</td>\n",
							"    </tr>\n",
							"    <tr>\n",
							"      <th>3</th>\n",
							"      <td>2020</td>\n",
							"      <td>4</td>\n",
							"      <td>4.7362</td>\n",
							"    </tr>\n",
							"    <tr>\n",
							"      <th>4</th>\n",
							"      <td>2020</td>\n",
							"      <td>5</td>\n",
							"      <td>5.2579</td>\n",
							"    </tr>\n",
							"    <tr>\n",
							"      <th>5</th>\n",
							"      <td>2020</td>\n",
							"      <td>6</td>\n",
							"      <td>5.8229</td>\n",
							"    </tr>\n",
							"    <tr>\n",
							"      <th>6</th>\n",
							"      <td>2020</td>\n",
							"      <td>7</td>\n",
							"      <td>5.1883</td>\n",
							"    </tr>\n",
							"    <tr>\n",
							"      <th>7</th>\n",
							"      <td>2020</td>\n",
							"      <td>8</td>\n",
							"      <td>5.3491</td>\n",
							"    </tr>\n",
							"    <tr>\n",
							"      <th>8</th>\n",
							"      <td>2020</td>\n",
							"      <td>9</td>\n",
							"      <td>5.3852</td>\n",
							"    </tr>\n",
							"    <tr>\n",
							"      <th>9</th>\n",
							"      <td>2020</td>\n",
							"      <td>10</td>\n",
							"      <td>5.2728</td>\n",
							"    </tr>\n",
							"    <tr>\n",
							"      <th>10</th>\n",
							"      <td>2020</td>\n",
							"      <td>11</td>\n",
							"      <td>5.6172</td>\n",
							"    </tr>\n",
							"    <tr>\n",
							"      <th>11</th>\n",
							"      <td>2020</td>\n",
							"      <td>12</td>\n",
							"      <td>5.4854</td>\n",
							"    </tr>\n",
							"    <tr>\n",
							"      <th>12</th>\n",
							"      <td>2021</td>\n",
							"      <td>1</td>\n",
							"      <td>5.0968</td>\n",
							"    </tr>\n",
							"    <tr>\n",
							"      <th>13</th>\n",
							"      <td>2021</td>\n",
							"      <td>2</td>\n",
							"      <td>5.2714</td>\n",
							"    </tr>\n",
							"    <tr>\n",
							"      <th>14</th>\n",
							"      <td>2021</td>\n",
							"      <td>3</td>\n",
							"      <td>5.3815</td>\n",
							"    </tr>\n",
							"    <tr>\n",
							"      <th>15</th>\n",
							"      <td>2021</td>\n",
							"      <td>4</td>\n",
							"      <td>5.6296</td>\n",
							"    </tr>\n",
							"    <tr>\n",
							"      <th>16</th>\n",
							"      <td>2021</td>\n",
							"      <td>5</td>\n",
							"      <td>5.6234</td>\n",
							"    </tr>\n",
							"    <tr>\n",
							"      <th>17</th>\n",
							"      <td>2021</td>\n",
							"      <td>6</td>\n",
							"      <td>5.2701</td>\n",
							"    </tr>\n",
							"    <tr>\n",
							"      <th>18</th>\n",
							"      <td>2021</td>\n",
							"      <td>7</td>\n",
							"      <td>5.0874</td>\n",
							"    </tr>\n",
							"    <tr>\n",
							"      <th>19</th>\n",
							"      <td>2021</td>\n",
							"      <td>8</td>\n",
							"      <td>5.1000</td>\n",
							"    </tr>\n",
							"    <tr>\n",
							"      <th>20</th>\n",
							"      <td>2021</td>\n",
							"      <td>9</td>\n",
							"      <td>5.2474</td>\n",
							"    </tr>\n",
							"    <tr>\n",
							"      <th>21</th>\n",
							"      <td>2021</td>\n",
							"      <td>10</td>\n",
							"      <td>5.2576</td>\n",
							"    </tr>\n",
							"    <tr>\n",
							"      <th>22</th>\n",
							"      <td>2021</td>\n",
							"      <td>11</td>\n",
							"      <td>5.4510</td>\n",
							"    </tr>\n",
							"    <tr>\n",
							"      <th>23</th>\n",
							"      <td>2021</td>\n",
							"      <td>12</td>\n",
							"      <td>5.4199</td>\n",
							"    </tr>\n",
							"    <tr>\n",
							"      <th>24</th>\n",
							"      <td>2022</td>\n",
							"      <td>1</td>\n",
							"      <td>5.7127</td>\n",
							"    </tr>\n",
							"    <tr>\n",
							"      <th>25</th>\n",
							"      <td>2022</td>\n",
							"      <td>2</td>\n",
							"      <td>5.5349</td>\n",
							"    </tr>\n",
							"    <tr>\n",
							"      <th>26</th>\n",
							"      <td>2022</td>\n",
							"      <td>3</td>\n",
							"      <td>5.1881</td>\n",
							"    </tr>\n",
							"    <tr>\n",
							"      <th>27</th>\n",
							"      <td>2022</td>\n",
							"      <td>4</td>\n",
							"      <td>5.1314</td>\n",
							"    </tr>\n",
							"    <tr>\n",
							"      <th>28</th>\n",
							"      <td>2022</td>\n",
							"      <td>5</td>\n",
							"      <td>4.7158</td>\n",
							"    </tr>\n",
							"    <tr>\n",
							"      <th>29</th>\n",
							"      <td>2022</td>\n",
							"      <td>6</td>\n",
							"      <td>5.1075</td>\n",
							"    </tr>\n",
							"    <tr>\n",
							"      <th>30</th>\n",
							"      <td>2022</td>\n",
							"      <td>7</td>\n",
							"      <td>5.1119</td>\n",
							"    </tr>\n",
							"    <tr>\n",
							"      <th>31</th>\n",
							"      <td>2022</td>\n",
							"      <td>8</td>\n",
							"      <td>5.4014</td>\n",
							"    </tr>\n",
							"    <tr>\n",
							"      <th>32</th>\n",
							"      <td>2022</td>\n",
							"      <td>9</td>\n",
							"      <td>5.0925</td>\n",
							"    </tr>\n",
							"    <tr>\n",
							"      <th>33</th>\n",
							"      <td>2022</td>\n",
							"      <td>10</td>\n",
							"      <td>5.2211</td>\n",
							"    </tr>\n",
							"    <tr>\n",
							"      <th>34</th>\n",
							"      <td>2022</td>\n",
							"      <td>11</td>\n",
							"      <td>5.2824</td>\n",
							"    </tr>\n",
							"    <tr>\n",
							"      <th>35</th>\n",
							"      <td>2022</td>\n",
							"      <td>12</td>\n",
							"      <td>5.3013</td>\n",
							"    </tr>\n",
							"    <tr>\n",
							"      <th>36</th>\n",
							"      <td>2023</td>\n",
							"      <td>1</td>\n",
							"      <td>5.3183</td>\n",
							"    </tr>\n",
							"    <tr>\n",
							"      <th>37</th>\n",
							"      <td>2023</td>\n",
							"      <td>2</td>\n",
							"      <td>5.1146</td>\n",
							"    </tr>\n",
							"    <tr>\n",
							"      <th>38</th>\n",
							"      <td>2023</td>\n",
							"      <td>3</td>\n",
							"      <td>5.2243</td>\n",
							"    </tr>\n",
							"    <tr>\n",
							"      <th>39</th>\n",
							"      <td>2023</td>\n",
							"      <td>4</td>\n",
							"      <td>5.2981</td>\n",
							"    </tr>\n",
							"    <tr>\n",
							"      <th>40</th>\n",
							"      <td>2023</td>\n",
							"      <td>5</td>\n",
							"      <td>4.9455</td>\n",
							"    </tr>\n",
							"    <tr>\n",
							"      <th>41</th>\n",
							"      <td>2023</td>\n",
							"      <td>6</td>\n",
							"      <td>4.9103</td>\n",
							"    </tr>\n",
							"    <tr>\n",
							"      <th>42</th>\n",
							"      <td>2023</td>\n",
							"      <td>7</td>\n",
							"      <td>4.8222</td>\n",
							"    </tr>\n",
							"    <tr>\n",
							"      <th>43</th>\n",
							"      <td>2023</td>\n",
							"      <td>8</td>\n",
							"      <td>0.0000</td>\n",
							"    </tr>\n",
							"    <tr>\n",
							"      <th>44</th>\n",
							"      <td>2023</td>\n",
							"      <td>9</td>\n",
							"      <td>0.0000</td>\n",
							"    </tr>\n",
							"    <tr>\n",
							"      <th>45</th>\n",
							"      <td>2023</td>\n",
							"      <td>10</td>\n",
							"      <td>0.0000</td>\n",
							"    </tr>\n",
							"    <tr>\n",
							"      <th>46</th>\n",
							"      <td>2023</td>\n",
							"      <td>11</td>\n",
							"      <td>0.0000</td>\n",
							"    </tr>\n",
							"    <tr>\n",
							"      <th>47</th>\n",
							"      <td>2023</td>\n",
							"      <td>12</td>\n",
							"      <td>0.0000</td>\n",
							"    </tr>\n",
							"  </tbody>\n",
							"</table>\n",
							"</div>"
						],
						"text/plain": [
							"    year_dollar  month_dollar  value_dollar\n",
							"0          2020             1        4.0949\n",
							"1          2020             2        4.1622\n",
							"2          2020             3        4.3163\n",
							"3          2020             4        4.7362\n",
							"4          2020             5        5.2579\n",
							"5          2020             6        5.8229\n",
							"6          2020             7        5.1883\n",
							"7          2020             8        5.3491\n",
							"8          2020             9        5.3852\n",
							"9          2020            10        5.2728\n",
							"10         2020            11        5.6172\n",
							"11         2020            12        5.4854\n",
							"12         2021             1        5.0968\n",
							"13         2021             2        5.2714\n",
							"14         2021             3        5.3815\n",
							"15         2021             4        5.6296\n",
							"16         2021             5        5.6234\n",
							"17         2021             6        5.2701\n",
							"18         2021             7        5.0874\n",
							"19         2021             8        5.1000\n",
							"20         2021             9        5.2474\n",
							"21         2021            10        5.2576\n",
							"22         2021            11        5.4510\n",
							"23         2021            12        5.4199\n",
							"24         2022             1        5.7127\n",
							"25         2022             2        5.5349\n",
							"26         2022             3        5.1881\n",
							"27         2022             4        5.1314\n",
							"28         2022             5        4.7158\n",
							"29         2022             6        5.1075\n",
							"30         2022             7        5.1119\n",
							"31         2022             8        5.4014\n",
							"32         2022             9        5.0925\n",
							"33         2022            10        5.2211\n",
							"34         2022            11        5.2824\n",
							"35         2022            12        5.3013\n",
							"36         2023             1        5.3183\n",
							"37         2023             2        5.1146\n",
							"38         2023             3        5.2243\n",
							"39         2023             4        5.2981\n",
							"40         2023             5        4.9455\n",
							"41         2023             6        4.9103\n",
							"42         2023             7        4.8222\n",
							"43         2023             8        0.0000\n",
							"44         2023             9        0.0000\n",
							"45         2023            10        0.0000\n",
							"46         2023            11        0.0000\n",
							"47         2023            12        0.0000"
						]
					},
					"execution_count": 6,
					"metadata": {},
					"output_type": "execute_result"
				}
			],
			"source": [
				"# Define e exibe o dataframe sobre dólar \n",
				"dollar_df = pd.read_csv(\"../documentos/outros/base_de_dados/dollar.csv\", sep=\",\")\n",
				"dollar_df"
			]
		},
		{
			"cell_type": "code",
			"execution_count": 7,
			"metadata": {},
			"outputs": [
				{
					"data": {
						"text/html": [
							"<div>\n",
							"<style scoped>\n",
							"    .dataframe tbody tr th:only-of-type {\n",
							"        vertical-align: middle;\n",
							"    }\n",
							"\n",
							"    .dataframe tbody tr th {\n",
							"        vertical-align: top;\n",
							"    }\n",
							"\n",
							"    .dataframe thead th {\n",
							"        text-align: right;\n",
							"    }\n",
							"</style>\n",
							"<table border=\"1\" class=\"dataframe\">\n",
							"  <thead>\n",
							"    <tr style=\"text-align: right;\">\n",
							"      <th></th>\n",
							"      <th>year_employability</th>\n",
							"      <th>month_employability</th>\n",
							"      <th>rate_employability</th>\n",
							"    </tr>\n",
							"  </thead>\n",
							"  <tbody>\n",
							"    <tr>\n",
							"      <th>0</th>\n",
							"      <td>2020</td>\n",
							"      <td>1</td>\n",
							"      <td>12.4</td>\n",
							"    </tr>\n",
							"    <tr>\n",
							"      <th>1</th>\n",
							"      <td>2020</td>\n",
							"      <td>2</td>\n",
							"      <td>12.4</td>\n",
							"    </tr>\n",
							"    <tr>\n",
							"      <th>2</th>\n",
							"      <td>2020</td>\n",
							"      <td>3</td>\n",
							"      <td>12.4</td>\n",
							"    </tr>\n",
							"    <tr>\n",
							"      <th>3</th>\n",
							"      <td>2020</td>\n",
							"      <td>4</td>\n",
							"      <td>13.6</td>\n",
							"    </tr>\n",
							"    <tr>\n",
							"      <th>4</th>\n",
							"      <td>2020</td>\n",
							"      <td>5</td>\n",
							"      <td>13.6</td>\n",
							"    </tr>\n",
							"    <tr>\n",
							"      <th>5</th>\n",
							"      <td>2020</td>\n",
							"      <td>6</td>\n",
							"      <td>13.6</td>\n",
							"    </tr>\n",
							"    <tr>\n",
							"      <th>6</th>\n",
							"      <td>2020</td>\n",
							"      <td>7</td>\n",
							"      <td>14.9</td>\n",
							"    </tr>\n",
							"    <tr>\n",
							"      <th>7</th>\n",
							"      <td>2020</td>\n",
							"      <td>8</td>\n",
							"      <td>14.9</td>\n",
							"    </tr>\n",
							"    <tr>\n",
							"      <th>8</th>\n",
							"      <td>2020</td>\n",
							"      <td>9</td>\n",
							"      <td>14.9</td>\n",
							"    </tr>\n",
							"    <tr>\n",
							"      <th>9</th>\n",
							"      <td>2020</td>\n",
							"      <td>10</td>\n",
							"      <td>14.2</td>\n",
							"    </tr>\n",
							"    <tr>\n",
							"      <th>10</th>\n",
							"      <td>2020</td>\n",
							"      <td>11</td>\n",
							"      <td>14.2</td>\n",
							"    </tr>\n",
							"    <tr>\n",
							"      <th>11</th>\n",
							"      <td>2020</td>\n",
							"      <td>12</td>\n",
							"      <td>14.2</td>\n",
							"    </tr>\n",
							"    <tr>\n",
							"      <th>12</th>\n",
							"      <td>2021</td>\n",
							"      <td>1</td>\n",
							"      <td>14.9</td>\n",
							"    </tr>\n",
							"    <tr>\n",
							"      <th>13</th>\n",
							"      <td>2021</td>\n",
							"      <td>2</td>\n",
							"      <td>14.9</td>\n",
							"    </tr>\n",
							"    <tr>\n",
							"      <th>14</th>\n",
							"      <td>2021</td>\n",
							"      <td>3</td>\n",
							"      <td>14.9</td>\n",
							"    </tr>\n",
							"    <tr>\n",
							"      <th>15</th>\n",
							"      <td>2021</td>\n",
							"      <td>4</td>\n",
							"      <td>14.2</td>\n",
							"    </tr>\n",
							"    <tr>\n",
							"      <th>16</th>\n",
							"      <td>2021</td>\n",
							"      <td>5</td>\n",
							"      <td>14.2</td>\n",
							"    </tr>\n",
							"    <tr>\n",
							"      <th>17</th>\n",
							"      <td>2021</td>\n",
							"      <td>6</td>\n",
							"      <td>14.2</td>\n",
							"    </tr>\n",
							"    <tr>\n",
							"      <th>18</th>\n",
							"      <td>2021</td>\n",
							"      <td>7</td>\n",
							"      <td>12.6</td>\n",
							"    </tr>\n",
							"    <tr>\n",
							"      <th>19</th>\n",
							"      <td>2021</td>\n",
							"      <td>8</td>\n",
							"      <td>12.6</td>\n",
							"    </tr>\n",
							"    <tr>\n",
							"      <th>20</th>\n",
							"      <td>2021</td>\n",
							"      <td>9</td>\n",
							"      <td>12.6</td>\n",
							"    </tr>\n",
							"    <tr>\n",
							"      <th>21</th>\n",
							"      <td>2021</td>\n",
							"      <td>10</td>\n",
							"      <td>11.1</td>\n",
							"    </tr>\n",
							"    <tr>\n",
							"      <th>22</th>\n",
							"      <td>2021</td>\n",
							"      <td>11</td>\n",
							"      <td>11.1</td>\n",
							"    </tr>\n",
							"    <tr>\n",
							"      <th>23</th>\n",
							"      <td>2021</td>\n",
							"      <td>12</td>\n",
							"      <td>11.1</td>\n",
							"    </tr>\n",
							"    <tr>\n",
							"      <th>24</th>\n",
							"      <td>2022</td>\n",
							"      <td>1</td>\n",
							"      <td>11.1</td>\n",
							"    </tr>\n",
							"    <tr>\n",
							"      <th>25</th>\n",
							"      <td>2022</td>\n",
							"      <td>2</td>\n",
							"      <td>11.1</td>\n",
							"    </tr>\n",
							"    <tr>\n",
							"      <th>26</th>\n",
							"      <td>2022</td>\n",
							"      <td>3</td>\n",
							"      <td>11.1</td>\n",
							"    </tr>\n",
							"    <tr>\n",
							"      <th>27</th>\n",
							"      <td>2022</td>\n",
							"      <td>4</td>\n",
							"      <td>9.3</td>\n",
							"    </tr>\n",
							"    <tr>\n",
							"      <th>28</th>\n",
							"      <td>2022</td>\n",
							"      <td>5</td>\n",
							"      <td>9.3</td>\n",
							"    </tr>\n",
							"    <tr>\n",
							"      <th>29</th>\n",
							"      <td>2022</td>\n",
							"      <td>6</td>\n",
							"      <td>9.3</td>\n",
							"    </tr>\n",
							"    <tr>\n",
							"      <th>30</th>\n",
							"      <td>2022</td>\n",
							"      <td>7</td>\n",
							"      <td>8.7</td>\n",
							"    </tr>\n",
							"    <tr>\n",
							"      <th>31</th>\n",
							"      <td>2022</td>\n",
							"      <td>8</td>\n",
							"      <td>8.7</td>\n",
							"    </tr>\n",
							"    <tr>\n",
							"      <th>32</th>\n",
							"      <td>2022</td>\n",
							"      <td>9</td>\n",
							"      <td>8.7</td>\n",
							"    </tr>\n",
							"    <tr>\n",
							"      <th>33</th>\n",
							"      <td>2022</td>\n",
							"      <td>10</td>\n",
							"      <td>7.9</td>\n",
							"    </tr>\n",
							"    <tr>\n",
							"      <th>34</th>\n",
							"      <td>2022</td>\n",
							"      <td>11</td>\n",
							"      <td>7.9</td>\n",
							"    </tr>\n",
							"    <tr>\n",
							"      <th>35</th>\n",
							"      <td>2022</td>\n",
							"      <td>12</td>\n",
							"      <td>7.9</td>\n",
							"    </tr>\n",
							"    <tr>\n",
							"      <th>36</th>\n",
							"      <td>2023</td>\n",
							"      <td>1</td>\n",
							"      <td>8.8</td>\n",
							"    </tr>\n",
							"    <tr>\n",
							"      <th>37</th>\n",
							"      <td>2023</td>\n",
							"      <td>2</td>\n",
							"      <td>8.8</td>\n",
							"    </tr>\n",
							"    <tr>\n",
							"      <th>38</th>\n",
							"      <td>2023</td>\n",
							"      <td>3</td>\n",
							"      <td>8.8</td>\n",
							"    </tr>\n",
							"    <tr>\n",
							"      <th>39</th>\n",
							"      <td>2023</td>\n",
							"      <td>4</td>\n",
							"      <td>8.0</td>\n",
							"    </tr>\n",
							"    <tr>\n",
							"      <th>40</th>\n",
							"      <td>2023</td>\n",
							"      <td>5</td>\n",
							"      <td>8.0</td>\n",
							"    </tr>\n",
							"    <tr>\n",
							"      <th>41</th>\n",
							"      <td>2023</td>\n",
							"      <td>6</td>\n",
							"      <td>8.0</td>\n",
							"    </tr>\n",
							"    <tr>\n",
							"      <th>42</th>\n",
							"      <td>2023</td>\n",
							"      <td>7</td>\n",
							"      <td>8.0</td>\n",
							"    </tr>\n",
							"    <tr>\n",
							"      <th>43</th>\n",
							"      <td>2023</td>\n",
							"      <td>8</td>\n",
							"      <td>0.0</td>\n",
							"    </tr>\n",
							"    <tr>\n",
							"      <th>44</th>\n",
							"      <td>2023</td>\n",
							"      <td>9</td>\n",
							"      <td>0.0</td>\n",
							"    </tr>\n",
							"    <tr>\n",
							"      <th>45</th>\n",
							"      <td>2023</td>\n",
							"      <td>10</td>\n",
							"      <td>0.0</td>\n",
							"    </tr>\n",
							"    <tr>\n",
							"      <th>46</th>\n",
							"      <td>2023</td>\n",
							"      <td>11</td>\n",
							"      <td>0.0</td>\n",
							"    </tr>\n",
							"    <tr>\n",
							"      <th>47</th>\n",
							"      <td>2023</td>\n",
							"      <td>12</td>\n",
							"      <td>0.0</td>\n",
							"    </tr>\n",
							"  </tbody>\n",
							"</table>\n",
							"</div>"
						],
						"text/plain": [
							"    year_employability  month_employability  rate_employability\n",
							"0                 2020                    1                12.4\n",
							"1                 2020                    2                12.4\n",
							"2                 2020                    3                12.4\n",
							"3                 2020                    4                13.6\n",
							"4                 2020                    5                13.6\n",
							"5                 2020                    6                13.6\n",
							"6                 2020                    7                14.9\n",
							"7                 2020                    8                14.9\n",
							"8                 2020                    9                14.9\n",
							"9                 2020                   10                14.2\n",
							"10                2020                   11                14.2\n",
							"11                2020                   12                14.2\n",
							"12                2021                    1                14.9\n",
							"13                2021                    2                14.9\n",
							"14                2021                    3                14.9\n",
							"15                2021                    4                14.2\n",
							"16                2021                    5                14.2\n",
							"17                2021                    6                14.2\n",
							"18                2021                    7                12.6\n",
							"19                2021                    8                12.6\n",
							"20                2021                    9                12.6\n",
							"21                2021                   10                11.1\n",
							"22                2021                   11                11.1\n",
							"23                2021                   12                11.1\n",
							"24                2022                    1                11.1\n",
							"25                2022                    2                11.1\n",
							"26                2022                    3                11.1\n",
							"27                2022                    4                 9.3\n",
							"28                2022                    5                 9.3\n",
							"29                2022                    6                 9.3\n",
							"30                2022                    7                 8.7\n",
							"31                2022                    8                 8.7\n",
							"32                2022                    9                 8.7\n",
							"33                2022                   10                 7.9\n",
							"34                2022                   11                 7.9\n",
							"35                2022                   12                 7.9\n",
							"36                2023                    1                 8.8\n",
							"37                2023                    2                 8.8\n",
							"38                2023                    3                 8.8\n",
							"39                2023                    4                 8.0\n",
							"40                2023                    5                 8.0\n",
							"41                2023                    6                 8.0\n",
							"42                2023                    7                 8.0\n",
							"43                2023                    8                 0.0\n",
							"44                2023                    9                 0.0\n",
							"45                2023                   10                 0.0\n",
							"46                2023                   11                 0.0\n",
							"47                2023                   12                 0.0"
						]
					},
					"execution_count": 7,
					"metadata": {},
					"output_type": "execute_result"
				}
			],
			"source": [
				"# Define e exibe o dataframe sobre empregabilidade\n",
				"employability_df = pd.read_csv(\"../documentos/outros/base_de_dados/employability.csv\", sep=\",\")\n",
				"employability_df"
			]
		},
		{
			"cell_type": "markdown",
			"metadata": {
				"id": "jp80UG9ktCPW"
			},
			"source": [
				"### Adição dos dados sobre o dólar e empregabilidade no dataframe"
			]
		},
		{
			"cell_type": "code",
			"execution_count": 8,
			"metadata": {
				"colab": {
					"base_uri": "https://localhost:8080/",
					"height": 617
				},
				"id": "QJRdjhn6oFg1",
				"outputId": "bbd7692e-23fd-45a6-efcf-13b6628dec73"
			},
			"outputs": [
				{
					"data": {
						"text/html": [
							"<div>\n",
							"<style scoped>\n",
							"    .dataframe tbody tr th:only-of-type {\n",
							"        vertical-align: middle;\n",
							"    }\n",
							"\n",
							"    .dataframe tbody tr th {\n",
							"        vertical-align: top;\n",
							"    }\n",
							"\n",
							"    .dataframe thead th {\n",
							"        text-align: right;\n",
							"    }\n",
							"</style>\n",
							"<table border=\"1\" class=\"dataframe\">\n",
							"  <thead>\n",
							"    <tr style=\"text-align: right;\">\n",
							"      <th></th>\n",
							"      <th>date</th>\n",
							"      <th>weekday_name</th>\n",
							"      <th>sku</th>\n",
							"      <th>unit_price</th>\n",
							"      <th>shipment_type</th>\n",
							"      <th>anchor_category</th>\n",
							"      <th>product_department</th>\n",
							"      <th>product_category</th>\n",
							"      <th>origin_country</th>\n",
							"      <th>process_costing</th>\n",
							"      <th>...</th>\n",
							"      <th>log_avg_website_visits_last_week</th>\n",
							"      <th>month</th>\n",
							"      <th>day</th>\n",
							"      <th>year</th>\n",
							"      <th>log_unit_price</th>\n",
							"      <th>log_revenue</th>\n",
							"      <th>log_stock</th>\n",
							"      <th>log_items_sold</th>\n",
							"      <th>value_dollar</th>\n",
							"      <th>rate_employability</th>\n",
							"    </tr>\n",
							"  </thead>\n",
							"  <tbody>\n",
							"    <tr>\n",
							"      <th>0</th>\n",
							"      <td>2020-01-01</td>\n",
							"      <td>6</td>\n",
							"      <td>549</td>\n",
							"      <td>1099.99</td>\n",
							"      <td>0</td>\n",
							"      <td>24</td>\n",
							"      <td>3</td>\n",
							"      <td>11</td>\n",
							"      <td>0</td>\n",
							"      <td>0</td>\n",
							"      <td>...</td>\n",
							"      <td>2.906120</td>\n",
							"      <td>1</td>\n",
							"      <td>1</td>\n",
							"      <td>2020</td>\n",
							"      <td>7.003965</td>\n",
							"      <td>0.000000</td>\n",
							"      <td>0.000000</td>\n",
							"      <td>0.000000</td>\n",
							"      <td>4.0949</td>\n",
							"      <td>12.4</td>\n",
							"    </tr>\n",
							"    <tr>\n",
							"      <th>1</th>\n",
							"      <td>2020-01-01</td>\n",
							"      <td>6</td>\n",
							"      <td>669</td>\n",
							"      <td>413.99</td>\n",
							"      <td>0</td>\n",
							"      <td>13</td>\n",
							"      <td>4</td>\n",
							"      <td>9</td>\n",
							"      <td>0</td>\n",
							"      <td>1</td>\n",
							"      <td>...</td>\n",
							"      <td>3.909162</td>\n",
							"      <td>1</td>\n",
							"      <td>1</td>\n",
							"      <td>2020</td>\n",
							"      <td>6.028254</td>\n",
							"      <td>0.000000</td>\n",
							"      <td>4.043051</td>\n",
							"      <td>0.000000</td>\n",
							"      <td>4.0949</td>\n",
							"      <td>12.4</td>\n",
							"    </tr>\n",
							"    <tr>\n",
							"      <th>2</th>\n",
							"      <td>2020-01-01</td>\n",
							"      <td>6</td>\n",
							"      <td>745</td>\n",
							"      <td>949.99</td>\n",
							"      <td>0</td>\n",
							"      <td>10</td>\n",
							"      <td>4</td>\n",
							"      <td>12</td>\n",
							"      <td>0</td>\n",
							"      <td>1</td>\n",
							"      <td>...</td>\n",
							"      <td>3.166078</td>\n",
							"      <td>1</td>\n",
							"      <td>1</td>\n",
							"      <td>2020</td>\n",
							"      <td>6.857504</td>\n",
							"      <td>6.889612</td>\n",
							"      <td>0.000000</td>\n",
							"      <td>0.693147</td>\n",
							"      <td>4.0949</td>\n",
							"      <td>12.4</td>\n",
							"    </tr>\n",
							"    <tr>\n",
							"      <th>3</th>\n",
							"      <td>2020-01-01</td>\n",
							"      <td>6</td>\n",
							"      <td>129</td>\n",
							"      <td>2949.99</td>\n",
							"      <td>0</td>\n",
							"      <td>24</td>\n",
							"      <td>4</td>\n",
							"      <td>11</td>\n",
							"      <td>0</td>\n",
							"      <td>1</td>\n",
							"      <td>...</td>\n",
							"      <td>1.335001</td>\n",
							"      <td>1</td>\n",
							"      <td>1</td>\n",
							"      <td>2020</td>\n",
							"      <td>7.989896</td>\n",
							"      <td>0.000000</td>\n",
							"      <td>0.000000</td>\n",
							"      <td>0.000000</td>\n",
							"      <td>4.0949</td>\n",
							"      <td>12.4</td>\n",
							"    </tr>\n",
							"    <tr>\n",
							"      <th>4</th>\n",
							"      <td>2020-01-01</td>\n",
							"      <td>6</td>\n",
							"      <td>697</td>\n",
							"      <td>657.99</td>\n",
							"      <td>0</td>\n",
							"      <td>17</td>\n",
							"      <td>4</td>\n",
							"      <td>9</td>\n",
							"      <td>0</td>\n",
							"      <td>1</td>\n",
							"      <td>...</td>\n",
							"      <td>0.000000</td>\n",
							"      <td>1</td>\n",
							"      <td>1</td>\n",
							"      <td>2020</td>\n",
							"      <td>6.490708</td>\n",
							"      <td>0.000000</td>\n",
							"      <td>0.000000</td>\n",
							"      <td>0.000000</td>\n",
							"      <td>4.0949</td>\n",
							"      <td>12.4</td>\n",
							"    </tr>\n",
							"    <tr>\n",
							"      <th>...</th>\n",
							"      <td>...</td>\n",
							"      <td>...</td>\n",
							"      <td>...</td>\n",
							"      <td>...</td>\n",
							"      <td>...</td>\n",
							"      <td>...</td>\n",
							"      <td>...</td>\n",
							"      <td>...</td>\n",
							"      <td>...</td>\n",
							"      <td>...</td>\n",
							"      <td>...</td>\n",
							"      <td>...</td>\n",
							"      <td>...</td>\n",
							"      <td>...</td>\n",
							"      <td>...</td>\n",
							"      <td>...</td>\n",
							"      <td>...</td>\n",
							"      <td>...</td>\n",
							"      <td>...</td>\n",
							"      <td>...</td>\n",
							"      <td>...</td>\n",
							"    </tr>\n",
							"    <tr>\n",
							"      <th>780105</th>\n",
							"      <td>2023-07-03</td>\n",
							"      <td>1</td>\n",
							"      <td>48</td>\n",
							"      <td>504.88</td>\n",
							"      <td>0</td>\n",
							"      <td>2</td>\n",
							"      <td>4</td>\n",
							"      <td>9</td>\n",
							"      <td>0</td>\n",
							"      <td>1</td>\n",
							"      <td>...</td>\n",
							"      <td>3.737670</td>\n",
							"      <td>7</td>\n",
							"      <td>3</td>\n",
							"      <td>2023</td>\n",
							"      <td>6.226299</td>\n",
							"      <td>0.000000</td>\n",
							"      <td>4.127134</td>\n",
							"      <td>0.000000</td>\n",
							"      <td>4.8222</td>\n",
							"      <td>8.0</td>\n",
							"    </tr>\n",
							"    <tr>\n",
							"      <th>780106</th>\n",
							"      <td>2023-07-03</td>\n",
							"      <td>1</td>\n",
							"      <td>182</td>\n",
							"      <td>1717.95</td>\n",
							"      <td>0</td>\n",
							"      <td>23</td>\n",
							"      <td>4</td>\n",
							"      <td>11</td>\n",
							"      <td>0</td>\n",
							"      <td>1</td>\n",
							"      <td>...</td>\n",
							"      <td>5.044346</td>\n",
							"      <td>7</td>\n",
							"      <td>3</td>\n",
							"      <td>2023</td>\n",
							"      <td>7.449469</td>\n",
							"      <td>0.000000</td>\n",
							"      <td>0.693147</td>\n",
							"      <td>0.000000</td>\n",
							"      <td>4.8222</td>\n",
							"      <td>8.0</td>\n",
							"    </tr>\n",
							"    <tr>\n",
							"      <th>780107</th>\n",
							"      <td>2023-07-03</td>\n",
							"      <td>1</td>\n",
							"      <td>109</td>\n",
							"      <td>1659.88</td>\n",
							"      <td>0</td>\n",
							"      <td>5</td>\n",
							"      <td>4</td>\n",
							"      <td>9</td>\n",
							"      <td>0</td>\n",
							"      <td>1</td>\n",
							"      <td>...</td>\n",
							"      <td>4.934474</td>\n",
							"      <td>7</td>\n",
							"      <td>3</td>\n",
							"      <td>2023</td>\n",
							"      <td>7.415103</td>\n",
							"      <td>0.000000</td>\n",
							"      <td>2.833213</td>\n",
							"      <td>0.000000</td>\n",
							"      <td>4.8222</td>\n",
							"      <td>8.0</td>\n",
							"    </tr>\n",
							"    <tr>\n",
							"      <th>780108</th>\n",
							"      <td>2023-07-03</td>\n",
							"      <td>1</td>\n",
							"      <td>184</td>\n",
							"      <td>909.96</td>\n",
							"      <td>0</td>\n",
							"      <td>9</td>\n",
							"      <td>4</td>\n",
							"      <td>12</td>\n",
							"      <td>0</td>\n",
							"      <td>1</td>\n",
							"      <td>...</td>\n",
							"      <td>3.517922</td>\n",
							"      <td>7</td>\n",
							"      <td>3</td>\n",
							"      <td>2023</td>\n",
							"      <td>6.814499</td>\n",
							"      <td>0.000000</td>\n",
							"      <td>3.044522</td>\n",
							"      <td>0.000000</td>\n",
							"      <td>4.8222</td>\n",
							"      <td>8.0</td>\n",
							"    </tr>\n",
							"    <tr>\n",
							"      <th>780109</th>\n",
							"      <td>2023-07-03</td>\n",
							"      <td>1</td>\n",
							"      <td>446</td>\n",
							"      <td>619.98</td>\n",
							"      <td>1</td>\n",
							"      <td>1</td>\n",
							"      <td>3</td>\n",
							"      <td>12</td>\n",
							"      <td>1</td>\n",
							"      <td>1</td>\n",
							"      <td>...</td>\n",
							"      <td>2.995732</td>\n",
							"      <td>7</td>\n",
							"      <td>3</td>\n",
							"      <td>2023</td>\n",
							"      <td>6.431299</td>\n",
							"      <td>0.000000</td>\n",
							"      <td>4.919981</td>\n",
							"      <td>0.000000</td>\n",
							"      <td>4.8222</td>\n",
							"      <td>8.0</td>\n",
							"    </tr>\n",
							"  </tbody>\n",
							"</table>\n",
							"<p>780110 rows × 27 columns</p>\n",
							"</div>"
						],
						"text/plain": [
							"             date  weekday_name  sku  unit_price  shipment_type  \\\n",
							"0      2020-01-01             6  549     1099.99              0   \n",
							"1      2020-01-01             6  669      413.99              0   \n",
							"2      2020-01-01             6  745      949.99              0   \n",
							"3      2020-01-01             6  129     2949.99              0   \n",
							"4      2020-01-01             6  697      657.99              0   \n",
							"...           ...           ...  ...         ...            ...   \n",
							"780105 2023-07-03             1   48      504.88              0   \n",
							"780106 2023-07-03             1  182     1717.95              0   \n",
							"780107 2023-07-03             1  109     1659.88              0   \n",
							"780108 2023-07-03             1  184      909.96              0   \n",
							"780109 2023-07-03             1  446      619.98              1   \n",
							"\n",
							"        anchor_category  product_department  product_category  origin_country  \\\n",
							"0                    24                   3                11               0   \n",
							"1                    13                   4                 9               0   \n",
							"2                    10                   4                12               0   \n",
							"3                    24                   4                11               0   \n",
							"4                    17                   4                 9               0   \n",
							"...                 ...                 ...               ...             ...   \n",
							"780105                2                   4                 9               0   \n",
							"780106               23                   4                11               0   \n",
							"780107                5                   4                 9               0   \n",
							"780108                9                   4                12               0   \n",
							"780109                1                   3                12               1   \n",
							"\n",
							"        process_costing  ...  log_avg_website_visits_last_week  month  day  \\\n",
							"0                     0  ...                          2.906120      1    1   \n",
							"1                     1  ...                          3.909162      1    1   \n",
							"2                     1  ...                          3.166078      1    1   \n",
							"3                     1  ...                          1.335001      1    1   \n",
							"4                     1  ...                          0.000000      1    1   \n",
							"...                 ...  ...                               ...    ...  ...   \n",
							"780105                1  ...                          3.737670      7    3   \n",
							"780106                1  ...                          5.044346      7    3   \n",
							"780107                1  ...                          4.934474      7    3   \n",
							"780108                1  ...                          3.517922      7    3   \n",
							"780109                1  ...                          2.995732      7    3   \n",
							"\n",
							"        year  log_unit_price  log_revenue  log_stock  log_items_sold  \\\n",
							"0       2020        7.003965     0.000000   0.000000        0.000000   \n",
							"1       2020        6.028254     0.000000   4.043051        0.000000   \n",
							"2       2020        6.857504     6.889612   0.000000        0.693147   \n",
							"3       2020        7.989896     0.000000   0.000000        0.000000   \n",
							"4       2020        6.490708     0.000000   0.000000        0.000000   \n",
							"...      ...             ...          ...        ...             ...   \n",
							"780105  2023        6.226299     0.000000   4.127134        0.000000   \n",
							"780106  2023        7.449469     0.000000   0.693147        0.000000   \n",
							"780107  2023        7.415103     0.000000   2.833213        0.000000   \n",
							"780108  2023        6.814499     0.000000   3.044522        0.000000   \n",
							"780109  2023        6.431299     0.000000   4.919981        0.000000   \n",
							"\n",
							"        value_dollar  rate_employability  \n",
							"0             4.0949                12.4  \n",
							"1             4.0949                12.4  \n",
							"2             4.0949                12.4  \n",
							"3             4.0949                12.4  \n",
							"4             4.0949                12.4  \n",
							"...              ...                 ...  \n",
							"780105        4.8222                 8.0  \n",
							"780106        4.8222                 8.0  \n",
							"780107        4.8222                 8.0  \n",
							"780108        4.8222                 8.0  \n",
							"780109        4.8222                 8.0  \n",
							"\n",
							"[780110 rows x 27 columns]"
						]
					},
					"execution_count": 8,
					"metadata": {},
					"output_type": "execute_result"
				}
			],
			"source": [
				"# Agrupa os DataFrames usando as colunas 'year' e 'month'\n",
				"df = pd.merge(df, dollar_df, left_on=[\"year\", \"month\"], right_on=[\"year_dollar\", \"month_dollar\"], how=\"left\")\n",
				"\n",
				"# Remove as colunas de ano e mês duplicadas após a junção\n",
				"df.drop(columns=[\"year_dollar\", \"month_dollar\"], inplace=True)\n",
				"\n",
				"# Agrupa os DataFrames de empregabilidade e resultado usando a coluna 'year' e 'month'\n",
				"df = df.merge(employability_df, left_on=[\"year\", \"month\"], right_on=[\"year_employability\", \"month_employability\"], how=\"left\")\n",
				"\n",
				"# Remove as colunas de ano e mês duplicadas após a junção\n",
				"df.drop(columns=[\"year_employability\", \"month_employability\"], inplace=True)\n",
				"df"
			]
		},
		{
			"cell_type": "code",
			"execution_count": 9,
			"metadata": {},
			"outputs": [
				{
					"data": {
						"image/png": "[encoded data removed]",
						"text/plain": [
							"<Figure size 1800x600 with 2 Axes>"
						]
					},
					"metadata": {},
					"output_type": "display_data"
				}
			],
			"source": [
				"# Cria a matriz de correlação das colunas, com as variáveis externas\n",
				"correlation_matrix = df.corr(numeric_only=True)\n",
				"plt.figure(figsize=(18, 6))\n",
				"sns.heatmap(correlation_matrix, annot=True, cmap='coolwarm', fmt=\".2f\")\n",
				"plt.title('Matriz de Correlação')\n",
				"plt.show()"
			]
		},
		{
			"cell_type": "markdown",
			"metadata": {},
			"source": [
				"## Teste de diferentes modelos"
			]
		},
		{
			"cell_type": "markdown",
			"metadata": {},
			"source": [
				"Para encontrar o modelo que mais se encaixa, o grupo optou por testar três algoritmos diferentes aprendidos ao decorrer das aulas. Eles são: Random Forest, Regressão Linear e Árvore de decisão.\n",
				"\n",
				"\n",
				"A descrição e aplicação de cada algoritmo será explicado abaixo"
			]
		},
		{
			"cell_type": "markdown",
			"metadata": {},
			"source": [
				"### Preparação dos dados"
			]
		},
		{
			"cell_type": "markdown",
			"metadata": {},
			"source": [
				"Utilizando o pacote sklearn foi feito o treinamento do modelo, separando 20% dos dados para teste."
			]
		},
		{
			"cell_type": "code",
			"execution_count": null,
			"metadata": {},
			"outputs": [],
			"source": [
				"# Divide os dados em conjuntos de treinamento e teste\n",
				"X = df.drop('items_sold', axis=1)\n",
				"y = df['items_sold']\n",
				"X_train, X_test, y_train, y_test = train_test_split(X, y, test_size=0.2, random_state=42)"
			]
		},
		{
			"cell_type": "markdown",
			"metadata": {},
			"source": [
				"### Random Forest\n"
			]
		},
		{
			"cell_type": "markdown",
			"metadata": {},
			"source": [
				"Um dos modelos escolhidos para testar a predição de vendas da empresa Mobly foi o random forest. Tal modelo tem como base um algoritmo que cria um conjunto de árvores de decisões individuais e combina suas previsões para um resultado mais preciso. A escolha desse algoritmo para teste foi feito porque ele lida bem com modelos de regressão e se mostra ser bem completo, lidando com diferentes tipos de features e questões como ovefitting e outliers.\n"
			]
		},
		{
			"cell_type": "markdown",
			"metadata": {},
			"source": [
				"Durante a aplicação do algoritmo, foi necessário excluir algumas colunas que poderiam diminuir a performance do modelo, uma vez que o Random Forest consegue lidar melhor com dados brutos ao invés de normalizados. Sendo assim, essas colunas são:\n",
				"\n",
				"* A coluna `date`, pois o algoritmo não aceita dados que são do tipo `date.time`. Essa exclusão não alterou de forma negativa o modelo, uma vez que tal coluna já havia sido fragmentada em três colunas: `day`, `month` e `year`;\n",
				"* As colunas de log, uma vez que o modelo lida bem com dados não normalizados e essas colunas normalizadas a partir do log poderiam abrir brechas para a ocorrência do overffiting ou, até mesmo, de uma variância indesejada dos dados gerados pelo modelo. Além disso, essas colunas de log geram dados muito granulares, fazendo com que as árvores do modelo se torne muito complexa;\n",
				"* A coluna `winning_price`, uma vez que apresentava dados nulos. Essa coluna foi preenchida posteriormente, haja vista que o parceiro disponibilizou uma base de dados que contém tal coluna preenchida;\n",
				"* A coluna revenue, uma vez que ela sobrepõe as colunas `items_sold` e `unit_price` e, portanto, gera data leakage.\n",
				"\n",
				"\n",
				"Depois de realizarmos essa limpeza de ruídos realizamos o treinamento do modelo e, depois, avaliamos as suas métricas,"
			]
		},
		{
			"cell_type": "code",
			"execution_count": null,
			"metadata": {},
			"outputs": [
				{
					"data": {
						"text/html": [
							"<div>\n",
							"<style scoped>\n",
							"    .dataframe tbody tr th:only-of-type {\n",
							"        vertical-align: middle;\n",
							"    }\n",
							"\n",
							"    .dataframe tbody tr th {\n",
							"        vertical-align: top;\n",
							"    }\n",
							"\n",
							"    .dataframe thead th {\n",
							"        text-align: right;\n",
							"    }\n",
							"</style>\n",
							"<table border=\"1\" class=\"dataframe\">\n",
							"  <thead>\n",
							"    <tr style=\"text-align: right;\">\n",
							"      <th></th>\n",
							"      <th>weekday_name</th>\n",
							"      <th>sku</th>\n",
							"      <th>unit_price</th>\n",
							"      <th>shipment_type</th>\n",
							"      <th>anchor_category</th>\n",
							"      <th>product_department</th>\n",
							"      <th>product_category</th>\n",
							"      <th>origin_country</th>\n",
							"      <th>process_costing</th>\n",
							"      <th>sku_color</th>\n",
							"      <th>price_status</th>\n",
							"      <th>items_sold</th>\n",
							"      <th>avg_website_visits_last_week</th>\n",
							"      <th>stock_qty</th>\n",
							"      <th>month</th>\n",
							"      <th>day</th>\n",
							"      <th>year</th>\n",
							"      <th>value_dollar</th>\n",
							"      <th>rate_employability</th>\n",
							"    </tr>\n",
							"  </thead>\n",
							"  <tbody>\n",
							"    <tr>\n",
							"      <th>0</th>\n",
							"      <td>6</td>\n",
							"      <td>549</td>\n",
							"      <td>1099.99</td>\n",
							"      <td>0</td>\n",
							"      <td>24</td>\n",
							"      <td>3</td>\n",
							"      <td>11</td>\n",
							"      <td>0</td>\n",
							"      <td>0</td>\n",
							"      <td>12</td>\n",
							"      <td>3</td>\n",
							"      <td>0</td>\n",
							"      <td>17.285714</td>\n",
							"      <td>0</td>\n",
							"      <td>1</td>\n",
							"      <td>1</td>\n",
							"      <td>2020</td>\n",
							"      <td>4.0949</td>\n",
							"      <td>12.4</td>\n",
							"    </tr>\n",
							"    <tr>\n",
							"      <th>1</th>\n",
							"      <td>6</td>\n",
							"      <td>669</td>\n",
							"      <td>413.99</td>\n",
							"      <td>0</td>\n",
							"      <td>13</td>\n",
							"      <td>4</td>\n",
							"      <td>9</td>\n",
							"      <td>0</td>\n",
							"      <td>1</td>\n",
							"      <td>9</td>\n",
							"      <td>3</td>\n",
							"      <td>0</td>\n",
							"      <td>48.857143</td>\n",
							"      <td>56</td>\n",
							"      <td>1</td>\n",
							"      <td>1</td>\n",
							"      <td>2020</td>\n",
							"      <td>4.0949</td>\n",
							"      <td>12.4</td>\n",
							"    </tr>\n",
							"    <tr>\n",
							"      <th>2</th>\n",
							"      <td>6</td>\n",
							"      <td>745</td>\n",
							"      <td>949.99</td>\n",
							"      <td>0</td>\n",
							"      <td>10</td>\n",
							"      <td>4</td>\n",
							"      <td>12</td>\n",
							"      <td>0</td>\n",
							"      <td>1</td>\n",
							"      <td>17</td>\n",
							"      <td>3</td>\n",
							"      <td>1</td>\n",
							"      <td>22.714286</td>\n",
							"      <td>0</td>\n",
							"      <td>1</td>\n",
							"      <td>1</td>\n",
							"      <td>2020</td>\n",
							"      <td>4.0949</td>\n",
							"      <td>12.4</td>\n",
							"    </tr>\n",
							"    <tr>\n",
							"      <th>3</th>\n",
							"      <td>6</td>\n",
							"      <td>129</td>\n",
							"      <td>2949.99</td>\n",
							"      <td>0</td>\n",
							"      <td>24</td>\n",
							"      <td>4</td>\n",
							"      <td>11</td>\n",
							"      <td>0</td>\n",
							"      <td>1</td>\n",
							"      <td>21</td>\n",
							"      <td>3</td>\n",
							"      <td>0</td>\n",
							"      <td>2.800000</td>\n",
							"      <td>0</td>\n",
							"      <td>1</td>\n",
							"      <td>1</td>\n",
							"      <td>2020</td>\n",
							"      <td>4.0949</td>\n",
							"      <td>12.4</td>\n",
							"    </tr>\n",
							"    <tr>\n",
							"      <th>4</th>\n",
							"      <td>6</td>\n",
							"      <td>697</td>\n",
							"      <td>657.99</td>\n",
							"      <td>0</td>\n",
							"      <td>17</td>\n",
							"      <td>4</td>\n",
							"      <td>9</td>\n",
							"      <td>0</td>\n",
							"      <td>1</td>\n",
							"      <td>31</td>\n",
							"      <td>2</td>\n",
							"      <td>0</td>\n",
							"      <td>0.000000</td>\n",
							"      <td>0</td>\n",
							"      <td>1</td>\n",
							"      <td>1</td>\n",
							"      <td>2020</td>\n",
							"      <td>4.0949</td>\n",
							"      <td>12.4</td>\n",
							"    </tr>\n",
							"    <tr>\n",
							"      <th>...</th>\n",
							"      <td>...</td>\n",
							"      <td>...</td>\n",
							"      <td>...</td>\n",
							"      <td>...</td>\n",
							"      <td>...</td>\n",
							"      <td>...</td>\n",
							"      <td>...</td>\n",
							"      <td>...</td>\n",
							"      <td>...</td>\n",
							"      <td>...</td>\n",
							"      <td>...</td>\n",
							"      <td>...</td>\n",
							"      <td>...</td>\n",
							"      <td>...</td>\n",
							"      <td>...</td>\n",
							"      <td>...</td>\n",
							"      <td>...</td>\n",
							"      <td>...</td>\n",
							"      <td>...</td>\n",
							"    </tr>\n",
							"    <tr>\n",
							"      <th>780105</th>\n",
							"      <td>1</td>\n",
							"      <td>48</td>\n",
							"      <td>504.88</td>\n",
							"      <td>0</td>\n",
							"      <td>2</td>\n",
							"      <td>4</td>\n",
							"      <td>9</td>\n",
							"      <td>0</td>\n",
							"      <td>1</td>\n",
							"      <td>6</td>\n",
							"      <td>2</td>\n",
							"      <td>0</td>\n",
							"      <td>41.000000</td>\n",
							"      <td>61</td>\n",
							"      <td>7</td>\n",
							"      <td>3</td>\n",
							"      <td>2023</td>\n",
							"      <td>4.8222</td>\n",
							"      <td>8.0</td>\n",
							"    </tr>\n",
							"    <tr>\n",
							"      <th>780106</th>\n",
							"      <td>1</td>\n",
							"      <td>182</td>\n",
							"      <td>1717.95</td>\n",
							"      <td>0</td>\n",
							"      <td>23</td>\n",
							"      <td>4</td>\n",
							"      <td>11</td>\n",
							"      <td>0</td>\n",
							"      <td>1</td>\n",
							"      <td>12</td>\n",
							"      <td>4</td>\n",
							"      <td>0</td>\n",
							"      <td>154.142857</td>\n",
							"      <td>1</td>\n",
							"      <td>7</td>\n",
							"      <td>3</td>\n",
							"      <td>2023</td>\n",
							"      <td>4.8222</td>\n",
							"      <td>8.0</td>\n",
							"    </tr>\n",
							"    <tr>\n",
							"      <th>780107</th>\n",
							"      <td>1</td>\n",
							"      <td>109</td>\n",
							"      <td>1659.88</td>\n",
							"      <td>0</td>\n",
							"      <td>5</td>\n",
							"      <td>4</td>\n",
							"      <td>9</td>\n",
							"      <td>0</td>\n",
							"      <td>1</td>\n",
							"      <td>22</td>\n",
							"      <td>2</td>\n",
							"      <td>0</td>\n",
							"      <td>138.000000</td>\n",
							"      <td>16</td>\n",
							"      <td>7</td>\n",
							"      <td>3</td>\n",
							"      <td>2023</td>\n",
							"      <td>4.8222</td>\n",
							"      <td>8.0</td>\n",
							"    </tr>\n",
							"    <tr>\n",
							"      <th>780108</th>\n",
							"      <td>1</td>\n",
							"      <td>184</td>\n",
							"      <td>909.96</td>\n",
							"      <td>0</td>\n",
							"      <td>9</td>\n",
							"      <td>4</td>\n",
							"      <td>12</td>\n",
							"      <td>0</td>\n",
							"      <td>1</td>\n",
							"      <td>5</td>\n",
							"      <td>2</td>\n",
							"      <td>0</td>\n",
							"      <td>32.714286</td>\n",
							"      <td>20</td>\n",
							"      <td>7</td>\n",
							"      <td>3</td>\n",
							"      <td>2023</td>\n",
							"      <td>4.8222</td>\n",
							"      <td>8.0</td>\n",
							"    </tr>\n",
							"    <tr>\n",
							"      <th>780109</th>\n",
							"      <td>1</td>\n",
							"      <td>446</td>\n",
							"      <td>619.98</td>\n",
							"      <td>1</td>\n",
							"      <td>1</td>\n",
							"      <td>3</td>\n",
							"      <td>12</td>\n",
							"      <td>1</td>\n",
							"      <td>1</td>\n",
							"      <td>31</td>\n",
							"      <td>3</td>\n",
							"      <td>0</td>\n",
							"      <td>19.000000</td>\n",
							"      <td>136</td>\n",
							"      <td>7</td>\n",
							"      <td>3</td>\n",
							"      <td>2023</td>\n",
							"      <td>4.8222</td>\n",
							"      <td>8.0</td>\n",
							"    </tr>\n",
							"  </tbody>\n",
							"</table>\n",
							"<p>780110 rows × 19 columns</p>\n",
							"</div>"
						],
						"text/plain": [
							"        weekday_name  sku  unit_price  shipment_type  anchor_category  \\\n",
							"0                  6  549     1099.99              0               24   \n",
							"1                  6  669      413.99              0               13   \n",
							"2                  6  745      949.99              0               10   \n",
							"3                  6  129     2949.99              0               24   \n",
							"4                  6  697      657.99              0               17   \n",
							"...              ...  ...         ...            ...              ...   \n",
							"780105             1   48      504.88              0                2   \n",
							"780106             1  182     1717.95              0               23   \n",
							"780107             1  109     1659.88              0                5   \n",
							"780108             1  184      909.96              0                9   \n",
							"780109             1  446      619.98              1                1   \n",
							"\n",
							"        product_department  product_category  origin_country  process_costing  \\\n",
							"0                        3                11               0                0   \n",
							"1                        4                 9               0                1   \n",
							"2                        4                12               0                1   \n",
							"3                        4                11               0                1   \n",
							"4                        4                 9               0                1   \n",
							"...                    ...               ...             ...              ...   \n",
							"780105                   4                 9               0                1   \n",
							"780106                   4                11               0                1   \n",
							"780107                   4                 9               0                1   \n",
							"780108                   4                12               0                1   \n",
							"780109                   3                12               1                1   \n",
							"\n",
							"        sku_color  price_status  items_sold  avg_website_visits_last_week  \\\n",
							"0              12             3           0                     17.285714   \n",
							"1               9             3           0                     48.857143   \n",
							"2              17             3           1                     22.714286   \n",
							"3              21             3           0                      2.800000   \n",
							"4              31             2           0                      0.000000   \n",
							"...           ...           ...         ...                           ...   \n",
							"780105          6             2           0                     41.000000   \n",
							"780106         12             4           0                    154.142857   \n",
							"780107         22             2           0                    138.000000   \n",
							"780108          5             2           0                     32.714286   \n",
							"780109         31             3           0                     19.000000   \n",
							"\n",
							"        stock_qty  month  day  year  value_dollar  rate_employability  \n",
							"0               0      1    1  2020        4.0949                12.4  \n",
							"1              56      1    1  2020        4.0949                12.4  \n",
							"2               0      1    1  2020        4.0949                12.4  \n",
							"3               0      1    1  2020        4.0949                12.4  \n",
							"4               0      1    1  2020        4.0949                12.4  \n",
							"...           ...    ...  ...   ...           ...                 ...  \n",
							"780105         61      7    3  2023        4.8222                 8.0  \n",
							"780106          1      7    3  2023        4.8222                 8.0  \n",
							"780107         16      7    3  2023        4.8222                 8.0  \n",
							"780108         20      7    3  2023        4.8222                 8.0  \n",
							"780109        136      7    3  2023        4.8222                 8.0  \n",
							"\n",
							"[780110 rows x 19 columns]"
						]
					},
					"execution_count": 132,
					"metadata": {},
					"output_type": "execute_result"
				}
			],
			"source": [
				"# Exclui as colunas citadas acima\n",
				"df = df.drop([\"date\", \"log_unit_price\",\"log_revenue\", \"log_stock\", \"log_items_sold\",\n",
				"              \"log_avg_website_visits_last_week\",\"winning_price\",\"revenue\"], axis =1)\n",
				"# Exibe o dataframe\n",
				"df"
			]
		},
		{
			"cell_type": "markdown",
			"metadata": {},
			"source": [
				"##### Preparação de dados"
			]
		},
		{
			"cell_type": "markdown",
			"metadata": {},
			"source": [
				"Utilizando o pacote sklearn foi feito a preparação do modelo, separando 20% dos dados para teste.\n",
				"\n",
				"A preparação a seguir será utilizada para os próximos modelos também."
			]
		},
		{
			"cell_type": "code",
			"execution_count": null,
			"metadata": {},
			"outputs": [],
			"source": [
				"# Divide os dados em conjuntos de treinamento e teste\n",
				"X = df.drop('items_sold', axis=1)\n",
				"y = df['items_sold']\n",
				"X_train, X_test, y_train, y_test = train_test_split(X, y, test_size=0.2, random_state=42)"
			]
		},
		{
			"cell_type": "markdown",
			"metadata": {},
			"source": [
				"##### Treinamento"
			]
		},
		{
			"cell_type": "code",
			"execution_count": null,
			"metadata": {},
			"outputs": [
				{
					"ename": "KeyboardInterrupt",
					"evalue": "",
					"output_type": "error",
					"traceback": [
						"\u001b[1;31m---------------------------------------------------------------------------\u001b[0m",
						"\u001b[1;31mKeyboardInterrupt\u001b[0m                         Traceback (most recent call last)",
						"\u001b[1;32mc:\\Users\\Inteli\\Documents\\GitHub\\grupo1\\notebooks\\Modelagem.ipynb Cell 29\u001b[0m line \u001b[0;36m5\n\u001b[0;32m      <a href='vscode-notebook-cell:/c%3A/Users/Inteli/Documents/GitHub/grupo1/notebooks/Modelagem.ipynb#X34sZmlsZQ%3D%3D?line=1'>2</a>\u001b[0m random_forest \u001b[39m=\u001b[39m RandomForestRegressor(n_estimators\u001b[39m=\u001b[39m\u001b[39m100\u001b[39m, random_state\u001b[39m=\u001b[39m\u001b[39m42\u001b[39m)\n\u001b[0;32m      <a href='vscode-notebook-cell:/c%3A/Users/Inteli/Documents/GitHub/grupo1/notebooks/Modelagem.ipynb#X34sZmlsZQ%3D%3D?line=3'>4</a>\u001b[0m \u001b[39m# Treina o modelo\u001b[39;00m\n\u001b[1;32m----> <a href='vscode-notebook-cell:/c%3A/Users/Inteli/Documents/GitHub/grupo1/notebooks/Modelagem.ipynb#X34sZmlsZQ%3D%3D?line=4'>5</a>\u001b[0m random_forest\u001b[39m.\u001b[39;49mfit(X_train, y_train)\n",
						"File \u001b[1;32mc:\\Users\\Inteli\\AppData\\Local\\Programs\\Python\\Python311\\Lib\\site-packages\\sklearn\\base.py:1152\u001b[0m, in \u001b[0;36m_fit_context.<locals>.decorator.<locals>.wrapper\u001b[1;34m(estimator, *args, **kwargs)\u001b[0m\n\u001b[0;32m   1145\u001b[0m     estimator\u001b[39m.\u001b[39m_validate_params()\n\u001b[0;32m   1147\u001b[0m \u001b[39mwith\u001b[39;00m config_context(\n\u001b[0;32m   1148\u001b[0m     skip_parameter_validation\u001b[39m=\u001b[39m(\n\u001b[0;32m   1149\u001b[0m         prefer_skip_nested_validation \u001b[39mor\u001b[39;00m global_skip_validation\n\u001b[0;32m   1150\u001b[0m     )\n\u001b[0;32m   1151\u001b[0m ):\n\u001b[1;32m-> 1152\u001b[0m     \u001b[39mreturn\u001b[39;00m fit_method(estimator, \u001b[39m*\u001b[39;49margs, \u001b[39m*\u001b[39;49m\u001b[39m*\u001b[39;49mkwargs)\n",
						"File \u001b[1;32mc:\\Users\\Inteli\\AppData\\Local\\Programs\\Python\\Python311\\Lib\\site-packages\\sklearn\\ensemble\\_forest.py:456\u001b[0m, in \u001b[0;36mBaseForest.fit\u001b[1;34m(self, X, y, sample_weight)\u001b[0m\n\u001b[0;32m    445\u001b[0m trees \u001b[39m=\u001b[39m [\n\u001b[0;32m    446\u001b[0m     \u001b[39mself\u001b[39m\u001b[39m.\u001b[39m_make_estimator(append\u001b[39m=\u001b[39m\u001b[39mFalse\u001b[39;00m, random_state\u001b[39m=\u001b[39mrandom_state)\n\u001b[0;32m    447\u001b[0m     \u001b[39mfor\u001b[39;00m i \u001b[39min\u001b[39;00m \u001b[39mrange\u001b[39m(n_more_estimators)\n\u001b[0;32m    448\u001b[0m ]\n\u001b[0;32m    450\u001b[0m \u001b[39m# Parallel loop: we prefer the threading backend as the Cython code\u001b[39;00m\n\u001b[0;32m    451\u001b[0m \u001b[39m# for fitting the trees is internally releasing the Python GIL\u001b[39;00m\n\u001b[0;32m    452\u001b[0m \u001b[39m# making threading more efficient than multiprocessing in\u001b[39;00m\n\u001b[0;32m    453\u001b[0m \u001b[39m# that case. However, for joblib 0.12+ we respect any\u001b[39;00m\n\u001b[0;32m    454\u001b[0m \u001b[39m# parallel_backend contexts set at a higher level,\u001b[39;00m\n\u001b[0;32m    455\u001b[0m \u001b[39m# since correctness does not rely on using threads.\u001b[39;00m\n\u001b[1;32m--> 456\u001b[0m trees \u001b[39m=\u001b[39m Parallel(\n\u001b[0;32m    457\u001b[0m     n_jobs\u001b[39m=\u001b[39;49m\u001b[39mself\u001b[39;49m\u001b[39m.\u001b[39;49mn_jobs,\n\u001b[0;32m    458\u001b[0m     verbose\u001b[39m=\u001b[39;49m\u001b[39mself\u001b[39;49m\u001b[39m.\u001b[39;49mverbose,\n\u001b[0;32m    459\u001b[0m     prefer\u001b[39m=\u001b[39;49m\u001b[39m\"\u001b[39;49m\u001b[39mthreads\u001b[39;49m\u001b[39m\"\u001b[39;49m,\n\u001b[0;32m    460\u001b[0m )(\n\u001b[0;32m    461\u001b[0m     delayed(_parallel_build_trees)(\n\u001b[0;32m    462\u001b[0m         t,\n\u001b[0;32m    463\u001b[0m         \u001b[39mself\u001b[39;49m\u001b[39m.\u001b[39;49mbootstrap,\n\u001b[0;32m    464\u001b[0m         X,\n\u001b[0;32m    465\u001b[0m         y,\n\u001b[0;32m    466\u001b[0m         sample_weight,\n\u001b[0;32m    467\u001b[0m         i,\n\u001b[0;32m    468\u001b[0m         \u001b[39mlen\u001b[39;49m(trees),\n\u001b[0;32m    469\u001b[0m         verbose\u001b[39m=\u001b[39;49m\u001b[39mself\u001b[39;49m\u001b[39m.\u001b[39;49mverbose,\n\u001b[0;32m    470\u001b[0m         class_weight\u001b[39m=\u001b[39;49m\u001b[39mself\u001b[39;49m\u001b[39m.\u001b[39;49mclass_weight,\n\u001b[0;32m    471\u001b[0m         n_samples_bootstrap\u001b[39m=\u001b[39;49mn_samples_bootstrap,\n\u001b[0;32m    472\u001b[0m     )\n\u001b[0;32m    473\u001b[0m     \u001b[39mfor\u001b[39;49;00m i, t \u001b[39min\u001b[39;49;00m \u001b[39menumerate\u001b[39;49m(trees)\n\u001b[0;32m    474\u001b[0m )\n\u001b[0;32m    476\u001b[0m \u001b[39m# Collect newly grown trees\u001b[39;00m\n\u001b[0;32m    477\u001b[0m \u001b[39mself\u001b[39m\u001b[39m.\u001b[39mestimators_\u001b[39m.\u001b[39mextend(trees)\n",
						"File \u001b[1;32mc:\\Users\\Inteli\\AppData\\Local\\Programs\\Python\\Python311\\Lib\\site-packages\\sklearn\\utils\\parallel.py:65\u001b[0m, in \u001b[0;36mParallel.__call__\u001b[1;34m(self, iterable)\u001b[0m\n\u001b[0;32m     60\u001b[0m config \u001b[39m=\u001b[39m get_config()\n\u001b[0;32m     61\u001b[0m iterable_with_config \u001b[39m=\u001b[39m (\n\u001b[0;32m     62\u001b[0m     (_with_config(delayed_func, config), args, kwargs)\n\u001b[0;32m     63\u001b[0m     \u001b[39mfor\u001b[39;00m delayed_func, args, kwargs \u001b[39min\u001b[39;00m iterable\n\u001b[0;32m     64\u001b[0m )\n\u001b[1;32m---> 65\u001b[0m \u001b[39mreturn\u001b[39;00m \u001b[39msuper\u001b[39;49m()\u001b[39m.\u001b[39;49m\u001b[39m__call__\u001b[39;49m(iterable_with_config)\n",
						"File \u001b[1;32mc:\\Users\\Inteli\\AppData\\Local\\Programs\\Python\\Python311\\Lib\\site-packages\\joblib\\parallel.py:1863\u001b[0m, in \u001b[0;36mParallel.__call__\u001b[1;34m(self, iterable)\u001b[0m\n\u001b[0;32m   1861\u001b[0m     output \u001b[39m=\u001b[39m \u001b[39mself\u001b[39m\u001b[39m.\u001b[39m_get_sequential_output(iterable)\n\u001b[0;32m   1862\u001b[0m     \u001b[39mnext\u001b[39m(output)\n\u001b[1;32m-> 1863\u001b[0m     \u001b[39mreturn\u001b[39;00m output \u001b[39mif\u001b[39;00m \u001b[39mself\u001b[39m\u001b[39m.\u001b[39mreturn_generator \u001b[39melse\u001b[39;00m \u001b[39mlist\u001b[39;49m(output)\n\u001b[0;32m   1865\u001b[0m \u001b[39m# Let's create an ID that uniquely identifies the current call. If the\u001b[39;00m\n\u001b[0;32m   1866\u001b[0m \u001b[39m# call is interrupted early and that the same instance is immediately\u001b[39;00m\n\u001b[0;32m   1867\u001b[0m \u001b[39m# re-used, this id will be used to prevent workers that were\u001b[39;00m\n\u001b[0;32m   1868\u001b[0m \u001b[39m# concurrently finalizing a task from the previous call to run the\u001b[39;00m\n\u001b[0;32m   1869\u001b[0m \u001b[39m# callback.\u001b[39;00m\n\u001b[0;32m   1870\u001b[0m \u001b[39mwith\u001b[39;00m \u001b[39mself\u001b[39m\u001b[39m.\u001b[39m_lock:\n",
						"File \u001b[1;32mc:\\Users\\Inteli\\AppData\\Local\\Programs\\Python\\Python311\\Lib\\site-packages\\joblib\\parallel.py:1792\u001b[0m, in \u001b[0;36mParallel._get_sequential_output\u001b[1;34m(self, iterable)\u001b[0m\n\u001b[0;32m   1790\u001b[0m \u001b[39mself\u001b[39m\u001b[39m.\u001b[39mn_dispatched_batches \u001b[39m+\u001b[39m\u001b[39m=\u001b[39m \u001b[39m1\u001b[39m\n\u001b[0;32m   1791\u001b[0m \u001b[39mself\u001b[39m\u001b[39m.\u001b[39mn_dispatched_tasks \u001b[39m+\u001b[39m\u001b[39m=\u001b[39m \u001b[39m1\u001b[39m\n\u001b[1;32m-> 1792\u001b[0m res \u001b[39m=\u001b[39m func(\u001b[39m*\u001b[39;49margs, \u001b[39m*\u001b[39;49m\u001b[39m*\u001b[39;49mkwargs)\n\u001b[0;32m   1793\u001b[0m \u001b[39mself\u001b[39m\u001b[39m.\u001b[39mn_completed_tasks \u001b[39m+\u001b[39m\u001b[39m=\u001b[39m \u001b[39m1\u001b[39m\n\u001b[0;32m   1794\u001b[0m \u001b[39mself\u001b[39m\u001b[39m.\u001b[39mprint_progress()\n",
						"File \u001b[1;32mc:\\Users\\Inteli\\AppData\\Local\\Programs\\Python\\Python311\\Lib\\site-packages\\sklearn\\utils\\parallel.py:127\u001b[0m, in \u001b[0;36m_FuncWrapper.__call__\u001b[1;34m(self, *args, **kwargs)\u001b[0m\n\u001b[0;32m    125\u001b[0m     config \u001b[39m=\u001b[39m {}\n\u001b[0;32m    126\u001b[0m \u001b[39mwith\u001b[39;00m config_context(\u001b[39m*\u001b[39m\u001b[39m*\u001b[39mconfig):\n\u001b[1;32m--> 127\u001b[0m     \u001b[39mreturn\u001b[39;00m \u001b[39mself\u001b[39;49m\u001b[39m.\u001b[39;49mfunction(\u001b[39m*\u001b[39;49margs, \u001b[39m*\u001b[39;49m\u001b[39m*\u001b[39;49mkwargs)\n",
						"File \u001b[1;32mc:\\Users\\Inteli\\AppData\\Local\\Programs\\Python\\Python311\\Lib\\site-packages\\sklearn\\ensemble\\_forest.py:188\u001b[0m, in \u001b[0;36m_parallel_build_trees\u001b[1;34m(tree, bootstrap, X, y, sample_weight, tree_idx, n_trees, verbose, class_weight, n_samples_bootstrap)\u001b[0m\n\u001b[0;32m    185\u001b[0m     \u001b[39melif\u001b[39;00m class_weight \u001b[39m==\u001b[39m \u001b[39m\"\u001b[39m\u001b[39mbalanced_subsample\u001b[39m\u001b[39m\"\u001b[39m:\n\u001b[0;32m    186\u001b[0m         curr_sample_weight \u001b[39m*\u001b[39m\u001b[39m=\u001b[39m compute_sample_weight(\u001b[39m\"\u001b[39m\u001b[39mbalanced\u001b[39m\u001b[39m\"\u001b[39m, y, indices\u001b[39m=\u001b[39mindices)\n\u001b[1;32m--> 188\u001b[0m     tree\u001b[39m.\u001b[39;49mfit(X, y, sample_weight\u001b[39m=\u001b[39;49mcurr_sample_weight, check_input\u001b[39m=\u001b[39;49m\u001b[39mFalse\u001b[39;49;00m)\n\u001b[0;32m    189\u001b[0m \u001b[39melse\u001b[39;00m:\n\u001b[0;32m    190\u001b[0m     tree\u001b[39m.\u001b[39mfit(X, y, sample_weight\u001b[39m=\u001b[39msample_weight, check_input\u001b[39m=\u001b[39m\u001b[39mFalse\u001b[39;00m)\n",
						"File \u001b[1;32mc:\\Users\\Inteli\\AppData\\Local\\Programs\\Python\\Python311\\Lib\\site-packages\\sklearn\\base.py:1152\u001b[0m, in \u001b[0;36m_fit_context.<locals>.decorator.<locals>.wrapper\u001b[1;34m(estimator, *args, **kwargs)\u001b[0m\n\u001b[0;32m   1145\u001b[0m     estimator\u001b[39m.\u001b[39m_validate_params()\n\u001b[0;32m   1147\u001b[0m \u001b[39mwith\u001b[39;00m config_context(\n\u001b[0;32m   1148\u001b[0m     skip_parameter_validation\u001b[39m=\u001b[39m(\n\u001b[0;32m   1149\u001b[0m         prefer_skip_nested_validation \u001b[39mor\u001b[39;00m global_skip_validation\n\u001b[0;32m   1150\u001b[0m     )\n\u001b[0;32m   1151\u001b[0m ):\n\u001b[1;32m-> 1152\u001b[0m     \u001b[39mreturn\u001b[39;00m fit_method(estimator, \u001b[39m*\u001b[39;49margs, \u001b[39m*\u001b[39;49m\u001b[39m*\u001b[39;49mkwargs)\n",
						"File \u001b[1;32mc:\\Users\\Inteli\\AppData\\Local\\Programs\\Python\\Python311\\Lib\\site-packages\\sklearn\\tree\\_classes.py:1320\u001b[0m, in \u001b[0;36mDecisionTreeRegressor.fit\u001b[1;34m(self, X, y, sample_weight, check_input)\u001b[0m\n\u001b[0;32m   1290\u001b[0m \u001b[39m@_fit_context\u001b[39m(prefer_skip_nested_validation\u001b[39m=\u001b[39m\u001b[39mTrue\u001b[39;00m)\n\u001b[0;32m   1291\u001b[0m \u001b[39mdef\u001b[39;00m \u001b[39mfit\u001b[39m(\u001b[39mself\u001b[39m, X, y, sample_weight\u001b[39m=\u001b[39m\u001b[39mNone\u001b[39;00m, check_input\u001b[39m=\u001b[39m\u001b[39mTrue\u001b[39;00m):\n\u001b[0;32m   1292\u001b[0m \u001b[39m    \u001b[39m\u001b[39m\"\"\"Build a decision tree regressor from the training set (X, y).\u001b[39;00m\n\u001b[0;32m   1293\u001b[0m \n\u001b[0;32m   1294\u001b[0m \u001b[39m    Parameters\u001b[39;00m\n\u001b[1;32m   (...)\u001b[0m\n\u001b[0;32m   1317\u001b[0m \u001b[39m        Fitted estimator.\u001b[39;00m\n\u001b[0;32m   1318\u001b[0m \u001b[39m    \"\"\"\u001b[39;00m\n\u001b[1;32m-> 1320\u001b[0m     \u001b[39msuper\u001b[39;49m()\u001b[39m.\u001b[39;49m_fit(\n\u001b[0;32m   1321\u001b[0m         X,\n\u001b[0;32m   1322\u001b[0m         y,\n\u001b[0;32m   1323\u001b[0m         sample_weight\u001b[39m=\u001b[39;49msample_weight,\n\u001b[0;32m   1324\u001b[0m         check_input\u001b[39m=\u001b[39;49mcheck_input,\n\u001b[0;32m   1325\u001b[0m     )\n\u001b[0;32m   1326\u001b[0m     \u001b[39mreturn\u001b[39;00m \u001b[39mself\u001b[39m\n",
						"File \u001b[1;32mc:\\Users\\Inteli\\AppData\\Local\\Programs\\Python\\Python311\\Lib\\site-packages\\sklearn\\tree\\_classes.py:443\u001b[0m, in \u001b[0;36mBaseDecisionTree._fit\u001b[1;34m(self, X, y, sample_weight, check_input, missing_values_in_feature_mask)\u001b[0m\n\u001b[0;32m    432\u001b[0m \u001b[39melse\u001b[39;00m:\n\u001b[0;32m    433\u001b[0m     builder \u001b[39m=\u001b[39m BestFirstTreeBuilder(\n\u001b[0;32m    434\u001b[0m         splitter,\n\u001b[0;32m    435\u001b[0m         min_samples_split,\n\u001b[1;32m   (...)\u001b[0m\n\u001b[0;32m    440\u001b[0m         \u001b[39mself\u001b[39m\u001b[39m.\u001b[39mmin_impurity_decrease,\n\u001b[0;32m    441\u001b[0m     )\n\u001b[1;32m--> 443\u001b[0m builder\u001b[39m.\u001b[39;49mbuild(\u001b[39mself\u001b[39;49m\u001b[39m.\u001b[39;49mtree_, X, y, sample_weight, missing_values_in_feature_mask)\n\u001b[0;32m    445\u001b[0m \u001b[39mif\u001b[39;00m \u001b[39mself\u001b[39m\u001b[39m.\u001b[39mn_outputs_ \u001b[39m==\u001b[39m \u001b[39m1\u001b[39m \u001b[39mand\u001b[39;00m is_classifier(\u001b[39mself\u001b[39m):\n\u001b[0;32m    446\u001b[0m     \u001b[39mself\u001b[39m\u001b[39m.\u001b[39mn_classes_ \u001b[39m=\u001b[39m \u001b[39mself\u001b[39m\u001b[39m.\u001b[39mn_classes_[\u001b[39m0\u001b[39m]\n",
						"\u001b[1;31mKeyboardInterrupt\u001b[0m: "
					]
				}
			],
			"source": [
				"# Evoca o algoritmo Random Forest de regressão\n",
				"random_forest = RandomForestRegressor(n_estimators=100, random_state=42)\n",
				"\n",
				"# Treina o modelo\n",
				"random_forest.fit(X_train, y_train)"
			]
		},
		{
			"cell_type": "markdown",
			"metadata": {},
			"source": [
				"##### Teste"
			]
		},
		{
			"cell_type": "code",
			"execution_count": null,
			"metadata": {},
			"outputs": [
				{
					"name": "stdout",
					"output_type": "stream",
					"text": [
						"Mean Squared Error (MSE): 8.976582963363061\n",
						"Mean Absolute Error (MAE): 1.4803253981846207\n",
						"Root Mean Squared Error (RMSE): 2.996094618559811\n",
						"R-squared (R²): 0.722029330887925\n"
					]
				}
			],
			"source": [
				"# Realiza as previsões no conjunto de teste\n",
				"y_pred = random_forest.predict(X_test)\n",
				"\n",
				"# Calcula as métricas de avaliação\n",
				"mse = mean_squared_error(y_test, y_pred)\n",
				"mae = mean_absolute_error(y_test, y_pred)\n",
				"rmse = sqrt(mse)\n",
				"r2 = r2_score(y_test, y_pred)\n",
				"\n",
				"# Imprime as métricas\n",
				"print(\"Mean Squared Error (MSE):\", mse)\n",
				"print(\"Mean Absolute Error (MAE):\", mae)\n",
				"print(\"Root Mean Squared Error (RMSE):\", rmse)\n",
				"print(\"R-squared (R²):\", r2)"
			]
		},
		{
			"cell_type": "markdown",
			"metadata": {},
			"source": [
				"Aqui foi feito um agrupamento semanal dos dias e devolve a previsão da quantidade de venda de cada sku na semana desejada, além de uma soma total de todas as vendas da semana."
			]
		},
		{
			"cell_type": "code",
			"execution_count": null,
			"metadata": {},
			"outputs": [
				{
					"name": "stdout",
					"output_type": "stream",
					"text": [
						"Previsão de vendas por SKU:\n",
						"Empty DataFrame\n",
						"Columns: [sku, items_sold]\n",
						"Index: []\n",
						"Soma de todos os itens vendidos na semana que inclui 25/11/2023: 0\n"
					]
				}
			],
			"source": [
				"# Cria uma coluna que representa a data completa das vendas de cada SKU\n",
				"df['date'] = pd.to_datetime(df[['year', 'month', 'day']])\n",
				"\n",
				"# Crie uma coluna que representa a semana para cada data\n",
				"df['week'] = df['date'].dt.strftime('%U')\n",
				"\n",
				"# Define uma função que prevê as vendas para uma data específica\n",
				"def forecast__sales_to_date(df, day, month, year):\n",
				"    date_input = pd.to_datetime(f\"{year}-{month}-{day}\")\n",
				"    week_input = date_input.strftime('%U')\n",
				"    \n",
				"    # Filtra o DataFrame para a semana correspondente à data de entrada\n",
				"    week_data = df[df['week'] == week_input]\n",
				"    \n",
				"    # Calcula a previsão das vendas para a semana separada por SKU\n",
				"    sales_forecast = week_data.groupby('sku')['items_sold'].mean().reset_index()\n",
				"    \n",
				"    # Calcula a soma de todos os itens vendidos na semana\n",
				"    week_sum = week_data['items_sold'].sum()\n",
				"    \n",
				"    return sales_forecast, week_sum\n",
				"\n",
				"# Exemplifica o uso da função para prever vendas para uma data específica (por exemplo, 10 de setembro de 2023)\n",
				"day_input = 25\n",
				"month_input = 11\n",
				"year_input = 2023\n",
				"forecast, week_sum = forecast__sales_to_date(df, day_input, month_input, year_input)\n",
				"\n",
				"# Exibe os resultados \n",
				"print(\"Previsão de vendas por SKU:\")\n",
				"print(forecast)\n",
				"print(f\"Soma de todos os itens vendidos na semana que inclui {day_input}/{month_input}/{year_input}: {week_sum}\")"
			]
		},
		{
			"cell_type": "markdown",
			"metadata": {},
			"source": [
				"### Regressão Linear"
			]
		},
		{
			"cell_type": "markdown",
			"metadata": {},
			"source": [
				"Outro modelo que o grupo optou por testar foi o de Regressão Linear. Esse algoritmo é também uma técnica estatística fundamental no campo da análise de dados e aprendizado de máquina. Ela é usada para modelar a relação entre uma variável dependente (rótulo) e uma ou mais variáveis independentes (características) por meio de uma equação linear. O objetivo da regressão linear é encontrar a linha reta que melhor se ajusta aos dados, permitindo fazer previsões ou inferências sobre os valores da variável dependente com base nas variáveis independentes. É uma abordagem simples e interpretável para a modelagem de relacionamentos lineares entre variáveis e é amplamente aplicada em diversos domínios, incluindo economia, ciências sociais, ciência dos dados e engenharia.\n",
				"\n",
				"Entretanto, a regressão linear possui limitações importantes. A principal delas é a suposição de uma relação estritamente linear entre as variáveis. Isso implica que o modelo presume que as mudanças nas variáveis independentes têm um efeito linear nas mudanças na variável dependente. Quando essa suposição não se aplica, a regressão linear torna-se inadequada. Se, por exemplo, a relação entre as variáveis for curvilínea ou não linear, a regressão linear não será capaz de captar essa complexidade. Além disso, essa abordagem não lida bem com relações não lineares entre variáveis.\n"
			]
		},
		{
			"cell_type": "code",
			"execution_count": 10,
			"metadata": {},
			"outputs": [],
			"source": [
				"# Cópia do dataframe original\n",
				"df_rl = df.copy()\n",
				"\n",
				"# Exclui a coluna de date criada anteriormente, uma vez que o modelo não permite a coluna de data\n",
				"df_rl = df_rl.drop([\"date\", \"log_unit_price\", \"log_avg_website_visits_last_week\", \"log_revenue\", \"log_stock\", \"log_items_sold\", \"winning_price\", \n",
				"              \"sku\", \"sku_color\", \"process_costing\", \"origin_country\", \"product_category\", \"product_department\", \n",
				"              \"anchor_category\", \"shipment_type\", \"weekday_name\", \"price_status\", \"month\", \"revenue\"], axis =1)\n",
				"\n",
				"# Divide os dados em conjuntos de treinamento e teste\n",
				"X = df_rl.drop('items_sold', axis=1)\n",
				"y = df_rl['items_sold']\n",
				"X_train, X_test, y_train, y_test = train_test_split(X, y, test_size=0.2, random_state=42)\n"
			]
		},
		{
			"cell_type": "code",
			"execution_count": 11,
			"metadata": {},
			"outputs": [
				{
					"data": {
						"text/html": [
							"<div>\n",
							"<style scoped>\n",
							"    .dataframe tbody tr th:only-of-type {\n",
							"        vertical-align: middle;\n",
							"    }\n",
							"\n",
							"    .dataframe tbody tr th {\n",
							"        vertical-align: top;\n",
							"    }\n",
							"\n",
							"    .dataframe thead th {\n",
							"        text-align: right;\n",
							"    }\n",
							"</style>\n",
							"<table border=\"1\" class=\"dataframe\">\n",
							"  <thead>\n",
							"    <tr style=\"text-align: right;\">\n",
							"      <th></th>\n",
							"      <th>date</th>\n",
							"      <th>weekday_name</th>\n",
							"      <th>sku</th>\n",
							"      <th>unit_price</th>\n",
							"      <th>shipment_type</th>\n",
							"      <th>anchor_category</th>\n",
							"      <th>product_department</th>\n",
							"      <th>product_category</th>\n",
							"      <th>origin_country</th>\n",
							"      <th>process_costing</th>\n",
							"      <th>...</th>\n",
							"      <th>log_avg_website_visits_last_week</th>\n",
							"      <th>month</th>\n",
							"      <th>day</th>\n",
							"      <th>year</th>\n",
							"      <th>log_unit_price</th>\n",
							"      <th>log_revenue</th>\n",
							"      <th>log_stock</th>\n",
							"      <th>log_items_sold</th>\n",
							"      <th>value_dollar</th>\n",
							"      <th>rate_employability</th>\n",
							"    </tr>\n",
							"  </thead>\n",
							"  <tbody>\n",
							"    <tr>\n",
							"      <th>0</th>\n",
							"      <td>2020-01-01</td>\n",
							"      <td>6</td>\n",
							"      <td>549</td>\n",
							"      <td>1099.99</td>\n",
							"      <td>0</td>\n",
							"      <td>24</td>\n",
							"      <td>3</td>\n",
							"      <td>11</td>\n",
							"      <td>0</td>\n",
							"      <td>0</td>\n",
							"      <td>...</td>\n",
							"      <td>2.906120</td>\n",
							"      <td>1</td>\n",
							"      <td>1</td>\n",
							"      <td>2020</td>\n",
							"      <td>7.003965</td>\n",
							"      <td>0.000000</td>\n",
							"      <td>0.000000</td>\n",
							"      <td>0.000000</td>\n",
							"      <td>4.0949</td>\n",
							"      <td>12.4</td>\n",
							"    </tr>\n",
							"    <tr>\n",
							"      <th>1</th>\n",
							"      <td>2020-01-01</td>\n",
							"      <td>6</td>\n",
							"      <td>669</td>\n",
							"      <td>413.99</td>\n",
							"      <td>0</td>\n",
							"      <td>13</td>\n",
							"      <td>4</td>\n",
							"      <td>9</td>\n",
							"      <td>0</td>\n",
							"      <td>1</td>\n",
							"      <td>...</td>\n",
							"      <td>3.909162</td>\n",
							"      <td>1</td>\n",
							"      <td>1</td>\n",
							"      <td>2020</td>\n",
							"      <td>6.028254</td>\n",
							"      <td>0.000000</td>\n",
							"      <td>4.043051</td>\n",
							"      <td>0.000000</td>\n",
							"      <td>4.0949</td>\n",
							"      <td>12.4</td>\n",
							"    </tr>\n",
							"    <tr>\n",
							"      <th>2</th>\n",
							"      <td>2020-01-01</td>\n",
							"      <td>6</td>\n",
							"      <td>745</td>\n",
							"      <td>949.99</td>\n",
							"      <td>0</td>\n",
							"      <td>10</td>\n",
							"      <td>4</td>\n",
							"      <td>12</td>\n",
							"      <td>0</td>\n",
							"      <td>1</td>\n",
							"      <td>...</td>\n",
							"      <td>3.166078</td>\n",
							"      <td>1</td>\n",
							"      <td>1</td>\n",
							"      <td>2020</td>\n",
							"      <td>6.857504</td>\n",
							"      <td>6.889612</td>\n",
							"      <td>0.000000</td>\n",
							"      <td>0.693147</td>\n",
							"      <td>4.0949</td>\n",
							"      <td>12.4</td>\n",
							"    </tr>\n",
							"    <tr>\n",
							"      <th>3</th>\n",
							"      <td>2020-01-01</td>\n",
							"      <td>6</td>\n",
							"      <td>129</td>\n",
							"      <td>2949.99</td>\n",
							"      <td>0</td>\n",
							"      <td>24</td>\n",
							"      <td>4</td>\n",
							"      <td>11</td>\n",
							"      <td>0</td>\n",
							"      <td>1</td>\n",
							"      <td>...</td>\n",
							"      <td>1.335001</td>\n",
							"      <td>1</td>\n",
							"      <td>1</td>\n",
							"      <td>2020</td>\n",
							"      <td>7.989896</td>\n",
							"      <td>0.000000</td>\n",
							"      <td>0.000000</td>\n",
							"      <td>0.000000</td>\n",
							"      <td>4.0949</td>\n",
							"      <td>12.4</td>\n",
							"    </tr>\n",
							"    <tr>\n",
							"      <th>4</th>\n",
							"      <td>2020-01-01</td>\n",
							"      <td>6</td>\n",
							"      <td>697</td>\n",
							"      <td>657.99</td>\n",
							"      <td>0</td>\n",
							"      <td>17</td>\n",
							"      <td>4</td>\n",
							"      <td>9</td>\n",
							"      <td>0</td>\n",
							"      <td>1</td>\n",
							"      <td>...</td>\n",
							"      <td>0.000000</td>\n",
							"      <td>1</td>\n",
							"      <td>1</td>\n",
							"      <td>2020</td>\n",
							"      <td>6.490708</td>\n",
							"      <td>0.000000</td>\n",
							"      <td>0.000000</td>\n",
							"      <td>0.000000</td>\n",
							"      <td>4.0949</td>\n",
							"      <td>12.4</td>\n",
							"    </tr>\n",
							"    <tr>\n",
							"      <th>...</th>\n",
							"      <td>...</td>\n",
							"      <td>...</td>\n",
							"      <td>...</td>\n",
							"      <td>...</td>\n",
							"      <td>...</td>\n",
							"      <td>...</td>\n",
							"      <td>...</td>\n",
							"      <td>...</td>\n",
							"      <td>...</td>\n",
							"      <td>...</td>\n",
							"      <td>...</td>\n",
							"      <td>...</td>\n",
							"      <td>...</td>\n",
							"      <td>...</td>\n",
							"      <td>...</td>\n",
							"      <td>...</td>\n",
							"      <td>...</td>\n",
							"      <td>...</td>\n",
							"      <td>...</td>\n",
							"      <td>...</td>\n",
							"      <td>...</td>\n",
							"    </tr>\n",
							"    <tr>\n",
							"      <th>780105</th>\n",
							"      <td>2023-07-03</td>\n",
							"      <td>1</td>\n",
							"      <td>48</td>\n",
							"      <td>504.88</td>\n",
							"      <td>0</td>\n",
							"      <td>2</td>\n",
							"      <td>4</td>\n",
							"      <td>9</td>\n",
							"      <td>0</td>\n",
							"      <td>1</td>\n",
							"      <td>...</td>\n",
							"      <td>3.737670</td>\n",
							"      <td>7</td>\n",
							"      <td>3</td>\n",
							"      <td>2023</td>\n",
							"      <td>6.226299</td>\n",
							"      <td>0.000000</td>\n",
							"      <td>4.127134</td>\n",
							"      <td>0.000000</td>\n",
							"      <td>4.8222</td>\n",
							"      <td>8.0</td>\n",
							"    </tr>\n",
							"    <tr>\n",
							"      <th>780106</th>\n",
							"      <td>2023-07-03</td>\n",
							"      <td>1</td>\n",
							"      <td>182</td>\n",
							"      <td>1717.95</td>\n",
							"      <td>0</td>\n",
							"      <td>23</td>\n",
							"      <td>4</td>\n",
							"      <td>11</td>\n",
							"      <td>0</td>\n",
							"      <td>1</td>\n",
							"      <td>...</td>\n",
							"      <td>5.044346</td>\n",
							"      <td>7</td>\n",
							"      <td>3</td>\n",
							"      <td>2023</td>\n",
							"      <td>7.449469</td>\n",
							"      <td>0.000000</td>\n",
							"      <td>0.693147</td>\n",
							"      <td>0.000000</td>\n",
							"      <td>4.8222</td>\n",
							"      <td>8.0</td>\n",
							"    </tr>\n",
							"    <tr>\n",
							"      <th>780107</th>\n",
							"      <td>2023-07-03</td>\n",
							"      <td>1</td>\n",
							"      <td>109</td>\n",
							"      <td>1659.88</td>\n",
							"      <td>0</td>\n",
							"      <td>5</td>\n",
							"      <td>4</td>\n",
							"      <td>9</td>\n",
							"      <td>0</td>\n",
							"      <td>1</td>\n",
							"      <td>...</td>\n",
							"      <td>4.934474</td>\n",
							"      <td>7</td>\n",
							"      <td>3</td>\n",
							"      <td>2023</td>\n",
							"      <td>7.415103</td>\n",
							"      <td>0.000000</td>\n",
							"      <td>2.833213</td>\n",
							"      <td>0.000000</td>\n",
							"      <td>4.8222</td>\n",
							"      <td>8.0</td>\n",
							"    </tr>\n",
							"    <tr>\n",
							"      <th>780108</th>\n",
							"      <td>2023-07-03</td>\n",
							"      <td>1</td>\n",
							"      <td>184</td>\n",
							"      <td>909.96</td>\n",
							"      <td>0</td>\n",
							"      <td>9</td>\n",
							"      <td>4</td>\n",
							"      <td>12</td>\n",
							"      <td>0</td>\n",
							"      <td>1</td>\n",
							"      <td>...</td>\n",
							"      <td>3.517922</td>\n",
							"      <td>7</td>\n",
							"      <td>3</td>\n",
							"      <td>2023</td>\n",
							"      <td>6.814499</td>\n",
							"      <td>0.000000</td>\n",
							"      <td>3.044522</td>\n",
							"      <td>0.000000</td>\n",
							"      <td>4.8222</td>\n",
							"      <td>8.0</td>\n",
							"    </tr>\n",
							"    <tr>\n",
							"      <th>780109</th>\n",
							"      <td>2023-07-03</td>\n",
							"      <td>1</td>\n",
							"      <td>446</td>\n",
							"      <td>619.98</td>\n",
							"      <td>1</td>\n",
							"      <td>1</td>\n",
							"      <td>3</td>\n",
							"      <td>12</td>\n",
							"      <td>1</td>\n",
							"      <td>1</td>\n",
							"      <td>...</td>\n",
							"      <td>2.995732</td>\n",
							"      <td>7</td>\n",
							"      <td>3</td>\n",
							"      <td>2023</td>\n",
							"      <td>6.431299</td>\n",
							"      <td>0.000000</td>\n",
							"      <td>4.919981</td>\n",
							"      <td>0.000000</td>\n",
							"      <td>4.8222</td>\n",
							"      <td>8.0</td>\n",
							"    </tr>\n",
							"  </tbody>\n",
							"</table>\n",
							"<p>780110 rows × 27 columns</p>\n",
							"</div>"
						],
						"text/plain": [
							"             date  weekday_name  sku  unit_price  shipment_type  \\\n",
							"0      2020-01-01             6  549     1099.99              0   \n",
							"1      2020-01-01             6  669      413.99              0   \n",
							"2      2020-01-01             6  745      949.99              0   \n",
							"3      2020-01-01             6  129     2949.99              0   \n",
							"4      2020-01-01             6  697      657.99              0   \n",
							"...           ...           ...  ...         ...            ...   \n",
							"780105 2023-07-03             1   48      504.88              0   \n",
							"780106 2023-07-03             1  182     1717.95              0   \n",
							"780107 2023-07-03             1  109     1659.88              0   \n",
							"780108 2023-07-03             1  184      909.96              0   \n",
							"780109 2023-07-03             1  446      619.98              1   \n",
							"\n",
							"        anchor_category  product_department  product_category  origin_country  \\\n",
							"0                    24                   3                11               0   \n",
							"1                    13                   4                 9               0   \n",
							"2                    10                   4                12               0   \n",
							"3                    24                   4                11               0   \n",
							"4                    17                   4                 9               0   \n",
							"...                 ...                 ...               ...             ...   \n",
							"780105                2                   4                 9               0   \n",
							"780106               23                   4                11               0   \n",
							"780107                5                   4                 9               0   \n",
							"780108                9                   4                12               0   \n",
							"780109                1                   3                12               1   \n",
							"\n",
							"        process_costing  ...  log_avg_website_visits_last_week  month  day  \\\n",
							"0                     0  ...                          2.906120      1    1   \n",
							"1                     1  ...                          3.909162      1    1   \n",
							"2                     1  ...                          3.166078      1    1   \n",
							"3                     1  ...                          1.335001      1    1   \n",
							"4                     1  ...                          0.000000      1    1   \n",
							"...                 ...  ...                               ...    ...  ...   \n",
							"780105                1  ...                          3.737670      7    3   \n",
							"780106                1  ...                          5.044346      7    3   \n",
							"780107                1  ...                          4.934474      7    3   \n",
							"780108                1  ...                          3.517922      7    3   \n",
							"780109                1  ...                          2.995732      7    3   \n",
							"\n",
							"        year  log_unit_price  log_revenue  log_stock  log_items_sold  \\\n",
							"0       2020        7.003965     0.000000   0.000000        0.000000   \n",
							"1       2020        6.028254     0.000000   4.043051        0.000000   \n",
							"2       2020        6.857504     6.889612   0.000000        0.693147   \n",
							"3       2020        7.989896     0.000000   0.000000        0.000000   \n",
							"4       2020        6.490708     0.000000   0.000000        0.000000   \n",
							"...      ...             ...          ...        ...             ...   \n",
							"780105  2023        6.226299     0.000000   4.127134        0.000000   \n",
							"780106  2023        7.449469     0.000000   0.693147        0.000000   \n",
							"780107  2023        7.415103     0.000000   2.833213        0.000000   \n",
							"780108  2023        6.814499     0.000000   3.044522        0.000000   \n",
							"780109  2023        6.431299     0.000000   4.919981        0.000000   \n",
							"\n",
							"        value_dollar  rate_employability  \n",
							"0             4.0949                12.4  \n",
							"1             4.0949                12.4  \n",
							"2             4.0949                12.4  \n",
							"3             4.0949                12.4  \n",
							"4             4.0949                12.4  \n",
							"...              ...                 ...  \n",
							"780105        4.8222                 8.0  \n",
							"780106        4.8222                 8.0  \n",
							"780107        4.8222                 8.0  \n",
							"780108        4.8222                 8.0  \n",
							"780109        4.8222                 8.0  \n",
							"\n",
							"[780110 rows x 27 columns]"
						]
					},
					"execution_count": 11,
					"metadata": {},
					"output_type": "execute_result"
				}
			],
			"source": [
				"# Verificando o novo dataframe\n",
				"df"
			]
		},
		{
			"cell_type": "markdown",
			"metadata": {},
			"source": [
				"#### Normalização "
			]
		},
		{
			"cell_type": "code",
			"execution_count": 12,
			"metadata": {},
			"outputs": [],
			"source": [
				"# Normalização dos dados \n",
				"scaler = StandardScaler()\n",
				"X_train_scaled = scaler.fit_transform(X_train)\n",
				"X_test_scaled = scaler.transform(X_test)"
			]
		},
		{
			"cell_type": "markdown",
			"metadata": {},
			"source": [
				"#### Treinamento"
			]
		},
		{
			"cell_type": "code",
			"execution_count": 13,
			"metadata": {},
			"outputs": [
				{
					"data": {
						"text/html": [
							"<style>#sk-container-id-1 {color: black;}#sk-container-id-1 pre{padding: 0;}#sk-container-id-1 div.sk-toggleable {background-color: white;}#sk-container-id-1 label.sk-toggleable__label {cursor: pointer;display: block;width: 100%;margin-bottom: 0;padding: 0.3em;box-sizing: border-box;text-align: center;}#sk-container-id-1 label.sk-toggleable__label-arrow:before {content: \"▸\";float: left;margin-right: 0.25em;color: #696969;}#sk-container-id-1 label.sk-toggleable__label-arrow:hover:before {color: black;}#sk-container-id-1 div.sk-estimator:hover label.sk-toggleable__label-arrow:before {color: black;}#sk-container-id-1 div.sk-toggleable__content {max-height: 0;max-width: 0;overflow: hidden;text-align: left;background-color: #f0f8ff;}#sk-container-id-1 div.sk-toggleable__content pre {margin: 0.2em;color: black;border-radius: 0.25em;background-color: #f0f8ff;}#sk-container-id-1 input.sk-toggleable__control:checked~div.sk-toggleable__content {max-height: 200px;max-width: 100%;overflow: auto;}#sk-container-id-1 input.sk-toggleable__control:checked~label.sk-toggleable__label-arrow:before {content: \"▾\";}#sk-container-id-1 div.sk-estimator input.sk-toggleable__control:checked~label.sk-toggleable__label {background-color: #d4ebff;}#sk-container-id-1 div.sk-label input.sk-toggleable__control:checked~label.sk-toggleable__label {background-color: #d4ebff;}#sk-container-id-1 input.sk-hidden--visually {border: 0;clip: rect(1px 1px 1px 1px);clip: rect(1px, 1px, 1px, 1px);height: 1px;margin: -1px;overflow: hidden;padding: 0;position: absolute;width: 1px;}#sk-container-id-1 div.sk-estimator {font-family: monospace;background-color: #f0f8ff;border: 1px dotted black;border-radius: 0.25em;box-sizing: border-box;margin-bottom: 0.5em;}#sk-container-id-1 div.sk-estimator:hover {background-color: #d4ebff;}#sk-container-id-1 div.sk-parallel-item::after {content: \"\";width: 100%;border-bottom: 1px solid gray;flex-grow: 1;}#sk-container-id-1 div.sk-label:hover label.sk-toggleable__label {background-color: #d4ebff;}#sk-container-id-1 div.sk-serial::before {content: \"\";position: absolute;border-left: 1px solid gray;box-sizing: border-box;top: 0;bottom: 0;left: 50%;z-index: 0;}#sk-container-id-1 div.sk-serial {display: flex;flex-direction: column;align-items: center;background-color: white;padding-right: 0.2em;padding-left: 0.2em;position: relative;}#sk-container-id-1 div.sk-item {position: relative;z-index: 1;}#sk-container-id-1 div.sk-parallel {display: flex;align-items: stretch;justify-content: center;background-color: white;position: relative;}#sk-container-id-1 div.sk-item::before, #sk-container-id-1 div.sk-parallel-item::before {content: \"\";position: absolute;border-left: 1px solid gray;box-sizing: border-box;top: 0;bottom: 0;left: 50%;z-index: -1;}#sk-container-id-1 div.sk-parallel-item {display: flex;flex-direction: column;z-index: 1;position: relative;background-color: white;}#sk-container-id-1 div.sk-parallel-item:first-child::after {align-self: flex-end;width: 50%;}#sk-container-id-1 div.sk-parallel-item:last-child::after {align-self: flex-start;width: 50%;}#sk-container-id-1 div.sk-parallel-item:only-child::after {width: 0;}#sk-container-id-1 div.sk-dashed-wrapped {border: 1px dashed gray;margin: 0 0.4em 0.5em 0.4em;box-sizing: border-box;padding-bottom: 0.4em;background-color: white;}#sk-container-id-1 div.sk-label label {font-family: monospace;font-weight: bold;display: inline-block;line-height: 1.2em;}#sk-container-id-1 div.sk-label-container {text-align: center;}#sk-container-id-1 div.sk-container {/* jupyter's `normalize.less` sets `[hidden] { display: none; }` but bootstrap.min.css set `[hidden] { display: none !important; }` so we also need the `!important` here to be able to override the default hidden behavior on the sphinx rendered scikit-learn.org. See: https://github.com/scikit-learn/scikit-learn/issues/21755 */display: inline-block !important;position: relative;}#sk-container-id-1 div.sk-text-repr-fallback {display: none;}</style><div id=\"sk-container-id-1\" class=\"sk-top-container\"><div class=\"sk-text-repr-fallback\"><pre>LinearRegression()</pre><b>In a Jupyter environment, please rerun this cell to show the HTML representation or trust the notebook. <br />On GitHub, the HTML representation is unable to render, please try loading this page with nbviewer.org.</b></div><div class=\"sk-container\" hidden><div class=\"sk-item\"><div class=\"sk-estimator sk-toggleable\"><input class=\"sk-toggleable__control sk-hidden--visually\" id=\"sk-estimator-id-1\" type=\"checkbox\" checked><label for=\"sk-estimator-id-1\" class=\"sk-toggleable__label sk-toggleable__label-arrow\">LinearRegression</label><div class=\"sk-toggleable__content\"><pre>LinearRegression()</pre></div></div></div></div></div>"
						],
						"text/plain": [
							"LinearRegression()"
						]
					},
					"execution_count": 13,
					"metadata": {},
					"output_type": "execute_result"
				}
			],
			"source": [
				"# Evoca o algoritmo de Regressão Linear\n",
				"model = LinearRegression()\n",
				"\n",
				"# Treina o modelo\n",
				"model.fit(X_train_scaled, y_train)"
			]
		},
		{
			"cell_type": "markdown",
			"metadata": {},
			"source": [
				"#### Teste"
			]
		},
		{
			"cell_type": "code",
			"execution_count": 14,
			"metadata": {},
			"outputs": [
				{
					"name": "stdout",
					"output_type": "stream",
					"text": [
						"Mean Squared Error (MSE): 25.558232655093505\n",
						"Mean Absolute Error (MAE): 2.363514011260786\n",
						"Root Mean Squared Error (RMSE): 5.055515073174394\n",
						"R-squared (R²): 0.2988059265863108\n",
						" \n",
						"Mean Squared Error (MSE) - TREINO: 0.0\n",
						"Mean Absolute Error (MAE) - TREINO: 2.373108070404432\n",
						"Root Mean Squared Error (RMSE) - TREINO: 0.0\n",
						"R-squared (R²) - TREINO: 0.2938405522470582\n"
					]
				}
			],
			"source": [
				"# Realiza as previsões no conjunto de teste\n",
				"y_pred = model.predict(X_test_scaled)\n",
				"y_pred_train = model.predict(X_train_scaled)\n",
				"\n",
				"# Calcula as métricas de avaliação\n",
				"mse = mean_squared_error(y_test, y_pred)\n",
				"mae = mean_absolute_error(y_test, y_pred)\n",
				"rmse = sqrt(mse)\n",
				"r2 = r2_score(y_test, y_pred)\n",
				"\n",
				"\n",
				"mse_train = mean_squared_error(y_train, y_train)\n",
				"mae_train = mean_absolute_error(y_train, y_pred_train)\n",
				"rmse_train = sqrt(mse_train)\n",
				"r2_train = r2_score(y_train, y_pred_train)\n",
				"\n",
				"# Imprime as métricas\n",
				"print(\"Mean Squared Error (MSE):\", mse)\n",
				"print(\"Mean Absolute Error (MAE):\", mae)\n",
				"print(\"Root Mean Squared Error (RMSE):\", rmse)\n",
				"print(\"R-squared (R²):\", r2)\n",
				"print(\" \")\n",
				"print(\"Mean Squared Error (MSE) - TREINO:\", mse_train)\n",
				"print(\"Mean Absolute Error (MAE) - TREINO:\", mae_train)\n",
				"print(\"Root Mean Squared Error (RMSE) - TREINO:\", rmse_train)\n",
				"print(\"R-squared (R²) - TREINO:\", r2_train)"
			]
		},
		{
			"cell_type": "markdown",
			"metadata": {},
			"source": [
				"### Árvore de Decisão"
			]
		},
		{
			"cell_type": "markdown",
			"metadata": {},
			"source": [
				"A Árvore de Decisão funciona construindo uma estrutura de árvore na qual cada nó representa uma decisão baseada em uma característica (ou atributo) específica dos dados. A ideia principal por trás de uma árvore de decisão é dividir iterativamente o conjunto de dados em subconjuntos menores e mais homogêneos com base nas características, até que uma decisão final seja tomada. A segmentação que a Árvore faz, permite a captura de padrões e interações entre os preditores. Essa abordagem também lida bem com dados heterogêneos e pode acomodar variáveis categóricas. Apesar da sua aplicabilidade, a Árvore de decisão tem algumas limitações importantes a considerar. Uma das principais desvantagens é sua tendência ao overfitting, onde a árvore pode se adaptar muito aos dados de treinamento, prejudicando sua capacidade de generalização para novos dados. Além disso, essas árvores podem ser instáveis, resultando em diferentes estruturas com pequenas variações nos dados, o que pode ser problemático para a estabilidade do modelo, as árvores de decisão não extrapolam bem para fazer previsões fora do intervalo dos dados observados e podem ser sensíveis a desequilíbrios nos dados. Apesar das limitações, a Árvore de Decisão ainda é uma escolha versátil para a modelagem de regressão."
			]
		},
		{
			"cell_type": "markdown",
			"metadata": {},
			"source": [
				"#### Treinamento"
			]
		},
		{
			"cell_type": "code",
			"execution_count": 15,
			"metadata": {},
			"outputs": [
				{
					"data": {
						"text/html": [
							"<style>#sk-container-id-2 {color: black;}#sk-container-id-2 pre{padding: 0;}#sk-container-id-2 div.sk-toggleable {background-color: white;}#sk-container-id-2 label.sk-toggleable__label {cursor: pointer;display: block;width: 100%;margin-bottom: 0;padding: 0.3em;box-sizing: border-box;text-align: center;}#sk-container-id-2 label.sk-toggleable__label-arrow:before {content: \"▸\";float: left;margin-right: 0.25em;color: #696969;}#sk-container-id-2 label.sk-toggleable__label-arrow:hover:before {color: black;}#sk-container-id-2 div.sk-estimator:hover label.sk-toggleable__label-arrow:before {color: black;}#sk-container-id-2 div.sk-toggleable__content {max-height: 0;max-width: 0;overflow: hidden;text-align: left;background-color: #f0f8ff;}#sk-container-id-2 div.sk-toggleable__content pre {margin: 0.2em;color: black;border-radius: 0.25em;background-color: #f0f8ff;}#sk-container-id-2 input.sk-toggleable__control:checked~div.sk-toggleable__content {max-height: 200px;max-width: 100%;overflow: auto;}#sk-container-id-2 input.sk-toggleable__control:checked~label.sk-toggleable__label-arrow:before {content: \"▾\";}#sk-container-id-2 div.sk-estimator input.sk-toggleable__control:checked~label.sk-toggleable__label {background-color: #d4ebff;}#sk-container-id-2 div.sk-label input.sk-toggleable__control:checked~label.sk-toggleable__label {background-color: #d4ebff;}#sk-container-id-2 input.sk-hidden--visually {border: 0;clip: rect(1px 1px 1px 1px);clip: rect(1px, 1px, 1px, 1px);height: 1px;margin: -1px;overflow: hidden;padding: 0;position: absolute;width: 1px;}#sk-container-id-2 div.sk-estimator {font-family: monospace;background-color: #f0f8ff;border: 1px dotted black;border-radius: 0.25em;box-sizing: border-box;margin-bottom: 0.5em;}#sk-container-id-2 div.sk-estimator:hover {background-color: #d4ebff;}#sk-container-id-2 div.sk-parallel-item::after {content: \"\";width: 100%;border-bottom: 1px solid gray;flex-grow: 1;}#sk-container-id-2 div.sk-label:hover label.sk-toggleable__label {background-color: #d4ebff;}#sk-container-id-2 div.sk-serial::before {content: \"\";position: absolute;border-left: 1px solid gray;box-sizing: border-box;top: 0;bottom: 0;left: 50%;z-index: 0;}#sk-container-id-2 div.sk-serial {display: flex;flex-direction: column;align-items: center;background-color: white;padding-right: 0.2em;padding-left: 0.2em;position: relative;}#sk-container-id-2 div.sk-item {position: relative;z-index: 1;}#sk-container-id-2 div.sk-parallel {display: flex;align-items: stretch;justify-content: center;background-color: white;position: relative;}#sk-container-id-2 div.sk-item::before, #sk-container-id-2 div.sk-parallel-item::before {content: \"\";position: absolute;border-left: 1px solid gray;box-sizing: border-box;top: 0;bottom: 0;left: 50%;z-index: -1;}#sk-container-id-2 div.sk-parallel-item {display: flex;flex-direction: column;z-index: 1;position: relative;background-color: white;}#sk-container-id-2 div.sk-parallel-item:first-child::after {align-self: flex-end;width: 50%;}#sk-container-id-2 div.sk-parallel-item:last-child::after {align-self: flex-start;width: 50%;}#sk-container-id-2 div.sk-parallel-item:only-child::after {width: 0;}#sk-container-id-2 div.sk-dashed-wrapped {border: 1px dashed gray;margin: 0 0.4em 0.5em 0.4em;box-sizing: border-box;padding-bottom: 0.4em;background-color: white;}#sk-container-id-2 div.sk-label label {font-family: monospace;font-weight: bold;display: inline-block;line-height: 1.2em;}#sk-container-id-2 div.sk-label-container {text-align: center;}#sk-container-id-2 div.sk-container {/* jupyter's `normalize.less` sets `[hidden] { display: none; }` but bootstrap.min.css set `[hidden] { display: none !important; }` so we also need the `!important` here to be able to override the default hidden behavior on the sphinx rendered scikit-learn.org. See: https://github.com/scikit-learn/scikit-learn/issues/21755 */display: inline-block !important;position: relative;}#sk-container-id-2 div.sk-text-repr-fallback {display: none;}</style><div id=\"sk-container-id-2\" class=\"sk-top-container\"><div class=\"sk-text-repr-fallback\"><pre>DecisionTreeRegressor(max_depth=3)</pre><b>In a Jupyter environment, please rerun this cell to show the HTML representation or trust the notebook. <br />On GitHub, the HTML representation is unable to render, please try loading this page with nbviewer.org.</b></div><div class=\"sk-container\" hidden><div class=\"sk-item\"><div class=\"sk-estimator sk-toggleable\"><input class=\"sk-toggleable__control sk-hidden--visually\" id=\"sk-estimator-id-2\" type=\"checkbox\" checked><label for=\"sk-estimator-id-2\" class=\"sk-toggleable__label sk-toggleable__label-arrow\">DecisionTreeRegressor</label><div class=\"sk-toggleable__content\"><pre>DecisionTreeRegressor(max_depth=3)</pre></div></div></div></div></div>"
						],
						"text/plain": [
							"DecisionTreeRegressor(max_depth=3)"
						]
					},
					"execution_count": 15,
					"metadata": {},
					"output_type": "execute_result"
				}
			],
			"source": [
				"# Evoca o algoritmo de Árvore de Decisão\n",
				"tree_regressor = DecisionTreeRegressor(max_depth=3)\n",
				"# Treina o modelo\n",
				"tree_regressor.fit(X_train, y_train)"
			]
		},
		{
			"cell_type": "markdown",
			"metadata": {},
			"source": [
				"#### Testes"
			]
		},
		{
			"cell_type": "code",
			"execution_count": 16,
			"metadata": {},
			"outputs": [
				{
					"name": "stdout",
					"output_type": "stream",
					"text": [
						"Mean Squared Error (MSE): 26.63081900872144\n",
						"Mean Absolute Error (MAE): 2.3976261886782666\n",
						"Root Mean Squared Error (RMSE): 5.160505693119759\n",
						"R-squared (R²): 0.269379353765814\n"
					]
				}
			],
			"source": [
				"# Realiza as previsões no conjunto de teste\n",
				"y_pred = tree_regressor.predict(X_test)\n",
				"\n",
				"# Calcula as métricas de avaliação\n",
				"mse = mean_squared_error(y_test, y_pred)\n",
				"mae = mean_absolute_error(y_test, y_pred)\n",
				"rmse = sqrt(mse)\n",
				"r2 = r2_score(y_test, y_pred)\n",
				"\n",
				"# Imprime as métricas\n",
				"print(\"Mean Squared Error (MSE):\", mse)\n",
				"print(\"Mean Absolute Error (MAE):\", mae)\n",
				"print(\"Root Mean Squared Error (RMSE):\", rmse)\n",
				"print(\"R-squared (R²):\", r2)"
			]
		},
		{
			"cell_type": "markdown",
			"metadata": {},
			"source": [
				"### Prophet"
			]
		},
		{
			"cell_type": "markdown",
			"metadata": {},
			"source": [
				"A fim de explorar outros modelos de predição foi escolhido o Prophet, uma vez que é uma biblioteca de previsão de séries temporais desenvolvida pelo Facebook. Neste contexto, uma série temporal refere-se a um conjunto de dados que varia com o tempo, como as vendas de produtos ao longo de meses ou anos. É importante ressaltar que a escolhemos apenas como uma opção adicional ao nosso modelo para prever as vendas, já que não se mostrou tão precisa. Embora seja uma ferramenta poderosa e de fácil uso, é importante notar que o Prophet se mostrou limitado ao lidar com muitas variáveis ou dados complexos, já que ele considera apenas duas colunas: de data e itens vendidos. "
			]
		},
		{
			"cell_type": "code",
			"execution_count": 17,
			"metadata": {},
			"outputs": [],
			"source": [
				"# Cria uma coluna 'ds' que representa a data da venda de cada SKU\n",
				"df['ds'] = pd.to_datetime(df[['year', 'month', 'day']])"
			]
		},
		{
			"cell_type": "code",
			"execution_count": 18,
			"metadata": {},
			"outputs": [],
			"source": [
				"# Renomeia a coluna 'items_sold' para 'y' (convenção do Prophet)\n",
				"df.rename(columns={'items_sold': 'y'}, inplace=True)"
			]
		},
		{
			"cell_type": "code",
			"execution_count": 19,
			"metadata": {},
			"outputs": [],
			"source": [
				"# Cria um modelo Prophet\n",
				"model = Prophet()"
			]
		},
		{
			"cell_type": "code",
			"execution_count": 20,
			"metadata": {},
			"outputs": [],
			"source": [
				"# Ajusta o modelo aos seus dados\n",
				"model.fit(df)"
			]
		},
		{
			"cell_type": "code",
			"execution_count": null,
			"metadata": {},
			"outputs": [],
			"source": [
				"# Cria um DataFrame com as datas futuras para previsão\n",
				"future = model.make_future_dataframe(periods=365)  # 365 dias no futuro"
			]
		},
		{
			"cell_type": "code",
			"execution_count": null,
			"metadata": {},
			"outputs": [
				{
					"data": {
						"image/png": "[encoded data removed]",
						"text/plain": [
							"<Figure size 1000x600 with 1 Axes>"
						]
					},
					"metadata": {},
					"output_type": "display_data"
				}
			],
			"source": [
				"# Realiza as previsões\n",
				"forecast = model.predict(future)\n",
				"\n",
				"# Exibe as previsões geradas\n",
				"fig = model.plot(forecast)"
			]
		},
		{
			"cell_type": "markdown",
			"metadata": {},
			"source": [
				"## Métricas de Avaliação"
			]
		},
		{
			"cell_type": "markdown",
			"metadata": {},
			"source": [
				"As métricas desempenham um papel essencial na avaliação de modelos de regressão supervisionados, fornecendo uma avaliação quantitativa do desempenho e da qualidade das previsões. Em um modelo de regressão, o objetivo principal é criar uma relação entre variáveis de entrada e variáveis de saída, permitindo que o modelo faça previsões precisas com base nos dados de treinamento. Sabendo disso, pensamos em 4 métricas para o nosso modelo, sendo elas:\n",
				"\n",
				"1. **MAE (Erro Absoluto Médio):** O Erro Absoluto Médio (MAE) foi selecionado como uma métrica de avaliação para nosso modelo de regressão supervisionado devido às suas características valiosas. De acordo com o artigo de Padhma, o MAE mede a média das diferenças absolutas entre as previsões do modelo e os valores reais, independentemente de serem erros positivos ou negativos, algo evidenciado na figura 38. Esta escolha é relevante para nosso contexto, onde estamos interessados em avaliar a precisão média das previsões sem favorecer erros positivos ou negativos. Ao utilizar o MAE como métrica de avaliação, garantimos que nosso modelo seja sensível a todos os tipos de erros, o que é importante para entender como nossas previsões se desviam dos valores reais em termos de magnitude média.\n",
				"\n",
				"2. **MSE (Erro Quadrático Médio):** O Erro Quadrático Médio (MSE) foi escolhido como uma métrica adicional para a avaliação do nosso modelo de regressão supervisionado. Optamos por incluir o MSE devido à sua capacidade de penalizar erros maiores de forma mais significativa, o que é relevante para nossa necessidade de identificar previsões que tenham erros consideráveis. A inclusão do MSE como métrica complementar ao MAE permite que tenhamos uma visão mais abrangente do desempenho do modelo. E segundo Padhma, o MSE leva em consideração a magnitude dos erros e, ao elevar os erros ao quadrado, conforme evidencia a figura 39, proporciona maior peso a erros maiores, fornecendo uma perspectiva mais sensível a previsões imprecisas.\n",
				"\n",
				"3. **RMSE (Raiz quadrada do erro-médio):** O RMSE foi escolhido com métrica para o nosso modelo, ele desempenha um papel fundamental ao quantificar a diferença entre os valores previstos pelo modelo e os valores reais observados. Padhma diz que o cálculo do RMSE envolve a determinação da raiz quadrada da média dos erros ao quadrado, algo mostrado na figura 40, o que resulta em uma medida que expressa a dispersão dos erros de previsão. A utilidade do RMSE se mostra na capacidade de refletir a magnitude dos erros cometidos pelo modelo em relação aos dados reais. Um RMSE baixo indica que o modelo está produzindo previsões próximas aos valores reais, enquanto um RMSE elevado sugere que há espaço para melhorias no ajuste do modelo.\n",
				"\n",
				"3. **R² Score (Coeficiente de Determinação):** O Coeficiente de Determinação foi escolhido como a métrica principal para a avaliação do nosso modelo e, de acordo com o artigo de Benjamin, O R² varia de 0 a 1, onde valores próximos de 1 indicam que o modelo é capaz de explicar uma grande parte da variação nos dados, enquanto valores próximos de 0 indicam que o modelo não está explicando bem a variabilidade. A importância do R² se dá na sua capacidade de fornecer uma visão panorâmica da qualidade global do ajuste do modelo. Ele não se concentra na magnitude dos erros individuais, mas sim na capacidade do modelo de explicar as variações totais nos dados. A figura 41 evidencia a fórmula utilizada para calcular o R² Score.\n",
				"\n",
				"Em resumo, a escolha cuidadosa das métricas é fundamental para a avaliação do modelo. O uso dessas métricas permite quantificar o desempenho do modelo, destacando sua capacidade de fazer previsões precisas e capturar relacionamentos entre variáveis. Ao adotar métricas adequadas e interpretar seus resultados de maneira significativa, o grupo consegue ajustar parâmetros do modelo e garantir que ele atenda aos requisitos específicos do projeto. Dessa forma, as métricas se tornam ferramentas valiosas para orientar o desenvolvimento e a otimização do modelo."
			]
		},
		{
			"cell_type": "markdown",
			"metadata": {},
			"source": [
				"## Análise do Modelo Candidato"
			]
		},
		{
			"cell_type": "markdown",
			"metadata": {},
			"source": [
				"### Apresentação do Modelo Candidato"
			]
		},
		{
			"cell_type": "markdown",
			"metadata": {},
			"source": [
				"Após realizarmos a modelagem do problema no tópico **Testes de diferentes modelos**, escolhemos utilizar para o desenvolvimento do modelo preditivo para a Mobly o algoritmo **Random Forest**.\n",
				"O Random Forest é um algoritmo que seleciona subconjuntos de features e, a partir deles, é possível formar diversas mini árvores de decisão. Sendo assim, o algoritmo, por meio de suas diversas árvores de decisão, consegue produzir previsões mais robustas e precisas.\n",
				"Em relação ao contexto do projeto, que é prever a quantidade de itens de um determinado SKU em um certo período, o Random Forest demonstrou ser um algoritmo compatível com o objetivo do projeto, haja vista que:\n",
				"* A base de dados fornecida pela Mobly possui várias features com diferentes características, algo que o Random Forest tem facilidade de lidar para realizar a previsão;\n",
				"* O Random Forest ajuda a reduzir o risco de overfitting devido à presença da combinação de diferentes árvores de decisão, algo importante para que o modelo consiga se ajustar, de forma equilibrada, tanto aos dados de teste quanto aos dados de treino, gerando, então, uma generalização dos dados balanceada e previsões confiáveis;\n",
				"* O Random Forest consegue lidar, de forma robusta, com a presença de outliers nos dados que estão sendo utilizados para formular o modelo, algo que ajuda a diminuir os impactos nas previsões.\n",
				"Portanto, após todas essas análises mais profundas sobre o Random Forest, é visível que tal algoritmo se destaca para solucionar o problema do projeto em questão e, por isso, escolhemos tal algoritmo para que ele seja o nosso modelo candidato. Ademais, no tópico a seguir será destacado os seus resultados em comparação com os outros modelos que testamos no tópico **Testes de diferentes modelos**. "
			]
		},
		{
			"cell_type": "markdown",
			"metadata": {},
			"source": [
				"### Discussão sobre os resultados do modelo candidato"
			]
		},
		{
			"cell_type": "markdown",
			"metadata": {},
			"source": [
				"Como destacado no tópico anterior, escolhemos o Random Forest como o nosso modelo candidato para prever a quantidade de itens vendidos durante um período e, por isso, buscamos analisar de forma mais detalhada as métricas de avaliação dos seus resultados, algo que é de suma importância para o objetivo do projeto desenvolvido para a Mobly. \n",
				"\n",
				"Em princípio, as métricas utilizadas para avaliar tal desempenho do modelo foram aquelas destacadas no tópico **Métricas**, que são: MAE (Erro Absoluto Médio), MSE (Erro Quadrático Médio), RMSE (Raiz Quadrada do Erro Médio) e R^2 Score (Coeficiente de Determinação). É válido destacar que, diante dessas quatro métricas, a que mais prezamos para avaliar o desempenho do Random Forest treinado foi a _R² Score_, dado que ela é fácil de interpretar e de entender, além de que consegue expressar uma medida da qualidade geral do modelo, haja vista que tal métrica explica a variabilidade presente nos dados de saída gerados pelo modelo. \n",
				"\n",
				"Sendo assim, mesmo prezando pela _R² Score_, realizamos a análise de todas as métricas citadas, pois são fundamentais para fornecer uma avaliação quantitativa da qualidade das previsões geradas pelo modelo, decidimos treinar o modelo Random Forest e analisar tais métricas aplicadas ao modelo e, assim, obtemos os seguintes resultados:\n",
				"* **MAE:** 1.537142967017472\n",
				"* **MSE:** 11.464828062709106\n",
				"* **RMSE:** 3.385975201136167\n",
				"* **R² Score:** 0.6854606655019839\n",
				"\n",
				"Tendo esses números de cada métrica de avaliação em vista, é importante destacar qual a importância de tais resultados. Em relação ao MAE, como ele representa a média das diferenças absolutas entre as previsões, o valor do MAE de aproximadamente 1,54 sugere que, em média, o modelo desenvolvido consegue prever a quantidade de itens vendidos por SKU com um erro absoluto de cerca de 1,54 unidades. Isso sugere que as previsões geradas pelo modelo estão, de certa forma, precisas, haja vista que, quanto mais próximo de zero o valor do MAE estiver, mais preciso é o modelo.\n",
				"\n",
				"Sobre o MSE, como ele calcula a média dos quadrados das diferenças entre as previsões geradas pelo modelo e os valores reais, o valor do MSE de aproximadamente 11,46 indica que o modelo tem um erro médio quadrático de cerca de 11,46 unidades. Isso sugere que o modelo contém erros médios significativos, podendo ser um ponto de alerta para que o modelo preditivo desenvolvido seja mais preciso do que isso. Sendo assim, o próximo passo será ajustar tal modelo candidato para que essa métrica de avaliação possa ser otimizada.\n",
				"\n",
				"No que diz respeito ao RMSE, o qual calcula a raiz quadrada do MSE, o seu valor de aproximadamente 3,39 unidades de quantidade de itens vendidos indica que o modelo erra em cerca de 3,39 unidades em suas previsões. Isso indica que o modelo está gerando previsões que ainda não alcançaram o estágio de precisão desejado, o que evidencia que o modelo está no caminho certo, porém precisa passar por alguns processos de melhorias e otimização.\n",
				"\n",
				"No que tange o _R² Score_, como ele consegue fornecer a proporção da variação dos dados, o valor de _R² Score_ de cerca de 0,69 significa que o modelo desenvolvido é capaz de explicar 69% das variações presentes nos dados de vendas. Com isso, é possível observar que o modelo apresenta um desempenho razoavelmente bom, haja vista que, quanto mais próximo o valor de _R² Score_ estiver de 1, mais o modelo consegue explicar as variações presentes nos dados e, seguindo essa linha, o modelo treinado e desenvolvido até então está conseguindo explicar mais da metade da variabilidade presente nos dados, indicando que tal modelo candidato está conseguindo capturar determinados padrões de dados de forma coerente. \n",
				"\n",
				"Por fim, é válido ressaltar a diferença entre a métrica de avaliação _R² Score_ do modelo candidato e essa mesma métrica dos outros modelos de teste. Nesse sentido, o _R² Score_ do modelo de Regressão Linear apresentou o valor de, aproximadamente, 0,30, o que significa que o modelo só consegue explicar 30% das variações presentes nos dados gerados pelo modelo. Esse valor em comparação com o _R² Score_ do modelo de Random Forest (0,69 ou 69% aproximadamente) demonstra que esse modelo é bem mais preciso que o modelo de Regressão Linear. O modelo de Árvore de Decisão apresentou o valor de _R² Score_ de aproximadamente 0,27, indicando que tal modelo só consegue explicar 27% das variabilidades dos dados de saída. Esse valor em comparação com o _R² Score_ do modelo de Random Forest (0,69 ou 69% aproximadamente) demonstra que esse modelo é bem mais preciso que o modelo de Árvore de decisão.\t \n"
			]
		},
		{
			"cell_type": "code",
			"execution_count": null,
			"metadata": {},
			"outputs": [],
			"source": [
				"# Baixa o dataframe na pasta do notebook atual\n",
				"df.to_csv('mobly_data.csv', index=False)"
			]
		}
	],
	"metadata": {
		"colab": {
			"collapsed_sections": [
				"nVd_HqqplaQP"
			],
			"provenance": []
		},
		"kernelspec": {
			"display_name": "Python 3",
			"name": "python3"
		},
		"language_info": {
			"codemirror_mode": {
				"name": "ipython",
				"version": 3
			},
			"file_extension": ".py",
			"mimetype": "text/x-python",
			"name": "python",
			"nbconvert_exporter": "python",
			"pygments_lexer": "ipython3",
			"version": "3.11.4"
		}
	},
	"nbformat": 4,
	"nbformat_minor": 0
}
